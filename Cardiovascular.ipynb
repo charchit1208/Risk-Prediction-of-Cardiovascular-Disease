{
 "cells": [
  {
   "cell_type": "markdown",
   "id": "ff0f293e",
   "metadata": {},
   "source": [
    "## Import Libraries"
   ]
  },
  {
   "cell_type": "code",
   "execution_count": 1,
   "id": "cd092ca2",
   "metadata": {},
   "outputs": [],
   "source": [
    "import pandas as pd\n",
    "import numpy as np\n",
    "import matplotlib.pyplot as plt \n",
    "import seaborn as sns"
   ]
  },
  {
   "cell_type": "markdown",
   "id": "ba2b1ed5",
   "metadata": {},
   "source": [
    "## Add Headings"
   ]
  },
  {
   "cell_type": "code",
   "execution_count": 2,
   "id": "7d4e70cb",
   "metadata": {},
   "outputs": [],
   "source": [
    "headings = [\"age\",\"sex\",\"cp\",\"trestbps\",\"chol\",\"fbs\",\"restecg\",\"thalach\",\"exang\",\"oldpeak\",\"slope\",\"ca\",\"thal\",\"heart_disease\"]"
   ]
  },
  {
   "cell_type": "code",
   "execution_count": 3,
   "id": "3b842026",
   "metadata": {},
   "outputs": [],
   "source": [
    "cleveland = pd.read_csv(\"processed.cleveland.data\", names = headings, delimiter = \",\")\n",
    "hungarian = pd.read_csv(\"processed.hungarian.data\", names = headings, delimiter = \",\")\n",
    "switzerland = pd.read_csv(\"processed.switzerland.data\", names = headings, delimiter = \",\")"
   ]
  },
  {
   "cell_type": "code",
   "execution_count": 4,
   "id": "1f5a51ff",
   "metadata": {},
   "outputs": [
    {
     "data": {
      "text/html": [
       "<div>\n",
       "<style scoped>\n",
       "    .dataframe tbody tr th:only-of-type {\n",
       "        vertical-align: middle;\n",
       "    }\n",
       "\n",
       "    .dataframe tbody tr th {\n",
       "        vertical-align: top;\n",
       "    }\n",
       "\n",
       "    .dataframe thead th {\n",
       "        text-align: right;\n",
       "    }\n",
       "</style>\n",
       "<table border=\"1\" class=\"dataframe\">\n",
       "  <thead>\n",
       "    <tr style=\"text-align: right;\">\n",
       "      <th></th>\n",
       "      <th>age</th>\n",
       "      <th>sex</th>\n",
       "      <th>cp</th>\n",
       "      <th>trestbps</th>\n",
       "      <th>chol</th>\n",
       "      <th>fbs</th>\n",
       "      <th>restecg</th>\n",
       "      <th>thalach</th>\n",
       "      <th>exang</th>\n",
       "      <th>oldpeak</th>\n",
       "      <th>slope</th>\n",
       "      <th>ca</th>\n",
       "      <th>thal</th>\n",
       "      <th>heart_disease</th>\n",
       "    </tr>\n",
       "  </thead>\n",
       "  <tbody>\n",
       "    <tr>\n",
       "      <th>0</th>\n",
       "      <td>63.0</td>\n",
       "      <td>1.0</td>\n",
       "      <td>1.0</td>\n",
       "      <td>145.0</td>\n",
       "      <td>233.0</td>\n",
       "      <td>1.0</td>\n",
       "      <td>2.0</td>\n",
       "      <td>150.0</td>\n",
       "      <td>0.0</td>\n",
       "      <td>2.3</td>\n",
       "      <td>3.0</td>\n",
       "      <td>0.0</td>\n",
       "      <td>6.0</td>\n",
       "      <td>0</td>\n",
       "    </tr>\n",
       "    <tr>\n",
       "      <th>1</th>\n",
       "      <td>67.0</td>\n",
       "      <td>1.0</td>\n",
       "      <td>4.0</td>\n",
       "      <td>160.0</td>\n",
       "      <td>286.0</td>\n",
       "      <td>0.0</td>\n",
       "      <td>2.0</td>\n",
       "      <td>108.0</td>\n",
       "      <td>1.0</td>\n",
       "      <td>1.5</td>\n",
       "      <td>2.0</td>\n",
       "      <td>3.0</td>\n",
       "      <td>3.0</td>\n",
       "      <td>2</td>\n",
       "    </tr>\n",
       "    <tr>\n",
       "      <th>2</th>\n",
       "      <td>67.0</td>\n",
       "      <td>1.0</td>\n",
       "      <td>4.0</td>\n",
       "      <td>120.0</td>\n",
       "      <td>229.0</td>\n",
       "      <td>0.0</td>\n",
       "      <td>2.0</td>\n",
       "      <td>129.0</td>\n",
       "      <td>1.0</td>\n",
       "      <td>2.6</td>\n",
       "      <td>2.0</td>\n",
       "      <td>2.0</td>\n",
       "      <td>7.0</td>\n",
       "      <td>1</td>\n",
       "    </tr>\n",
       "    <tr>\n",
       "      <th>3</th>\n",
       "      <td>37.0</td>\n",
       "      <td>1.0</td>\n",
       "      <td>3.0</td>\n",
       "      <td>130.0</td>\n",
       "      <td>250.0</td>\n",
       "      <td>0.0</td>\n",
       "      <td>0.0</td>\n",
       "      <td>187.0</td>\n",
       "      <td>0.0</td>\n",
       "      <td>3.5</td>\n",
       "      <td>3.0</td>\n",
       "      <td>0.0</td>\n",
       "      <td>3.0</td>\n",
       "      <td>0</td>\n",
       "    </tr>\n",
       "    <tr>\n",
       "      <th>4</th>\n",
       "      <td>41.0</td>\n",
       "      <td>0.0</td>\n",
       "      <td>2.0</td>\n",
       "      <td>130.0</td>\n",
       "      <td>204.0</td>\n",
       "      <td>0.0</td>\n",
       "      <td>2.0</td>\n",
       "      <td>172.0</td>\n",
       "      <td>0.0</td>\n",
       "      <td>1.4</td>\n",
       "      <td>1.0</td>\n",
       "      <td>0.0</td>\n",
       "      <td>3.0</td>\n",
       "      <td>0</td>\n",
       "    </tr>\n",
       "  </tbody>\n",
       "</table>\n",
       "</div>"
      ],
      "text/plain": [
       "    age  sex   cp trestbps   chol  fbs restecg thalach exang oldpeak slope  \\\n",
       "0  63.0  1.0  1.0    145.0  233.0  1.0     2.0   150.0   0.0     2.3   3.0   \n",
       "1  67.0  1.0  4.0    160.0  286.0  0.0     2.0   108.0   1.0     1.5   2.0   \n",
       "2  67.0  1.0  4.0    120.0  229.0  0.0     2.0   129.0   1.0     2.6   2.0   \n",
       "3  37.0  1.0  3.0    130.0  250.0  0.0     0.0   187.0   0.0     3.5   3.0   \n",
       "4  41.0  0.0  2.0    130.0  204.0  0.0     2.0   172.0   0.0     1.4   1.0   \n",
       "\n",
       "    ca thal  heart_disease  \n",
       "0  0.0  6.0              0  \n",
       "1  3.0  3.0              2  \n",
       "2  2.0  7.0              1  \n",
       "3  0.0  3.0              0  \n",
       "4  0.0  3.0              0  "
      ]
     },
     "execution_count": 4,
     "metadata": {},
     "output_type": "execute_result"
    }
   ],
   "source": [
    "merged_dataset = pd.concat([cleveland, hungarian, switzerland])\n",
    "merged_dataset.head()"
   ]
  },
  {
   "cell_type": "code",
   "execution_count": 5,
   "id": "fa3beccb",
   "metadata": {},
   "outputs": [
    {
     "data": {
      "text/html": [
       "<div>\n",
       "<style scoped>\n",
       "    .dataframe tbody tr th:only-of-type {\n",
       "        vertical-align: middle;\n",
       "    }\n",
       "\n",
       "    .dataframe tbody tr th {\n",
       "        vertical-align: top;\n",
       "    }\n",
       "\n",
       "    .dataframe thead th {\n",
       "        text-align: right;\n",
       "    }\n",
       "</style>\n",
       "<table border=\"1\" class=\"dataframe\">\n",
       "  <thead>\n",
       "    <tr style=\"text-align: right;\">\n",
       "      <th></th>\n",
       "      <th>age</th>\n",
       "      <th>sex</th>\n",
       "      <th>cp</th>\n",
       "      <th>trestbps</th>\n",
       "      <th>chol</th>\n",
       "      <th>fbs</th>\n",
       "      <th>restecg</th>\n",
       "      <th>thalach</th>\n",
       "      <th>exang</th>\n",
       "      <th>oldpeak</th>\n",
       "      <th>slope</th>\n",
       "      <th>ca</th>\n",
       "      <th>thal</th>\n",
       "      <th>heart_disease</th>\n",
       "    </tr>\n",
       "  </thead>\n",
       "  <tbody>\n",
       "    <tr>\n",
       "      <th>0</th>\n",
       "      <td>63.0</td>\n",
       "      <td>1.0</td>\n",
       "      <td>1.0</td>\n",
       "      <td>145.0</td>\n",
       "      <td>233.0</td>\n",
       "      <td>1.0</td>\n",
       "      <td>2.0</td>\n",
       "      <td>150.0</td>\n",
       "      <td>0.0</td>\n",
       "      <td>2.3</td>\n",
       "      <td>3.0</td>\n",
       "      <td>0.0</td>\n",
       "      <td>6.0</td>\n",
       "      <td>0</td>\n",
       "    </tr>\n",
       "    <tr>\n",
       "      <th>1</th>\n",
       "      <td>67.0</td>\n",
       "      <td>1.0</td>\n",
       "      <td>4.0</td>\n",
       "      <td>160.0</td>\n",
       "      <td>286.0</td>\n",
       "      <td>0.0</td>\n",
       "      <td>2.0</td>\n",
       "      <td>108.0</td>\n",
       "      <td>1.0</td>\n",
       "      <td>1.5</td>\n",
       "      <td>2.0</td>\n",
       "      <td>3.0</td>\n",
       "      <td>3.0</td>\n",
       "      <td>2</td>\n",
       "    </tr>\n",
       "    <tr>\n",
       "      <th>2</th>\n",
       "      <td>67.0</td>\n",
       "      <td>1.0</td>\n",
       "      <td>4.0</td>\n",
       "      <td>120.0</td>\n",
       "      <td>229.0</td>\n",
       "      <td>0.0</td>\n",
       "      <td>2.0</td>\n",
       "      <td>129.0</td>\n",
       "      <td>1.0</td>\n",
       "      <td>2.6</td>\n",
       "      <td>2.0</td>\n",
       "      <td>2.0</td>\n",
       "      <td>7.0</td>\n",
       "      <td>1</td>\n",
       "    </tr>\n",
       "    <tr>\n",
       "      <th>3</th>\n",
       "      <td>37.0</td>\n",
       "      <td>1.0</td>\n",
       "      <td>3.0</td>\n",
       "      <td>130.0</td>\n",
       "      <td>250.0</td>\n",
       "      <td>0.0</td>\n",
       "      <td>0.0</td>\n",
       "      <td>187.0</td>\n",
       "      <td>0.0</td>\n",
       "      <td>3.5</td>\n",
       "      <td>3.0</td>\n",
       "      <td>0.0</td>\n",
       "      <td>3.0</td>\n",
       "      <td>0</td>\n",
       "    </tr>\n",
       "    <tr>\n",
       "      <th>4</th>\n",
       "      <td>41.0</td>\n",
       "      <td>0.0</td>\n",
       "      <td>2.0</td>\n",
       "      <td>130.0</td>\n",
       "      <td>204.0</td>\n",
       "      <td>0.0</td>\n",
       "      <td>2.0</td>\n",
       "      <td>172.0</td>\n",
       "      <td>0.0</td>\n",
       "      <td>1.4</td>\n",
       "      <td>1.0</td>\n",
       "      <td>0.0</td>\n",
       "      <td>3.0</td>\n",
       "      <td>0</td>\n",
       "    </tr>\n",
       "    <tr>\n",
       "      <th>...</th>\n",
       "      <td>...</td>\n",
       "      <td>...</td>\n",
       "      <td>...</td>\n",
       "      <td>...</td>\n",
       "      <td>...</td>\n",
       "      <td>...</td>\n",
       "      <td>...</td>\n",
       "      <td>...</td>\n",
       "      <td>...</td>\n",
       "      <td>...</td>\n",
       "      <td>...</td>\n",
       "      <td>...</td>\n",
       "      <td>...</td>\n",
       "      <td>...</td>\n",
       "    </tr>\n",
       "    <tr>\n",
       "      <th>715</th>\n",
       "      <td>70.0</td>\n",
       "      <td>1.0</td>\n",
       "      <td>4.0</td>\n",
       "      <td>115</td>\n",
       "      <td>0</td>\n",
       "      <td>0</td>\n",
       "      <td>1</td>\n",
       "      <td>92</td>\n",
       "      <td>1</td>\n",
       "      <td>0</td>\n",
       "      <td>2</td>\n",
       "      <td>?</td>\n",
       "      <td>7</td>\n",
       "      <td>1</td>\n",
       "    </tr>\n",
       "    <tr>\n",
       "      <th>716</th>\n",
       "      <td>70.0</td>\n",
       "      <td>1.0</td>\n",
       "      <td>4.0</td>\n",
       "      <td>140</td>\n",
       "      <td>0</td>\n",
       "      <td>1</td>\n",
       "      <td>0</td>\n",
       "      <td>157</td>\n",
       "      <td>1</td>\n",
       "      <td>2</td>\n",
       "      <td>2</td>\n",
       "      <td>?</td>\n",
       "      <td>7</td>\n",
       "      <td>3</td>\n",
       "    </tr>\n",
       "    <tr>\n",
       "      <th>717</th>\n",
       "      <td>72.0</td>\n",
       "      <td>1.0</td>\n",
       "      <td>3.0</td>\n",
       "      <td>160</td>\n",
       "      <td>0</td>\n",
       "      <td>?</td>\n",
       "      <td>2</td>\n",
       "      <td>114</td>\n",
       "      <td>0</td>\n",
       "      <td>1.6</td>\n",
       "      <td>2</td>\n",
       "      <td>2</td>\n",
       "      <td>?</td>\n",
       "      <td>0</td>\n",
       "    </tr>\n",
       "    <tr>\n",
       "      <th>718</th>\n",
       "      <td>73.0</td>\n",
       "      <td>0.0</td>\n",
       "      <td>3.0</td>\n",
       "      <td>160</td>\n",
       "      <td>0</td>\n",
       "      <td>0</td>\n",
       "      <td>1</td>\n",
       "      <td>121</td>\n",
       "      <td>0</td>\n",
       "      <td>0</td>\n",
       "      <td>1</td>\n",
       "      <td>?</td>\n",
       "      <td>3</td>\n",
       "      <td>1</td>\n",
       "    </tr>\n",
       "    <tr>\n",
       "      <th>719</th>\n",
       "      <td>74.0</td>\n",
       "      <td>1.0</td>\n",
       "      <td>2.0</td>\n",
       "      <td>145</td>\n",
       "      <td>0</td>\n",
       "      <td>?</td>\n",
       "      <td>1</td>\n",
       "      <td>123</td>\n",
       "      <td>0</td>\n",
       "      <td>1.3</td>\n",
       "      <td>1</td>\n",
       "      <td>?</td>\n",
       "      <td>?</td>\n",
       "      <td>1</td>\n",
       "    </tr>\n",
       "  </tbody>\n",
       "</table>\n",
       "<p>720 rows × 14 columns</p>\n",
       "</div>"
      ],
      "text/plain": [
       "      age  sex   cp trestbps   chol  fbs restecg thalach exang oldpeak slope  \\\n",
       "0    63.0  1.0  1.0    145.0  233.0  1.0     2.0   150.0   0.0     2.3   3.0   \n",
       "1    67.0  1.0  4.0    160.0  286.0  0.0     2.0   108.0   1.0     1.5   2.0   \n",
       "2    67.0  1.0  4.0    120.0  229.0  0.0     2.0   129.0   1.0     2.6   2.0   \n",
       "3    37.0  1.0  3.0    130.0  250.0  0.0     0.0   187.0   0.0     3.5   3.0   \n",
       "4    41.0  0.0  2.0    130.0  204.0  0.0     2.0   172.0   0.0     1.4   1.0   \n",
       "..    ...  ...  ...      ...    ...  ...     ...     ...   ...     ...   ...   \n",
       "715  70.0  1.0  4.0      115      0    0       1      92     1       0     2   \n",
       "716  70.0  1.0  4.0      140      0    1       0     157     1       2     2   \n",
       "717  72.0  1.0  3.0      160      0    ?       2     114     0     1.6     2   \n",
       "718  73.0  0.0  3.0      160      0    0       1     121     0       0     1   \n",
       "719  74.0  1.0  2.0      145      0    ?       1     123     0     1.3     1   \n",
       "\n",
       "      ca thal  heart_disease  \n",
       "0    0.0  6.0              0  \n",
       "1    3.0  3.0              2  \n",
       "2    2.0  7.0              1  \n",
       "3    0.0  3.0              0  \n",
       "4    0.0  3.0              0  \n",
       "..   ...  ...            ...  \n",
       "715    ?    7              1  \n",
       "716    ?    7              3  \n",
       "717    2    ?              0  \n",
       "718    ?    3              1  \n",
       "719    ?    ?              1  \n",
       "\n",
       "[720 rows x 14 columns]"
      ]
     },
     "execution_count": 5,
     "metadata": {},
     "output_type": "execute_result"
    }
   ],
   "source": [
    "merge = merged_dataset.reset_index(drop = True)\n",
    "merge"
   ]
  },
  {
   "cell_type": "code",
   "execution_count": 6,
   "id": "65805e68",
   "metadata": {},
   "outputs": [],
   "source": [
    "merge.to_csv(\"cardiovascular.csv\")"
   ]
  },
  {
   "cell_type": "markdown",
   "id": "d9b6a57e",
   "metadata": {},
   "source": [
    "## Open a file"
   ]
  },
  {
   "cell_type": "code",
   "execution_count": 7,
   "id": "88acc0ed",
   "metadata": {},
   "outputs": [
    {
     "data": {
      "text/html": [
       "<div>\n",
       "<style scoped>\n",
       "    .dataframe tbody tr th:only-of-type {\n",
       "        vertical-align: middle;\n",
       "    }\n",
       "\n",
       "    .dataframe tbody tr th {\n",
       "        vertical-align: top;\n",
       "    }\n",
       "\n",
       "    .dataframe thead th {\n",
       "        text-align: right;\n",
       "    }\n",
       "</style>\n",
       "<table border=\"1\" class=\"dataframe\">\n",
       "  <thead>\n",
       "    <tr style=\"text-align: right;\">\n",
       "      <th></th>\n",
       "      <th>Unnamed: 0</th>\n",
       "      <th>age</th>\n",
       "      <th>sex</th>\n",
       "      <th>cp</th>\n",
       "      <th>trestbps</th>\n",
       "      <th>chol</th>\n",
       "      <th>fbs</th>\n",
       "      <th>restecg</th>\n",
       "      <th>thalach</th>\n",
       "      <th>exang</th>\n",
       "      <th>oldpeak</th>\n",
       "      <th>slope</th>\n",
       "      <th>ca</th>\n",
       "      <th>thal</th>\n",
       "      <th>heart_disease</th>\n",
       "    </tr>\n",
       "  </thead>\n",
       "  <tbody>\n",
       "    <tr>\n",
       "      <th>0</th>\n",
       "      <td>0</td>\n",
       "      <td>63.0</td>\n",
       "      <td>1.0</td>\n",
       "      <td>1.0</td>\n",
       "      <td>145.0</td>\n",
       "      <td>233.0</td>\n",
       "      <td>1.0</td>\n",
       "      <td>2.0</td>\n",
       "      <td>150.0</td>\n",
       "      <td>0.0</td>\n",
       "      <td>2.3</td>\n",
       "      <td>3.0</td>\n",
       "      <td>0.0</td>\n",
       "      <td>6.0</td>\n",
       "      <td>0</td>\n",
       "    </tr>\n",
       "    <tr>\n",
       "      <th>1</th>\n",
       "      <td>1</td>\n",
       "      <td>67.0</td>\n",
       "      <td>1.0</td>\n",
       "      <td>4.0</td>\n",
       "      <td>160.0</td>\n",
       "      <td>286.0</td>\n",
       "      <td>0.0</td>\n",
       "      <td>2.0</td>\n",
       "      <td>108.0</td>\n",
       "      <td>1.0</td>\n",
       "      <td>1.5</td>\n",
       "      <td>2.0</td>\n",
       "      <td>3.0</td>\n",
       "      <td>3.0</td>\n",
       "      <td>2</td>\n",
       "    </tr>\n",
       "    <tr>\n",
       "      <th>2</th>\n",
       "      <td>2</td>\n",
       "      <td>67.0</td>\n",
       "      <td>1.0</td>\n",
       "      <td>4.0</td>\n",
       "      <td>120.0</td>\n",
       "      <td>229.0</td>\n",
       "      <td>0.0</td>\n",
       "      <td>2.0</td>\n",
       "      <td>129.0</td>\n",
       "      <td>1.0</td>\n",
       "      <td>2.6</td>\n",
       "      <td>2.0</td>\n",
       "      <td>2.0</td>\n",
       "      <td>7.0</td>\n",
       "      <td>1</td>\n",
       "    </tr>\n",
       "    <tr>\n",
       "      <th>3</th>\n",
       "      <td>3</td>\n",
       "      <td>37.0</td>\n",
       "      <td>1.0</td>\n",
       "      <td>3.0</td>\n",
       "      <td>130.0</td>\n",
       "      <td>250.0</td>\n",
       "      <td>0.0</td>\n",
       "      <td>0.0</td>\n",
       "      <td>187.0</td>\n",
       "      <td>0.0</td>\n",
       "      <td>3.5</td>\n",
       "      <td>3.0</td>\n",
       "      <td>0.0</td>\n",
       "      <td>3.0</td>\n",
       "      <td>0</td>\n",
       "    </tr>\n",
       "    <tr>\n",
       "      <th>4</th>\n",
       "      <td>4</td>\n",
       "      <td>41.0</td>\n",
       "      <td>0.0</td>\n",
       "      <td>2.0</td>\n",
       "      <td>130.0</td>\n",
       "      <td>204.0</td>\n",
       "      <td>0.0</td>\n",
       "      <td>2.0</td>\n",
       "      <td>172.0</td>\n",
       "      <td>0.0</td>\n",
       "      <td>1.4</td>\n",
       "      <td>1.0</td>\n",
       "      <td>0.0</td>\n",
       "      <td>3.0</td>\n",
       "      <td>0</td>\n",
       "    </tr>\n",
       "    <tr>\n",
       "      <th>...</th>\n",
       "      <td>...</td>\n",
       "      <td>...</td>\n",
       "      <td>...</td>\n",
       "      <td>...</td>\n",
       "      <td>...</td>\n",
       "      <td>...</td>\n",
       "      <td>...</td>\n",
       "      <td>...</td>\n",
       "      <td>...</td>\n",
       "      <td>...</td>\n",
       "      <td>...</td>\n",
       "      <td>...</td>\n",
       "      <td>...</td>\n",
       "      <td>...</td>\n",
       "      <td>...</td>\n",
       "    </tr>\n",
       "    <tr>\n",
       "      <th>715</th>\n",
       "      <td>715</td>\n",
       "      <td>70.0</td>\n",
       "      <td>1.0</td>\n",
       "      <td>4.0</td>\n",
       "      <td>115</td>\n",
       "      <td>0</td>\n",
       "      <td>0</td>\n",
       "      <td>1</td>\n",
       "      <td>92</td>\n",
       "      <td>1</td>\n",
       "      <td>0</td>\n",
       "      <td>2</td>\n",
       "      <td>?</td>\n",
       "      <td>7</td>\n",
       "      <td>1</td>\n",
       "    </tr>\n",
       "    <tr>\n",
       "      <th>716</th>\n",
       "      <td>716</td>\n",
       "      <td>70.0</td>\n",
       "      <td>1.0</td>\n",
       "      <td>4.0</td>\n",
       "      <td>140</td>\n",
       "      <td>0</td>\n",
       "      <td>1</td>\n",
       "      <td>0</td>\n",
       "      <td>157</td>\n",
       "      <td>1</td>\n",
       "      <td>2</td>\n",
       "      <td>2</td>\n",
       "      <td>?</td>\n",
       "      <td>7</td>\n",
       "      <td>3</td>\n",
       "    </tr>\n",
       "    <tr>\n",
       "      <th>717</th>\n",
       "      <td>717</td>\n",
       "      <td>72.0</td>\n",
       "      <td>1.0</td>\n",
       "      <td>3.0</td>\n",
       "      <td>160</td>\n",
       "      <td>0</td>\n",
       "      <td>?</td>\n",
       "      <td>2</td>\n",
       "      <td>114</td>\n",
       "      <td>0</td>\n",
       "      <td>1.6</td>\n",
       "      <td>2</td>\n",
       "      <td>2</td>\n",
       "      <td>?</td>\n",
       "      <td>0</td>\n",
       "    </tr>\n",
       "    <tr>\n",
       "      <th>718</th>\n",
       "      <td>718</td>\n",
       "      <td>73.0</td>\n",
       "      <td>0.0</td>\n",
       "      <td>3.0</td>\n",
       "      <td>160</td>\n",
       "      <td>0</td>\n",
       "      <td>0</td>\n",
       "      <td>1</td>\n",
       "      <td>121</td>\n",
       "      <td>0</td>\n",
       "      <td>0</td>\n",
       "      <td>1</td>\n",
       "      <td>?</td>\n",
       "      <td>3</td>\n",
       "      <td>1</td>\n",
       "    </tr>\n",
       "    <tr>\n",
       "      <th>719</th>\n",
       "      <td>719</td>\n",
       "      <td>74.0</td>\n",
       "      <td>1.0</td>\n",
       "      <td>2.0</td>\n",
       "      <td>145</td>\n",
       "      <td>0</td>\n",
       "      <td>?</td>\n",
       "      <td>1</td>\n",
       "      <td>123</td>\n",
       "      <td>0</td>\n",
       "      <td>1.3</td>\n",
       "      <td>1</td>\n",
       "      <td>?</td>\n",
       "      <td>?</td>\n",
       "      <td>1</td>\n",
       "    </tr>\n",
       "  </tbody>\n",
       "</table>\n",
       "<p>720 rows × 15 columns</p>\n",
       "</div>"
      ],
      "text/plain": [
       "     Unnamed: 0   age  sex   cp trestbps   chol  fbs restecg thalach exang  \\\n",
       "0             0  63.0  1.0  1.0    145.0  233.0  1.0     2.0   150.0   0.0   \n",
       "1             1  67.0  1.0  4.0    160.0  286.0  0.0     2.0   108.0   1.0   \n",
       "2             2  67.0  1.0  4.0    120.0  229.0  0.0     2.0   129.0   1.0   \n",
       "3             3  37.0  1.0  3.0    130.0  250.0  0.0     0.0   187.0   0.0   \n",
       "4             4  41.0  0.0  2.0    130.0  204.0  0.0     2.0   172.0   0.0   \n",
       "..          ...   ...  ...  ...      ...    ...  ...     ...     ...   ...   \n",
       "715         715  70.0  1.0  4.0      115      0    0       1      92     1   \n",
       "716         716  70.0  1.0  4.0      140      0    1       0     157     1   \n",
       "717         717  72.0  1.0  3.0      160      0    ?       2     114     0   \n",
       "718         718  73.0  0.0  3.0      160      0    0       1     121     0   \n",
       "719         719  74.0  1.0  2.0      145      0    ?       1     123     0   \n",
       "\n",
       "    oldpeak slope   ca thal  heart_disease  \n",
       "0       2.3   3.0  0.0  6.0              0  \n",
       "1       1.5   2.0  3.0  3.0              2  \n",
       "2       2.6   2.0  2.0  7.0              1  \n",
       "3       3.5   3.0  0.0  3.0              0  \n",
       "4       1.4   1.0  0.0  3.0              0  \n",
       "..      ...   ...  ...  ...            ...  \n",
       "715       0     2    ?    7              1  \n",
       "716       2     2    ?    7              3  \n",
       "717     1.6     2    2    ?              0  \n",
       "718       0     1    ?    3              1  \n",
       "719     1.3     1    ?    ?              1  \n",
       "\n",
       "[720 rows x 15 columns]"
      ]
     },
     "execution_count": 7,
     "metadata": {},
     "output_type": "execute_result"
    }
   ],
   "source": [
    "cardiovascular = pd.read_csv(\"cardiovascular.csv\")\n",
    "cardiovascular"
   ]
  },
  {
   "cell_type": "code",
   "execution_count": 8,
   "id": "9d79f46f",
   "metadata": {},
   "outputs": [
    {
     "data": {
      "text/plain": [
       "Index(['Unnamed: 0', 'age', 'sex', 'cp', 'trestbps', 'chol', 'fbs', 'restecg',\n",
       "       'thalach', 'exang', 'oldpeak', 'slope', 'ca', 'thal', 'heart_disease'],\n",
       "      dtype='object')"
      ]
     },
     "execution_count": 8,
     "metadata": {},
     "output_type": "execute_result"
    }
   ],
   "source": [
    "cardiovascular.columns"
   ]
  },
  {
   "cell_type": "code",
   "execution_count": 9,
   "id": "29af93ea",
   "metadata": {},
   "outputs": [],
   "source": [
    "del cardiovascular[cardiovascular.columns[0]]"
   ]
  },
  {
   "cell_type": "code",
   "execution_count": 10,
   "id": "58a055e5",
   "metadata": {},
   "outputs": [
    {
     "data": {
      "text/html": [
       "<div>\n",
       "<style scoped>\n",
       "    .dataframe tbody tr th:only-of-type {\n",
       "        vertical-align: middle;\n",
       "    }\n",
       "\n",
       "    .dataframe tbody tr th {\n",
       "        vertical-align: top;\n",
       "    }\n",
       "\n",
       "    .dataframe thead th {\n",
       "        text-align: right;\n",
       "    }\n",
       "</style>\n",
       "<table border=\"1\" class=\"dataframe\">\n",
       "  <thead>\n",
       "    <tr style=\"text-align: right;\">\n",
       "      <th></th>\n",
       "      <th>age</th>\n",
       "      <th>sex</th>\n",
       "      <th>cp</th>\n",
       "      <th>trestbps</th>\n",
       "      <th>chol</th>\n",
       "      <th>fbs</th>\n",
       "      <th>restecg</th>\n",
       "      <th>thalach</th>\n",
       "      <th>exang</th>\n",
       "      <th>oldpeak</th>\n",
       "      <th>slope</th>\n",
       "      <th>ca</th>\n",
       "      <th>thal</th>\n",
       "      <th>heart_disease</th>\n",
       "    </tr>\n",
       "  </thead>\n",
       "  <tbody>\n",
       "    <tr>\n",
       "      <th>0</th>\n",
       "      <td>63.0</td>\n",
       "      <td>1.0</td>\n",
       "      <td>1.0</td>\n",
       "      <td>145.0</td>\n",
       "      <td>233.0</td>\n",
       "      <td>1.0</td>\n",
       "      <td>2.0</td>\n",
       "      <td>150.0</td>\n",
       "      <td>0.0</td>\n",
       "      <td>2.3</td>\n",
       "      <td>3.0</td>\n",
       "      <td>0.0</td>\n",
       "      <td>6.0</td>\n",
       "      <td>0</td>\n",
       "    </tr>\n",
       "    <tr>\n",
       "      <th>1</th>\n",
       "      <td>67.0</td>\n",
       "      <td>1.0</td>\n",
       "      <td>4.0</td>\n",
       "      <td>160.0</td>\n",
       "      <td>286.0</td>\n",
       "      <td>0.0</td>\n",
       "      <td>2.0</td>\n",
       "      <td>108.0</td>\n",
       "      <td>1.0</td>\n",
       "      <td>1.5</td>\n",
       "      <td>2.0</td>\n",
       "      <td>3.0</td>\n",
       "      <td>3.0</td>\n",
       "      <td>2</td>\n",
       "    </tr>\n",
       "    <tr>\n",
       "      <th>2</th>\n",
       "      <td>67.0</td>\n",
       "      <td>1.0</td>\n",
       "      <td>4.0</td>\n",
       "      <td>120.0</td>\n",
       "      <td>229.0</td>\n",
       "      <td>0.0</td>\n",
       "      <td>2.0</td>\n",
       "      <td>129.0</td>\n",
       "      <td>1.0</td>\n",
       "      <td>2.6</td>\n",
       "      <td>2.0</td>\n",
       "      <td>2.0</td>\n",
       "      <td>7.0</td>\n",
       "      <td>1</td>\n",
       "    </tr>\n",
       "    <tr>\n",
       "      <th>3</th>\n",
       "      <td>37.0</td>\n",
       "      <td>1.0</td>\n",
       "      <td>3.0</td>\n",
       "      <td>130.0</td>\n",
       "      <td>250.0</td>\n",
       "      <td>0.0</td>\n",
       "      <td>0.0</td>\n",
       "      <td>187.0</td>\n",
       "      <td>0.0</td>\n",
       "      <td>3.5</td>\n",
       "      <td>3.0</td>\n",
       "      <td>0.0</td>\n",
       "      <td>3.0</td>\n",
       "      <td>0</td>\n",
       "    </tr>\n",
       "    <tr>\n",
       "      <th>4</th>\n",
       "      <td>41.0</td>\n",
       "      <td>0.0</td>\n",
       "      <td>2.0</td>\n",
       "      <td>130.0</td>\n",
       "      <td>204.0</td>\n",
       "      <td>0.0</td>\n",
       "      <td>2.0</td>\n",
       "      <td>172.0</td>\n",
       "      <td>0.0</td>\n",
       "      <td>1.4</td>\n",
       "      <td>1.0</td>\n",
       "      <td>0.0</td>\n",
       "      <td>3.0</td>\n",
       "      <td>0</td>\n",
       "    </tr>\n",
       "    <tr>\n",
       "      <th>...</th>\n",
       "      <td>...</td>\n",
       "      <td>...</td>\n",
       "      <td>...</td>\n",
       "      <td>...</td>\n",
       "      <td>...</td>\n",
       "      <td>...</td>\n",
       "      <td>...</td>\n",
       "      <td>...</td>\n",
       "      <td>...</td>\n",
       "      <td>...</td>\n",
       "      <td>...</td>\n",
       "      <td>...</td>\n",
       "      <td>...</td>\n",
       "      <td>...</td>\n",
       "    </tr>\n",
       "    <tr>\n",
       "      <th>715</th>\n",
       "      <td>70.0</td>\n",
       "      <td>1.0</td>\n",
       "      <td>4.0</td>\n",
       "      <td>115</td>\n",
       "      <td>0</td>\n",
       "      <td>0</td>\n",
       "      <td>1</td>\n",
       "      <td>92</td>\n",
       "      <td>1</td>\n",
       "      <td>0</td>\n",
       "      <td>2</td>\n",
       "      <td>?</td>\n",
       "      <td>7</td>\n",
       "      <td>1</td>\n",
       "    </tr>\n",
       "    <tr>\n",
       "      <th>716</th>\n",
       "      <td>70.0</td>\n",
       "      <td>1.0</td>\n",
       "      <td>4.0</td>\n",
       "      <td>140</td>\n",
       "      <td>0</td>\n",
       "      <td>1</td>\n",
       "      <td>0</td>\n",
       "      <td>157</td>\n",
       "      <td>1</td>\n",
       "      <td>2</td>\n",
       "      <td>2</td>\n",
       "      <td>?</td>\n",
       "      <td>7</td>\n",
       "      <td>3</td>\n",
       "    </tr>\n",
       "    <tr>\n",
       "      <th>717</th>\n",
       "      <td>72.0</td>\n",
       "      <td>1.0</td>\n",
       "      <td>3.0</td>\n",
       "      <td>160</td>\n",
       "      <td>0</td>\n",
       "      <td>?</td>\n",
       "      <td>2</td>\n",
       "      <td>114</td>\n",
       "      <td>0</td>\n",
       "      <td>1.6</td>\n",
       "      <td>2</td>\n",
       "      <td>2</td>\n",
       "      <td>?</td>\n",
       "      <td>0</td>\n",
       "    </tr>\n",
       "    <tr>\n",
       "      <th>718</th>\n",
       "      <td>73.0</td>\n",
       "      <td>0.0</td>\n",
       "      <td>3.0</td>\n",
       "      <td>160</td>\n",
       "      <td>0</td>\n",
       "      <td>0</td>\n",
       "      <td>1</td>\n",
       "      <td>121</td>\n",
       "      <td>0</td>\n",
       "      <td>0</td>\n",
       "      <td>1</td>\n",
       "      <td>?</td>\n",
       "      <td>3</td>\n",
       "      <td>1</td>\n",
       "    </tr>\n",
       "    <tr>\n",
       "      <th>719</th>\n",
       "      <td>74.0</td>\n",
       "      <td>1.0</td>\n",
       "      <td>2.0</td>\n",
       "      <td>145</td>\n",
       "      <td>0</td>\n",
       "      <td>?</td>\n",
       "      <td>1</td>\n",
       "      <td>123</td>\n",
       "      <td>0</td>\n",
       "      <td>1.3</td>\n",
       "      <td>1</td>\n",
       "      <td>?</td>\n",
       "      <td>?</td>\n",
       "      <td>1</td>\n",
       "    </tr>\n",
       "  </tbody>\n",
       "</table>\n",
       "<p>720 rows × 14 columns</p>\n",
       "</div>"
      ],
      "text/plain": [
       "      age  sex   cp trestbps   chol  fbs restecg thalach exang oldpeak slope  \\\n",
       "0    63.0  1.0  1.0    145.0  233.0  1.0     2.0   150.0   0.0     2.3   3.0   \n",
       "1    67.0  1.0  4.0    160.0  286.0  0.0     2.0   108.0   1.0     1.5   2.0   \n",
       "2    67.0  1.0  4.0    120.0  229.0  0.0     2.0   129.0   1.0     2.6   2.0   \n",
       "3    37.0  1.0  3.0    130.0  250.0  0.0     0.0   187.0   0.0     3.5   3.0   \n",
       "4    41.0  0.0  2.0    130.0  204.0  0.0     2.0   172.0   0.0     1.4   1.0   \n",
       "..    ...  ...  ...      ...    ...  ...     ...     ...   ...     ...   ...   \n",
       "715  70.0  1.0  4.0      115      0    0       1      92     1       0     2   \n",
       "716  70.0  1.0  4.0      140      0    1       0     157     1       2     2   \n",
       "717  72.0  1.0  3.0      160      0    ?       2     114     0     1.6     2   \n",
       "718  73.0  0.0  3.0      160      0    0       1     121     0       0     1   \n",
       "719  74.0  1.0  2.0      145      0    ?       1     123     0     1.3     1   \n",
       "\n",
       "      ca thal  heart_disease  \n",
       "0    0.0  6.0              0  \n",
       "1    3.0  3.0              2  \n",
       "2    2.0  7.0              1  \n",
       "3    0.0  3.0              0  \n",
       "4    0.0  3.0              0  \n",
       "..   ...  ...            ...  \n",
       "715    ?    7              1  \n",
       "716    ?    7              3  \n",
       "717    2    ?              0  \n",
       "718    ?    3              1  \n",
       "719    ?    ?              1  \n",
       "\n",
       "[720 rows x 14 columns]"
      ]
     },
     "execution_count": 10,
     "metadata": {},
     "output_type": "execute_result"
    }
   ],
   "source": [
    "cardiovascular"
   ]
  },
  {
   "cell_type": "markdown",
   "id": "36cc0b55",
   "metadata": {},
   "source": [
    "## Check information"
   ]
  },
  {
   "cell_type": "code",
   "execution_count": 11,
   "id": "02d3999e",
   "metadata": {},
   "outputs": [
    {
     "name": "stdout",
     "output_type": "stream",
     "text": [
      "<class 'pandas.core.frame.DataFrame'>\n",
      "RangeIndex: 720 entries, 0 to 719\n",
      "Data columns (total 14 columns):\n",
      " #   Column         Non-Null Count  Dtype  \n",
      "---  ------         --------------  -----  \n",
      " 0   age            720 non-null    float64\n",
      " 1   sex            720 non-null    float64\n",
      " 2   cp             720 non-null    float64\n",
      " 3   trestbps       720 non-null    object \n",
      " 4   chol           720 non-null    object \n",
      " 5   fbs            720 non-null    object \n",
      " 6   restecg        720 non-null    object \n",
      " 7   thalach        720 non-null    object \n",
      " 8   exang          720 non-null    object \n",
      " 9   oldpeak        720 non-null    object \n",
      " 10  slope          720 non-null    object \n",
      " 11  ca             720 non-null    object \n",
      " 12  thal           720 non-null    object \n",
      " 13  heart_disease  720 non-null    int64  \n",
      "dtypes: float64(3), int64(1), object(10)\n",
      "memory usage: 78.9+ KB\n"
     ]
    }
   ],
   "source": [
    "cardiovascular.info()"
   ]
  },
  {
   "cell_type": "code",
   "execution_count": 12,
   "id": "b1f2034f",
   "metadata": {},
   "outputs": [
    {
     "data": {
      "text/plain": [
       "age              0\n",
       "sex              0\n",
       "cp               0\n",
       "trestbps         0\n",
       "chol             0\n",
       "fbs              0\n",
       "restecg          0\n",
       "thalach          0\n",
       "exang            0\n",
       "oldpeak          0\n",
       "slope            0\n",
       "ca               0\n",
       "thal             0\n",
       "heart_disease    0\n",
       "dtype: int64"
      ]
     },
     "execution_count": 12,
     "metadata": {},
     "output_type": "execute_result"
    }
   ],
   "source": [
    "cardiovascular.isnull().sum()"
   ]
  },
  {
   "cell_type": "code",
   "execution_count": 13,
   "id": "01c4f477",
   "metadata": {},
   "outputs": [
    {
     "data": {
      "text/html": [
       "<div>\n",
       "<style scoped>\n",
       "    .dataframe tbody tr th:only-of-type {\n",
       "        vertical-align: middle;\n",
       "    }\n",
       "\n",
       "    .dataframe tbody tr th {\n",
       "        vertical-align: top;\n",
       "    }\n",
       "\n",
       "    .dataframe thead th {\n",
       "        text-align: right;\n",
       "    }\n",
       "</style>\n",
       "<table border=\"1\" class=\"dataframe\">\n",
       "  <thead>\n",
       "    <tr style=\"text-align: right;\">\n",
       "      <th></th>\n",
       "      <th>age</th>\n",
       "      <th>sex</th>\n",
       "      <th>cp</th>\n",
       "      <th>trestbps</th>\n",
       "      <th>chol</th>\n",
       "      <th>fbs</th>\n",
       "      <th>restecg</th>\n",
       "      <th>thalach</th>\n",
       "      <th>exang</th>\n",
       "      <th>oldpeak</th>\n",
       "      <th>slope</th>\n",
       "      <th>ca</th>\n",
       "      <th>thal</th>\n",
       "      <th>heart_disease</th>\n",
       "    </tr>\n",
       "  </thead>\n",
       "  <tbody>\n",
       "    <tr>\n",
       "      <th>count</th>\n",
       "      <td>720.000000</td>\n",
       "      <td>720.000000</td>\n",
       "      <td>720.000000</td>\n",
       "      <td>720</td>\n",
       "      <td>720</td>\n",
       "      <td>720</td>\n",
       "      <td>720</td>\n",
       "      <td>720</td>\n",
       "      <td>720</td>\n",
       "      <td>720</td>\n",
       "      <td>720</td>\n",
       "      <td>720</td>\n",
       "      <td>720</td>\n",
       "      <td>720.000000</td>\n",
       "    </tr>\n",
       "    <tr>\n",
       "      <th>unique</th>\n",
       "      <td>NaN</td>\n",
       "      <td>NaN</td>\n",
       "      <td>NaN</td>\n",
       "      <td>86</td>\n",
       "      <td>307</td>\n",
       "      <td>5</td>\n",
       "      <td>7</td>\n",
       "      <td>188</td>\n",
       "      <td>5</td>\n",
       "      <td>65</td>\n",
       "      <td>7</td>\n",
       "      <td>8</td>\n",
       "      <td>7</td>\n",
       "      <td>NaN</td>\n",
       "    </tr>\n",
       "    <tr>\n",
       "      <th>top</th>\n",
       "      <td>NaN</td>\n",
       "      <td>NaN</td>\n",
       "      <td>NaN</td>\n",
       "      <td>120</td>\n",
       "      <td>0</td>\n",
       "      <td>0</td>\n",
       "      <td>0</td>\n",
       "      <td>150</td>\n",
       "      <td>0</td>\n",
       "      <td>0.0</td>\n",
       "      <td>?</td>\n",
       "      <td>?</td>\n",
       "      <td>?</td>\n",
       "      <td>NaN</td>\n",
       "    </tr>\n",
       "    <tr>\n",
       "      <th>freq</th>\n",
       "      <td>NaN</td>\n",
       "      <td>NaN</td>\n",
       "      <td>NaN</td>\n",
       "      <td>78</td>\n",
       "      <td>123</td>\n",
       "      <td>309</td>\n",
       "      <td>320</td>\n",
       "      <td>32</td>\n",
       "      <td>272</td>\n",
       "      <td>288</td>\n",
       "      <td>207</td>\n",
       "      <td>413</td>\n",
       "      <td>320</td>\n",
       "      <td>NaN</td>\n",
       "    </tr>\n",
       "    <tr>\n",
       "      <th>mean</th>\n",
       "      <td>51.888889</td>\n",
       "      <td>0.738889</td>\n",
       "      <td>3.179167</td>\n",
       "      <td>NaN</td>\n",
       "      <td>NaN</td>\n",
       "      <td>NaN</td>\n",
       "      <td>NaN</td>\n",
       "      <td>NaN</td>\n",
       "      <td>NaN</td>\n",
       "      <td>NaN</td>\n",
       "      <td>NaN</td>\n",
       "      <td>NaN</td>\n",
       "      <td>NaN</td>\n",
       "      <td>0.850000</td>\n",
       "    </tr>\n",
       "    <tr>\n",
       "      <th>std</th>\n",
       "      <td>9.193720</td>\n",
       "      <td>0.439546</td>\n",
       "      <td>0.953646</td>\n",
       "      <td>NaN</td>\n",
       "      <td>NaN</td>\n",
       "      <td>NaN</td>\n",
       "      <td>NaN</td>\n",
       "      <td>NaN</td>\n",
       "      <td>NaN</td>\n",
       "      <td>NaN</td>\n",
       "      <td>NaN</td>\n",
       "      <td>NaN</td>\n",
       "      <td>NaN</td>\n",
       "      <td>1.076878</td>\n",
       "    </tr>\n",
       "    <tr>\n",
       "      <th>min</th>\n",
       "      <td>28.000000</td>\n",
       "      <td>0.000000</td>\n",
       "      <td>1.000000</td>\n",
       "      <td>NaN</td>\n",
       "      <td>NaN</td>\n",
       "      <td>NaN</td>\n",
       "      <td>NaN</td>\n",
       "      <td>NaN</td>\n",
       "      <td>NaN</td>\n",
       "      <td>NaN</td>\n",
       "      <td>NaN</td>\n",
       "      <td>NaN</td>\n",
       "      <td>NaN</td>\n",
       "      <td>0.000000</td>\n",
       "    </tr>\n",
       "    <tr>\n",
       "      <th>25%</th>\n",
       "      <td>45.000000</td>\n",
       "      <td>0.000000</td>\n",
       "      <td>2.000000</td>\n",
       "      <td>NaN</td>\n",
       "      <td>NaN</td>\n",
       "      <td>NaN</td>\n",
       "      <td>NaN</td>\n",
       "      <td>NaN</td>\n",
       "      <td>NaN</td>\n",
       "      <td>NaN</td>\n",
       "      <td>NaN</td>\n",
       "      <td>NaN</td>\n",
       "      <td>NaN</td>\n",
       "      <td>0.000000</td>\n",
       "    </tr>\n",
       "    <tr>\n",
       "      <th>50%</th>\n",
       "      <td>53.000000</td>\n",
       "      <td>1.000000</td>\n",
       "      <td>4.000000</td>\n",
       "      <td>NaN</td>\n",
       "      <td>NaN</td>\n",
       "      <td>NaN</td>\n",
       "      <td>NaN</td>\n",
       "      <td>NaN</td>\n",
       "      <td>NaN</td>\n",
       "      <td>NaN</td>\n",
       "      <td>NaN</td>\n",
       "      <td>NaN</td>\n",
       "      <td>NaN</td>\n",
       "      <td>0.500000</td>\n",
       "    </tr>\n",
       "    <tr>\n",
       "      <th>75%</th>\n",
       "      <td>58.000000</td>\n",
       "      <td>1.000000</td>\n",
       "      <td>4.000000</td>\n",
       "      <td>NaN</td>\n",
       "      <td>NaN</td>\n",
       "      <td>NaN</td>\n",
       "      <td>NaN</td>\n",
       "      <td>NaN</td>\n",
       "      <td>NaN</td>\n",
       "      <td>NaN</td>\n",
       "      <td>NaN</td>\n",
       "      <td>NaN</td>\n",
       "      <td>NaN</td>\n",
       "      <td>1.000000</td>\n",
       "    </tr>\n",
       "    <tr>\n",
       "      <th>max</th>\n",
       "      <td>77.000000</td>\n",
       "      <td>1.000000</td>\n",
       "      <td>4.000000</td>\n",
       "      <td>NaN</td>\n",
       "      <td>NaN</td>\n",
       "      <td>NaN</td>\n",
       "      <td>NaN</td>\n",
       "      <td>NaN</td>\n",
       "      <td>NaN</td>\n",
       "      <td>NaN</td>\n",
       "      <td>NaN</td>\n",
       "      <td>NaN</td>\n",
       "      <td>NaN</td>\n",
       "      <td>4.000000</td>\n",
       "    </tr>\n",
       "  </tbody>\n",
       "</table>\n",
       "</div>"
      ],
      "text/plain": [
       "               age         sex          cp trestbps chol  fbs restecg thalach  \\\n",
       "count   720.000000  720.000000  720.000000      720  720  720     720     720   \n",
       "unique         NaN         NaN         NaN       86  307    5       7     188   \n",
       "top            NaN         NaN         NaN      120    0    0       0     150   \n",
       "freq           NaN         NaN         NaN       78  123  309     320      32   \n",
       "mean     51.888889    0.738889    3.179167      NaN  NaN  NaN     NaN     NaN   \n",
       "std       9.193720    0.439546    0.953646      NaN  NaN  NaN     NaN     NaN   \n",
       "min      28.000000    0.000000    1.000000      NaN  NaN  NaN     NaN     NaN   \n",
       "25%      45.000000    0.000000    2.000000      NaN  NaN  NaN     NaN     NaN   \n",
       "50%      53.000000    1.000000    4.000000      NaN  NaN  NaN     NaN     NaN   \n",
       "75%      58.000000    1.000000    4.000000      NaN  NaN  NaN     NaN     NaN   \n",
       "max      77.000000    1.000000    4.000000      NaN  NaN  NaN     NaN     NaN   \n",
       "\n",
       "       exang oldpeak slope   ca thal  heart_disease  \n",
       "count    720     720   720  720  720     720.000000  \n",
       "unique     5      65     7    8    7            NaN  \n",
       "top        0     0.0     ?    ?    ?            NaN  \n",
       "freq     272     288   207  413  320            NaN  \n",
       "mean     NaN     NaN   NaN  NaN  NaN       0.850000  \n",
       "std      NaN     NaN   NaN  NaN  NaN       1.076878  \n",
       "min      NaN     NaN   NaN  NaN  NaN       0.000000  \n",
       "25%      NaN     NaN   NaN  NaN  NaN       0.000000  \n",
       "50%      NaN     NaN   NaN  NaN  NaN       0.500000  \n",
       "75%      NaN     NaN   NaN  NaN  NaN       1.000000  \n",
       "max      NaN     NaN   NaN  NaN  NaN       4.000000  "
      ]
     },
     "execution_count": 13,
     "metadata": {},
     "output_type": "execute_result"
    }
   ],
   "source": [
    "cardiovascular.describe(include = 'all')"
   ]
  },
  {
   "cell_type": "markdown",
   "id": "298110e1",
   "metadata": {},
   "source": [
    "## Identify the junk values"
   ]
  },
  {
   "cell_type": "markdown",
   "id": "b4d1fba3",
   "metadata": {},
   "source": [
    "### 1. Age"
   ]
  },
  {
   "cell_type": "code",
   "execution_count": 14,
   "id": "b809aeef",
   "metadata": {},
   "outputs": [
    {
     "data": {
      "text/plain": [
       "array([63., 67., 37., 41., 56., 62., 57., 53., 44., 52., 48., 54., 49.,\n",
       "       64., 58., 60., 50., 66., 43., 40., 69., 59., 42., 55., 61., 65.,\n",
       "       71., 51., 46., 45., 39., 68., 47., 34., 35., 29., 70., 77., 38.,\n",
       "       74., 76., 28., 30., 31., 32., 33., 36., 72., 73.])"
      ]
     },
     "execution_count": 14,
     "metadata": {},
     "output_type": "execute_result"
    }
   ],
   "source": [
    "cardiovascular.age.unique()"
   ]
  },
  {
   "cell_type": "markdown",
   "id": "9f8d0c6b",
   "metadata": {},
   "source": [
    "### 2. Sex"
   ]
  },
  {
   "cell_type": "code",
   "execution_count": 15,
   "id": "64cba43b",
   "metadata": {},
   "outputs": [
    {
     "data": {
      "text/plain": [
       "array([1., 0.])"
      ]
     },
     "execution_count": 15,
     "metadata": {},
     "output_type": "execute_result"
    }
   ],
   "source": [
    "cardiovascular.sex.unique()"
   ]
  },
  {
   "cell_type": "code",
   "execution_count": 16,
   "id": "c291c961",
   "metadata": {},
   "outputs": [],
   "source": [
    "# sex: 1=Male , 0=Female\n",
    "#cardiovascular.sex.replace({0.0: 'female', 1.0: 'male'}, inplace=True)"
   ]
  },
  {
   "cell_type": "markdown",
   "id": "8372ff4f",
   "metadata": {},
   "source": [
    "### 3. Chest Pain Type(cp)"
   ]
  },
  {
   "cell_type": "code",
   "execution_count": 17,
   "id": "2713e05b",
   "metadata": {},
   "outputs": [
    {
     "data": {
      "text/plain": [
       "array([1., 4., 3., 2.])"
      ]
     },
     "execution_count": 17,
     "metadata": {},
     "output_type": "execute_result"
    }
   ],
   "source": [
    "cardiovascular.cp.unique()"
   ]
  },
  {
   "cell_type": "code",
   "execution_count": 18,
   "id": "7f29ae10",
   "metadata": {},
   "outputs": [],
   "source": [
    "#cp: chest pain type\n",
    "# - Value 1: typical angina\n",
    "# - Value 2: atypical angina\n",
    "# - Value 3: non-anginal pain\n",
    "# - Value 4: asymptomatic\n",
    "#cardiovascular.cp.replace({1.0: 'typical angina', 2.0:'atypical angina', 3.0: 'non-anginal pain', 4.0: 'asymptomatic'},inplace=True)"
   ]
  },
  {
   "cell_type": "markdown",
   "id": "8fdfa8dc",
   "metadata": {},
   "source": [
    "### 4. Resting Blood Pressure(trestbps)"
   ]
  },
  {
   "cell_type": "code",
   "execution_count": 19,
   "id": "8f823e85",
   "metadata": {},
   "outputs": [
    {
     "data": {
      "text/plain": [
       "array(['145.0', '160.0', '120.0', '130.0', '140.0', '172.0', '150.0',\n",
       "       '110.0', '132.0', '117.0', '135.0', '112.0', '105.0', '124.0',\n",
       "       '125.0', '142.0', '128.0', '170.0', '155.0', '104.0', '180.0',\n",
       "       '138.0', '108.0', '134.0', '122.0', '115.0', '118.0', '100.0',\n",
       "       '200.0', '94.0', '165.0', '102.0', '152.0', '101.0', '126.0',\n",
       "       '174.0', '148.0', '178.0', '158.0', '192.0', '129.0', '144.0',\n",
       "       '123.0', '136.0', '146.0', '106.0', '156.0', '154.0', '114.0',\n",
       "       '164.0', '130', '120', '140', '170', '100', '105', '110', '125',\n",
       "       '150', '98', '112', '145', '190', '160', '115', '142', '180',\n",
       "       '132', '135', '?', '108', '124', '113', '122', '92', '118', '106',\n",
       "       '200', '138', '136', '128', '155', '95', '165', '80', '185'],\n",
       "      dtype=object)"
      ]
     },
     "execution_count": 19,
     "metadata": {},
     "output_type": "execute_result"
    }
   ],
   "source": [
    "cardiovascular.trestbps.unique()"
   ]
  },
  {
   "cell_type": "code",
   "execution_count": 20,
   "id": "0ed212b0",
   "metadata": {},
   "outputs": [
    {
     "data": {
      "text/html": [
       "<div>\n",
       "<style scoped>\n",
       "    .dataframe tbody tr th:only-of-type {\n",
       "        vertical-align: middle;\n",
       "    }\n",
       "\n",
       "    .dataframe tbody tr th {\n",
       "        vertical-align: top;\n",
       "    }\n",
       "\n",
       "    .dataframe thead th {\n",
       "        text-align: right;\n",
       "    }\n",
       "</style>\n",
       "<table border=\"1\" class=\"dataframe\">\n",
       "  <thead>\n",
       "    <tr style=\"text-align: right;\">\n",
       "      <th></th>\n",
       "      <th>age</th>\n",
       "      <th>sex</th>\n",
       "      <th>cp</th>\n",
       "      <th>trestbps</th>\n",
       "      <th>chol</th>\n",
       "      <th>fbs</th>\n",
       "      <th>restecg</th>\n",
       "      <th>thalach</th>\n",
       "      <th>exang</th>\n",
       "      <th>oldpeak</th>\n",
       "      <th>slope</th>\n",
       "      <th>ca</th>\n",
       "      <th>thal</th>\n",
       "      <th>heart_disease</th>\n",
       "    </tr>\n",
       "  </thead>\n",
       "  <tbody>\n",
       "    <tr>\n",
       "      <th>393</th>\n",
       "      <td>48.0</td>\n",
       "      <td>0.0</td>\n",
       "      <td>2.0</td>\n",
       "      <td>?</td>\n",
       "      <td>308</td>\n",
       "      <td>0</td>\n",
       "      <td>1</td>\n",
       "      <td>?</td>\n",
       "      <td>?</td>\n",
       "      <td>2.0</td>\n",
       "      <td>1</td>\n",
       "      <td>?</td>\n",
       "      <td>?</td>\n",
       "      <td>0</td>\n",
       "    </tr>\n",
       "    <tr>\n",
       "      <th>599</th>\n",
       "      <td>35.0</td>\n",
       "      <td>1.0</td>\n",
       "      <td>4.0</td>\n",
       "      <td>?</td>\n",
       "      <td>0</td>\n",
       "      <td>?</td>\n",
       "      <td>0</td>\n",
       "      <td>130</td>\n",
       "      <td>1</td>\n",
       "      <td>?</td>\n",
       "      <td>?</td>\n",
       "      <td>?</td>\n",
       "      <td>7</td>\n",
       "      <td>3</td>\n",
       "    </tr>\n",
       "    <tr>\n",
       "      <th>714</th>\n",
       "      <td>69.0</td>\n",
       "      <td>1.0</td>\n",
       "      <td>4.0</td>\n",
       "      <td>?</td>\n",
       "      <td>0</td>\n",
       "      <td>0</td>\n",
       "      <td>1</td>\n",
       "      <td>?</td>\n",
       "      <td>?</td>\n",
       "      <td>?</td>\n",
       "      <td>?</td>\n",
       "      <td>?</td>\n",
       "      <td>7</td>\n",
       "      <td>3</td>\n",
       "    </tr>\n",
       "  </tbody>\n",
       "</table>\n",
       "</div>"
      ],
      "text/plain": [
       "      age  sex   cp trestbps chol fbs restecg thalach exang oldpeak slope ca  \\\n",
       "393  48.0  0.0  2.0        ?  308   0       1       ?     ?     2.0     1  ?   \n",
       "599  35.0  1.0  4.0        ?    0   ?       0     130     1       ?     ?  ?   \n",
       "714  69.0  1.0  4.0        ?    0   0       1       ?     ?       ?     ?  ?   \n",
       "\n",
       "    thal  heart_disease  \n",
       "393    ?              0  \n",
       "599    7              3  \n",
       "714    7              3  "
      ]
     },
     "execution_count": 20,
     "metadata": {},
     "output_type": "execute_result"
    }
   ],
   "source": [
    "cardiovascular[cardiovascular.trestbps=='?']"
   ]
  },
  {
   "cell_type": "code",
   "execution_count": 21,
   "id": "1530e05b",
   "metadata": {},
   "outputs": [],
   "source": [
    "cardiovascular = cardiovascular.replace('?',np.nan)"
   ]
  },
  {
   "cell_type": "code",
   "execution_count": 22,
   "id": "93c4d37a",
   "metadata": {},
   "outputs": [
    {
     "data": {
      "text/html": [
       "<div>\n",
       "<style scoped>\n",
       "    .dataframe tbody tr th:only-of-type {\n",
       "        vertical-align: middle;\n",
       "    }\n",
       "\n",
       "    .dataframe tbody tr th {\n",
       "        vertical-align: top;\n",
       "    }\n",
       "\n",
       "    .dataframe thead th {\n",
       "        text-align: right;\n",
       "    }\n",
       "</style>\n",
       "<table border=\"1\" class=\"dataframe\">\n",
       "  <thead>\n",
       "    <tr style=\"text-align: right;\">\n",
       "      <th></th>\n",
       "      <th>age</th>\n",
       "      <th>sex</th>\n",
       "      <th>cp</th>\n",
       "      <th>trestbps</th>\n",
       "      <th>chol</th>\n",
       "      <th>fbs</th>\n",
       "      <th>restecg</th>\n",
       "      <th>thalach</th>\n",
       "      <th>exang</th>\n",
       "      <th>oldpeak</th>\n",
       "      <th>slope</th>\n",
       "      <th>ca</th>\n",
       "      <th>thal</th>\n",
       "      <th>heart_disease</th>\n",
       "    </tr>\n",
       "  </thead>\n",
       "  <tbody>\n",
       "  </tbody>\n",
       "</table>\n",
       "</div>"
      ],
      "text/plain": [
       "Empty DataFrame\n",
       "Columns: [age, sex, cp, trestbps, chol, fbs, restecg, thalach, exang, oldpeak, slope, ca, thal, heart_disease]\n",
       "Index: []"
      ]
     },
     "execution_count": 22,
     "metadata": {},
     "output_type": "execute_result"
    }
   ],
   "source": [
    "cardiovascular[cardiovascular.trestbps=='?']"
   ]
  },
  {
   "cell_type": "code",
   "execution_count": 23,
   "id": "c418a873",
   "metadata": {},
   "outputs": [],
   "source": [
    "cardiovascular.trestbps = cardiovascular.trestbps.astype(\"float\")"
   ]
  },
  {
   "cell_type": "code",
   "execution_count": 24,
   "id": "d29b6ad1",
   "metadata": {},
   "outputs": [
    {
     "data": {
      "text/plain": [
       "array([145., 160., 120., 130., 140., 172., 150., 110., 132., 117., 135.,\n",
       "       112., 105., 124., 125., 142., 128., 170., 155., 104., 180., 138.,\n",
       "       108., 134., 122., 115., 118., 100., 200.,  94., 165., 102., 152.,\n",
       "       101., 126., 174., 148., 178., 158., 192., 129., 144., 123., 136.,\n",
       "       146., 106., 156., 154., 114., 164.,  98., 190.,  nan, 113.,  92.,\n",
       "        95.,  80., 185.])"
      ]
     },
     "execution_count": 24,
     "metadata": {},
     "output_type": "execute_result"
    }
   ],
   "source": [
    "cardiovascular.trestbps.unique()"
   ]
  },
  {
   "cell_type": "markdown",
   "id": "6ebd4366",
   "metadata": {},
   "source": [
    "### 5. Serum Cholestoral(chol)"
   ]
  },
  {
   "cell_type": "code",
   "execution_count": 25,
   "id": "fd0a8877",
   "metadata": {},
   "outputs": [
    {
     "data": {
      "text/plain": [
       "array(['233.0', '286.0', '229.0', '250.0', '204.0', '236.0', '268.0',\n",
       "       '354.0', '254.0', '203.0', '192.0', '294.0', '256.0', '263.0',\n",
       "       '199.0', '168.0', '239.0', '275.0', '266.0', '211.0', '283.0',\n",
       "       '284.0', '224.0', '206.0', '219.0', '340.0', '226.0', '247.0',\n",
       "       '167.0', '230.0', '335.0', '234.0', '177.0', '276.0', '353.0',\n",
       "       '243.0', '225.0', '302.0', '212.0', '330.0', '175.0', '417.0',\n",
       "       '197.0', '198.0', '290.0', '253.0', '172.0', '273.0', '213.0',\n",
       "       '305.0', '216.0', '304.0', '188.0', '282.0', '185.0', '232.0',\n",
       "       '326.0', '231.0', '269.0', '267.0', '248.0', '360.0', '258.0',\n",
       "       '308.0', '245.0', '270.0', '208.0', '264.0', '321.0', '274.0',\n",
       "       '325.0', '235.0', '257.0', '164.0', '141.0', '252.0', '255.0',\n",
       "       '201.0', '222.0', '260.0', '182.0', '303.0', '265.0', '309.0',\n",
       "       '307.0', '249.0', '186.0', '341.0', '183.0', '407.0', '217.0',\n",
       "       '288.0', '220.0', '209.0', '227.0', '261.0', '174.0', '281.0',\n",
       "       '221.0', '205.0', '240.0', '289.0', '318.0', '298.0', '564.0',\n",
       "       '246.0', '322.0', '299.0', '300.0', '293.0', '277.0', '214.0',\n",
       "       '207.0', '223.0', '160.0', '394.0', '184.0', '315.0', '409.0',\n",
       "       '244.0', '195.0', '196.0', '126.0', '313.0', '259.0', '200.0',\n",
       "       '262.0', '215.0', '228.0', '193.0', '271.0', '210.0', '327.0',\n",
       "       '149.0', '295.0', '306.0', '178.0', '237.0', '218.0', '242.0',\n",
       "       '319.0', '166.0', '180.0', '311.0', '278.0', '342.0', '169.0',\n",
       "       '187.0', '157.0', '176.0', '241.0', '131.0', '132', '243', nan,\n",
       "       '237', '219', '198', '225', '254', '298', '161', '214', '220',\n",
       "       '160', '167', '308', '264', '166', '340', '209', '260', '211',\n",
       "       '173', '283', '194', '223', '315', '275', '297', '292', '182',\n",
       "       '200', '204', '241', '339', '147', '273', '307', '289', '215',\n",
       "       '281', '250', '184', '245', '291', '295', '269', '196', '268',\n",
       "       '228', '358', '201', '249', '266', '186', '207', '218', '412',\n",
       "       '224', '238', '230', '163', '240', '280', '257', '263', '276',\n",
       "       '284', '195', '227', '253', '187', '202', '328', '168', '216',\n",
       "       '129', '190', '188', '179', '210', '272', '180', '100', '259',\n",
       "       '468', '274', '320', '221', '309', '312', '171', '208', '246',\n",
       "       '305', '217', '365', '344', '394', '256', '326', '277', '270',\n",
       "       '229', '85', '347', '251', '222', '287', '318', '213', '294',\n",
       "       '193', '271', '156', '267', '282', '117', '466', '247', '226',\n",
       "       '265', '206', '288', '303', '338', '248', '306', '529', '392',\n",
       "       '231', '329', '355', '233', '242', '603', '255', '172', '175',\n",
       "       '290', '341', '234', '342', '404', '518', '285', '279', '388',\n",
       "       '164', '336', '491', '205', '212', '331', '393', '0'], dtype=object)"
      ]
     },
     "execution_count": 25,
     "metadata": {},
     "output_type": "execute_result"
    }
   ],
   "source": [
    "cardiovascular.chol.unique()"
   ]
  },
  {
   "cell_type": "code",
   "execution_count": 26,
   "id": "aebf221f",
   "metadata": {},
   "outputs": [],
   "source": [
    "cardiovascular.chol = cardiovascular.chol.astype(\"float\")"
   ]
  },
  {
   "cell_type": "code",
   "execution_count": 27,
   "id": "3b46ed70",
   "metadata": {},
   "outputs": [
    {
     "data": {
      "text/plain": [
       "array([233., 286., 229., 250., 204., 236., 268., 354., 254., 203., 192.,\n",
       "       294., 256., 263., 199., 168., 239., 275., 266., 211., 283., 284.,\n",
       "       224., 206., 219., 340., 226., 247., 167., 230., 335., 234., 177.,\n",
       "       276., 353., 243., 225., 302., 212., 330., 175., 417., 197., 198.,\n",
       "       290., 253., 172., 273., 213., 305., 216., 304., 188., 282., 185.,\n",
       "       232., 326., 231., 269., 267., 248., 360., 258., 308., 245., 270.,\n",
       "       208., 264., 321., 274., 325., 235., 257., 164., 141., 252., 255.,\n",
       "       201., 222., 260., 182., 303., 265., 309., 307., 249., 186., 341.,\n",
       "       183., 407., 217., 288., 220., 209., 227., 261., 174., 281., 221.,\n",
       "       205., 240., 289., 318., 298., 564., 246., 322., 299., 300., 293.,\n",
       "       277., 214., 207., 223., 160., 394., 184., 315., 409., 244., 195.,\n",
       "       196., 126., 313., 259., 200., 262., 215., 228., 193., 271., 210.,\n",
       "       327., 149., 295., 306., 178., 237., 218., 242., 319., 166., 180.,\n",
       "       311., 278., 342., 169., 187., 157., 176., 241., 131., 132.,  nan,\n",
       "       161., 173., 194., 297., 292., 339., 147., 291., 358., 412., 238.,\n",
       "       163., 280., 202., 328., 129., 190., 179., 272., 100., 468., 320.,\n",
       "       312., 171., 365., 344.,  85., 347., 251., 287., 156., 117., 466.,\n",
       "       338., 529., 392., 329., 355., 603., 404., 518., 285., 279., 388.,\n",
       "       336., 491., 331., 393.,   0.])"
      ]
     },
     "execution_count": 27,
     "metadata": {},
     "output_type": "execute_result"
    }
   ],
   "source": [
    "cardiovascular.chol.unique()"
   ]
  },
  {
   "cell_type": "markdown",
   "id": "0cf85659",
   "metadata": {},
   "source": [
    "### 6. Fasting Blood Sugar(fbs)"
   ]
  },
  {
   "cell_type": "code",
   "execution_count": 28,
   "id": "08071867",
   "metadata": {},
   "outputs": [
    {
     "data": {
      "text/plain": [
       "array(['1.0', '0.0', '0', nan, '1'], dtype=object)"
      ]
     },
     "execution_count": 28,
     "metadata": {},
     "output_type": "execute_result"
    }
   ],
   "source": [
    "cardiovascular.fbs.unique()"
   ]
  },
  {
   "cell_type": "code",
   "execution_count": 29,
   "id": "fc809f79",
   "metadata": {},
   "outputs": [],
   "source": [
    "cardiovascular.fbs = cardiovascular.fbs.astype(\"float\")"
   ]
  },
  {
   "cell_type": "code",
   "execution_count": 30,
   "id": "5c3912b5",
   "metadata": {},
   "outputs": [
    {
     "data": {
      "text/plain": [
       "array([ 1.,  0., nan])"
      ]
     },
     "execution_count": 30,
     "metadata": {},
     "output_type": "execute_result"
    }
   ],
   "source": [
    "cardiovascular.fbs.unique()"
   ]
  },
  {
   "cell_type": "code",
   "execution_count": 31,
   "id": "38fbcf05",
   "metadata": {},
   "outputs": [],
   "source": [
    "#cardiovascular.fbs.replace({0.0: 'False', 1.0:'True'},inplace=True)"
   ]
  },
  {
   "cell_type": "code",
   "execution_count": 32,
   "id": "2c9c3a31",
   "metadata": {},
   "outputs": [],
   "source": [
    "#cardiovascular.fbs.unique()"
   ]
  },
  {
   "cell_type": "markdown",
   "id": "1ebdbe5a",
   "metadata": {},
   "source": [
    "### 7. Resting Electrocardiographic Results(restecg)"
   ]
  },
  {
   "cell_type": "code",
   "execution_count": 33,
   "id": "b5bb404a",
   "metadata": {},
   "outputs": [
    {
     "data": {
      "text/plain": [
       "array(['2.0', '0.0', '1.0', '2', '0', '1', nan], dtype=object)"
      ]
     },
     "execution_count": 33,
     "metadata": {},
     "output_type": "execute_result"
    }
   ],
   "source": [
    "#Value 0: normal\n",
    "#Value 1: having ST-T wave abnormality (T wave inversions and/or ST elevation or depression of > 0.05 mV) \n",
    "#Value 2: showing probable or definite left ventricular hypertrophy by Estes' criteria\n",
    "cardiovascular.restecg.unique()"
   ]
  },
  {
   "cell_type": "code",
   "execution_count": 34,
   "id": "a60bd5f1",
   "metadata": {},
   "outputs": [],
   "source": [
    "cardiovascular.restecg = cardiovascular.restecg.astype('float')"
   ]
  },
  {
   "cell_type": "code",
   "execution_count": 35,
   "id": "58756e14",
   "metadata": {},
   "outputs": [
    {
     "data": {
      "text/plain": [
       "array([ 2.,  0.,  1., nan])"
      ]
     },
     "execution_count": 35,
     "metadata": {},
     "output_type": "execute_result"
    }
   ],
   "source": [
    "cardiovascular.restecg.unique()"
   ]
  },
  {
   "cell_type": "code",
   "execution_count": 36,
   "id": "3be8cd10",
   "metadata": {},
   "outputs": [],
   "source": [
    "#cardiovascular.restecg.replace({0.0: 'normal', 1.0:'ST-T wave abnormality', 2.0: 'left ventricular hypertrophy'}, inplace = True)"
   ]
  },
  {
   "cell_type": "code",
   "execution_count": 37,
   "id": "9f7858b5",
   "metadata": {},
   "outputs": [],
   "source": [
    "#cardiovascular.restecg.unique()"
   ]
  },
  {
   "cell_type": "markdown",
   "id": "340cb68e",
   "metadata": {},
   "source": [
    "### 8. Maximum Heart Rate achieved in an excercise test(thalach)"
   ]
  },
  {
   "cell_type": "code",
   "execution_count": 38,
   "id": "cb084eb3",
   "metadata": {},
   "outputs": [
    {
     "data": {
      "text/plain": [
       "array(['150.0', '108.0', '129.0', '187.0', '172.0', '178.0', '160.0',\n",
       "       '163.0', '147.0', '155.0', '148.0', '153.0', '142.0', '173.0',\n",
       "       '162.0', '174.0', '168.0', '139.0', '171.0', '144.0', '132.0',\n",
       "       '158.0', '114.0', '151.0', '161.0', '179.0', '120.0', '112.0',\n",
       "       '137.0', '157.0', '169.0', '165.0', '123.0', '128.0', '152.0',\n",
       "       '140.0', '188.0', '109.0', '125.0', '131.0', '170.0', '113.0',\n",
       "       '99.0', '177.0', '141.0', '180.0', '111.0', '143.0', '182.0',\n",
       "       '156.0', '115.0', '149.0', '145.0', '146.0', '175.0', '186.0',\n",
       "       '185.0', '159.0', '130.0', '190.0', '136.0', '97.0', '127.0',\n",
       "       '154.0', '133.0', '126.0', '202.0', '103.0', '166.0', '164.0',\n",
       "       '184.0', '124.0', '122.0', '96.0', '138.0', '88.0', '105.0',\n",
       "       '194.0', '195.0', '106.0', '167.0', '95.0', '192.0', '117.0',\n",
       "       '121.0', '116.0', '71.0', '118.0', '181.0', '134.0', '90.0', '185',\n",
       "       '160', '170', '150', '165', '184', '155', '190', '168', '180',\n",
       "       '178', '172', '130', '142', '98', '158', '129', '146', '145',\n",
       "       '120', '106', '132', '140', '138', '167', '188', '144', '137',\n",
       "       '136', '152', '175', '176', '118', '154', '115', '135', '122',\n",
       "       '110', '90', '116', '174', '125', nan, '148', '100', '164', '139',\n",
       "       '127', '162', '112', '134', '114', '128', '126', '124', '153',\n",
       "       '166', '103', '156', '87', '102', '92', '99', '121', '91', '108',\n",
       "       '96', '82', '105', '143', '119', '94', '179', '133', '113', '149',\n",
       "       '104', '163', '60', '95', '141', '83', '97', '131', '182', '63',\n",
       "       '70', '77', '117', '123', '72', '78', '109', '86', '93', '67',\n",
       "       '157'], dtype=object)"
      ]
     },
     "execution_count": 38,
     "metadata": {},
     "output_type": "execute_result"
    }
   ],
   "source": [
    "cardiovascular.thalach.unique()"
   ]
  },
  {
   "cell_type": "code",
   "execution_count": 39,
   "id": "8b67e781",
   "metadata": {},
   "outputs": [],
   "source": [
    "cardiovascular.thalach = cardiovascular.thalach.astype('float')"
   ]
  },
  {
   "cell_type": "code",
   "execution_count": 40,
   "id": "697d488b",
   "metadata": {},
   "outputs": [
    {
     "data": {
      "text/plain": [
       "array([150., 108., 129., 187., 172., 178., 160., 163., 147., 155., 148.,\n",
       "       153., 142., 173., 162., 174., 168., 139., 171., 144., 132., 158.,\n",
       "       114., 151., 161., 179., 120., 112., 137., 157., 169., 165., 123.,\n",
       "       128., 152., 140., 188., 109., 125., 131., 170., 113.,  99., 177.,\n",
       "       141., 180., 111., 143., 182., 156., 115., 149., 145., 146., 175.,\n",
       "       186., 185., 159., 130., 190., 136.,  97., 127., 154., 133., 126.,\n",
       "       202., 103., 166., 164., 184., 124., 122.,  96., 138.,  88., 105.,\n",
       "       194., 195., 106., 167.,  95., 192., 117., 121., 116.,  71., 118.,\n",
       "       181., 134.,  90.,  98., 176., 135., 110.,  nan, 100.,  87., 102.,\n",
       "        92.,  91.,  82., 119.,  94., 104.,  60.,  83.,  63.,  70.,  77.,\n",
       "        72.,  78.,  86.,  93.,  67.])"
      ]
     },
     "execution_count": 40,
     "metadata": {},
     "output_type": "execute_result"
    }
   ],
   "source": [
    "cardiovascular.thalach.unique()"
   ]
  },
  {
   "cell_type": "markdown",
   "id": "854049b1",
   "metadata": {},
   "source": [
    "### 9. Exercise Induced Angina(exang)"
   ]
  },
  {
   "cell_type": "code",
   "execution_count": 41,
   "id": "30c149b3",
   "metadata": {},
   "outputs": [
    {
     "data": {
      "text/plain": [
       "array(['0.0', '1.0', '0', '1', nan], dtype=object)"
      ]
     },
     "execution_count": 41,
     "metadata": {},
     "output_type": "execute_result"
    }
   ],
   "source": [
    "# 0 = no\n",
    "# 1 = yes\n",
    "cardiovascular.exang.unique()"
   ]
  },
  {
   "cell_type": "code",
   "execution_count": 42,
   "id": "a7d4cdd1",
   "metadata": {},
   "outputs": [],
   "source": [
    "cardiovascular.exang = cardiovascular.exang.astype(\"float\")"
   ]
  },
  {
   "cell_type": "code",
   "execution_count": 43,
   "id": "367bfd7f",
   "metadata": {},
   "outputs": [
    {
     "data": {
      "text/plain": [
       "array([ 0.,  1., nan])"
      ]
     },
     "execution_count": 43,
     "metadata": {},
     "output_type": "execute_result"
    }
   ],
   "source": [
    "cardiovascular.exang.unique()"
   ]
  },
  {
   "cell_type": "code",
   "execution_count": 44,
   "id": "0488b9cb",
   "metadata": {},
   "outputs": [],
   "source": [
    "#cardiovascular.exang.replace({0.0: \"No\", 1.0: \"Yes\"},inplace=True)"
   ]
  },
  {
   "cell_type": "code",
   "execution_count": 45,
   "id": "88010d01",
   "metadata": {},
   "outputs": [],
   "source": [
    "#cardiovascular.exang.unique()"
   ]
  },
  {
   "cell_type": "markdown",
   "id": "cf910b3d",
   "metadata": {},
   "source": [
    "### 10. ST depression induced by exercise relative to rest(oldpeak)"
   ]
  },
  {
   "cell_type": "code",
   "execution_count": 46,
   "id": "1cd83e8d",
   "metadata": {},
   "outputs": [
    {
     "data": {
      "text/plain": [
       "array(['2.3', '1.5', '2.6', '3.5', '1.4', '0.8', '3.6', '0.6', '3.1',\n",
       "       '0.4', '1.3', '0.0', '0.5', '1.6', '1.0', '1.2', '0.2', '1.8',\n",
       "       '3.2', '2.4', '2.0', '2.5', '2.2', '2.8', '3.0', '3.4', '6.2',\n",
       "       '4.0', '5.6', '2.9', '0.1', '2.1', '1.9', '4.2', '0.9', '1.1',\n",
       "       '3.8', '0.7', '0.3', '4.4', '5.0', '.7', '.2', nan, '1', '0',\n",
       "       '-1.1', '-1.5', '2', '.5', '-.1', '-2.6', '-.7', '3', '.1', '.3',\n",
       "       '-2', '-1', '.9', '.4', '1.7', '-.8', '-.5', '-.9', '3.7'],\n",
       "      dtype=object)"
      ]
     },
     "execution_count": 46,
     "metadata": {},
     "output_type": "execute_result"
    }
   ],
   "source": [
    "cardiovascular.oldpeak.unique()"
   ]
  },
  {
   "cell_type": "code",
   "execution_count": 47,
   "id": "5d20c932",
   "metadata": {},
   "outputs": [],
   "source": [
    "cardiovascular.oldpeak = cardiovascular.oldpeak.astype(\"float\")"
   ]
  },
  {
   "cell_type": "code",
   "execution_count": 48,
   "id": "56ede9ac",
   "metadata": {},
   "outputs": [
    {
     "data": {
      "text/plain": [
       "array([ 2.3,  1.5,  2.6,  3.5,  1.4,  0.8,  3.6,  0.6,  3.1,  0.4,  1.3,\n",
       "        0. ,  0.5,  1.6,  1. ,  1.2,  0.2,  1.8,  3.2,  2.4,  2. ,  2.5,\n",
       "        2.2,  2.8,  3. ,  3.4,  6.2,  4. ,  5.6,  2.9,  0.1,  2.1,  1.9,\n",
       "        4.2,  0.9,  1.1,  3.8,  0.7,  0.3,  4.4,  5. ,  nan, -1.1, -1.5,\n",
       "       -0.1, -2.6, -0.7, -2. , -1. ,  1.7, -0.8, -0.5, -0.9,  3.7])"
      ]
     },
     "execution_count": 48,
     "metadata": {},
     "output_type": "execute_result"
    }
   ],
   "source": [
    "cardiovascular.oldpeak.unique()"
   ]
  },
  {
   "cell_type": "markdown",
   "id": "1d947854",
   "metadata": {},
   "source": [
    "### 11. The slope of the peak exercise ST segment(slope)"
   ]
  },
  {
   "cell_type": "code",
   "execution_count": 49,
   "id": "76dfd57b",
   "metadata": {},
   "outputs": [
    {
     "data": {
      "text/plain": [
       "array(['3.0', '2.0', '1.0', nan, '2', '1', '3'], dtype=object)"
      ]
     },
     "execution_count": 49,
     "metadata": {},
     "output_type": "execute_result"
    }
   ],
   "source": [
    " #Value 1: upsloping\n",
    " #Value 2: flat\n",
    " #Value 3: downsloping\n",
    "cardiovascular.slope.unique()"
   ]
  },
  {
   "cell_type": "code",
   "execution_count": 50,
   "id": "e6961a1c",
   "metadata": {},
   "outputs": [],
   "source": [
    "cardiovascular.slope = cardiovascular.slope.astype(\"float\")"
   ]
  },
  {
   "cell_type": "code",
   "execution_count": 51,
   "id": "50ced6e8",
   "metadata": {},
   "outputs": [],
   "source": [
    "#cardiovascular.slope.replace({1.0: 'upsloping', 2.0:'flat', 3.0: 'downsloping'}, inplace = True)"
   ]
  },
  {
   "cell_type": "code",
   "execution_count": 52,
   "id": "a22a9b3c",
   "metadata": {},
   "outputs": [
    {
     "data": {
      "text/plain": [
       "array([ 3.,  2.,  1., nan])"
      ]
     },
     "execution_count": 52,
     "metadata": {},
     "output_type": "execute_result"
    }
   ],
   "source": [
    "cardiovascular.slope.unique()"
   ]
  },
  {
   "cell_type": "markdown",
   "id": "b9368fe7",
   "metadata": {},
   "source": [
    "### 12. Number of major vessels (0-3) colored by flourosopy(ca)"
   ]
  },
  {
   "cell_type": "code",
   "execution_count": 53,
   "id": "cedec72f",
   "metadata": {},
   "outputs": [
    {
     "data": {
      "text/plain": [
       "array(['0.0', '3.0', '2.0', '1.0', nan, '0', '1', '2'], dtype=object)"
      ]
     },
     "execution_count": 53,
     "metadata": {},
     "output_type": "execute_result"
    }
   ],
   "source": [
    "cardiovascular.ca.unique()"
   ]
  },
  {
   "cell_type": "code",
   "execution_count": 54,
   "id": "0457c57c",
   "metadata": {},
   "outputs": [],
   "source": [
    "cardiovascular.ca = cardiovascular.ca.astype(\"float\")"
   ]
  },
  {
   "cell_type": "code",
   "execution_count": 55,
   "id": "38ef3610",
   "metadata": {},
   "outputs": [
    {
     "data": {
      "text/plain": [
       "array([ 0.,  3.,  2.,  1., nan])"
      ]
     },
     "execution_count": 55,
     "metadata": {},
     "output_type": "execute_result"
    }
   ],
   "source": [
    "cardiovascular.ca.unique()"
   ]
  },
  {
   "cell_type": "markdown",
   "id": "94880865",
   "metadata": {},
   "source": [
    "### 13. thal"
   ]
  },
  {
   "cell_type": "code",
   "execution_count": 56,
   "id": "3ff1db4d",
   "metadata": {},
   "outputs": [
    {
     "data": {
      "text/plain": [
       "array(['6.0', '3.0', '7.0', nan, '6', '3', '7'], dtype=object)"
      ]
     },
     "execution_count": 56,
     "metadata": {},
     "output_type": "execute_result"
    }
   ],
   "source": [
    " #Value 3: normal\n",
    "#Value 6: fixed defect\n",
    "#Value 7: reversable defect\n",
    "cardiovascular.thal.unique()"
   ]
  },
  {
   "cell_type": "code",
   "execution_count": 57,
   "id": "77fb2564",
   "metadata": {},
   "outputs": [],
   "source": [
    "cardiovascular.thal = cardiovascular.thal.astype(\"float\")"
   ]
  },
  {
   "cell_type": "code",
   "execution_count": 58,
   "id": "dcd9df49",
   "metadata": {},
   "outputs": [],
   "source": [
    "#cardiovascular.thal.replace({3.0 :'Normal', 6.0 :'Fixed Defect', 7.0:'Reversable Defect'}, inplace = True)"
   ]
  },
  {
   "cell_type": "code",
   "execution_count": 59,
   "id": "bc043bcc",
   "metadata": {},
   "outputs": [
    {
     "data": {
      "text/plain": [
       "array([ 6.,  3.,  7., nan])"
      ]
     },
     "execution_count": 59,
     "metadata": {},
     "output_type": "execute_result"
    }
   ],
   "source": [
    "cardiovascular.thal.unique()"
   ]
  },
  {
   "cell_type": "markdown",
   "id": "bfc9da32",
   "metadata": {},
   "source": [
    "### 14. Diagnosis of heart disease (angiographic disease status)(heart_disease)"
   ]
  },
  {
   "cell_type": "code",
   "execution_count": 60,
   "id": "7b35f10a",
   "metadata": {},
   "outputs": [
    {
     "data": {
      "text/plain": [
       "array([0, 2, 1, 3, 4], dtype=int64)"
      ]
     },
     "execution_count": 60,
     "metadata": {},
     "output_type": "execute_result"
    }
   ],
   "source": [
    "#Value 0: < 50% diameter narrowing\n",
    "#Value 1: > 50% diameter narrowing\n",
    "cardiovascular.heart_disease.unique()"
   ]
  },
  {
   "cell_type": "code",
   "execution_count": 61,
   "id": "3bc5cde1",
   "metadata": {},
   "outputs": [],
   "source": [
    "#cardiovascular.heart_disease = np.where(cardiovascular.heart_disease == 0, 'absence', 'presence')"
   ]
  },
  {
   "cell_type": "code",
   "execution_count": 62,
   "id": "7d005b13",
   "metadata": {},
   "outputs": [
    {
     "data": {
      "text/html": [
       "<div>\n",
       "<style scoped>\n",
       "    .dataframe tbody tr th:only-of-type {\n",
       "        vertical-align: middle;\n",
       "    }\n",
       "\n",
       "    .dataframe tbody tr th {\n",
       "        vertical-align: top;\n",
       "    }\n",
       "\n",
       "    .dataframe thead th {\n",
       "        text-align: right;\n",
       "    }\n",
       "</style>\n",
       "<table border=\"1\" class=\"dataframe\">\n",
       "  <thead>\n",
       "    <tr style=\"text-align: right;\">\n",
       "      <th></th>\n",
       "      <th>age</th>\n",
       "      <th>sex</th>\n",
       "      <th>cp</th>\n",
       "      <th>trestbps</th>\n",
       "      <th>chol</th>\n",
       "      <th>fbs</th>\n",
       "      <th>restecg</th>\n",
       "      <th>thalach</th>\n",
       "      <th>exang</th>\n",
       "      <th>oldpeak</th>\n",
       "      <th>slope</th>\n",
       "      <th>ca</th>\n",
       "      <th>thal</th>\n",
       "      <th>heart_disease</th>\n",
       "    </tr>\n",
       "  </thead>\n",
       "  <tbody>\n",
       "    <tr>\n",
       "      <th>0</th>\n",
       "      <td>63.0</td>\n",
       "      <td>1.0</td>\n",
       "      <td>1.0</td>\n",
       "      <td>145.0</td>\n",
       "      <td>233.0</td>\n",
       "      <td>1.0</td>\n",
       "      <td>2.0</td>\n",
       "      <td>150.0</td>\n",
       "      <td>0.0</td>\n",
       "      <td>2.3</td>\n",
       "      <td>3.0</td>\n",
       "      <td>0.0</td>\n",
       "      <td>6.0</td>\n",
       "      <td>0</td>\n",
       "    </tr>\n",
       "    <tr>\n",
       "      <th>1</th>\n",
       "      <td>67.0</td>\n",
       "      <td>1.0</td>\n",
       "      <td>4.0</td>\n",
       "      <td>160.0</td>\n",
       "      <td>286.0</td>\n",
       "      <td>0.0</td>\n",
       "      <td>2.0</td>\n",
       "      <td>108.0</td>\n",
       "      <td>1.0</td>\n",
       "      <td>1.5</td>\n",
       "      <td>2.0</td>\n",
       "      <td>3.0</td>\n",
       "      <td>3.0</td>\n",
       "      <td>2</td>\n",
       "    </tr>\n",
       "    <tr>\n",
       "      <th>2</th>\n",
       "      <td>67.0</td>\n",
       "      <td>1.0</td>\n",
       "      <td>4.0</td>\n",
       "      <td>120.0</td>\n",
       "      <td>229.0</td>\n",
       "      <td>0.0</td>\n",
       "      <td>2.0</td>\n",
       "      <td>129.0</td>\n",
       "      <td>1.0</td>\n",
       "      <td>2.6</td>\n",
       "      <td>2.0</td>\n",
       "      <td>2.0</td>\n",
       "      <td>7.0</td>\n",
       "      <td>1</td>\n",
       "    </tr>\n",
       "    <tr>\n",
       "      <th>3</th>\n",
       "      <td>37.0</td>\n",
       "      <td>1.0</td>\n",
       "      <td>3.0</td>\n",
       "      <td>130.0</td>\n",
       "      <td>250.0</td>\n",
       "      <td>0.0</td>\n",
       "      <td>0.0</td>\n",
       "      <td>187.0</td>\n",
       "      <td>0.0</td>\n",
       "      <td>3.5</td>\n",
       "      <td>3.0</td>\n",
       "      <td>0.0</td>\n",
       "      <td>3.0</td>\n",
       "      <td>0</td>\n",
       "    </tr>\n",
       "    <tr>\n",
       "      <th>4</th>\n",
       "      <td>41.0</td>\n",
       "      <td>0.0</td>\n",
       "      <td>2.0</td>\n",
       "      <td>130.0</td>\n",
       "      <td>204.0</td>\n",
       "      <td>0.0</td>\n",
       "      <td>2.0</td>\n",
       "      <td>172.0</td>\n",
       "      <td>0.0</td>\n",
       "      <td>1.4</td>\n",
       "      <td>1.0</td>\n",
       "      <td>0.0</td>\n",
       "      <td>3.0</td>\n",
       "      <td>0</td>\n",
       "    </tr>\n",
       "    <tr>\n",
       "      <th>...</th>\n",
       "      <td>...</td>\n",
       "      <td>...</td>\n",
       "      <td>...</td>\n",
       "      <td>...</td>\n",
       "      <td>...</td>\n",
       "      <td>...</td>\n",
       "      <td>...</td>\n",
       "      <td>...</td>\n",
       "      <td>...</td>\n",
       "      <td>...</td>\n",
       "      <td>...</td>\n",
       "      <td>...</td>\n",
       "      <td>...</td>\n",
       "      <td>...</td>\n",
       "    </tr>\n",
       "    <tr>\n",
       "      <th>715</th>\n",
       "      <td>70.0</td>\n",
       "      <td>1.0</td>\n",
       "      <td>4.0</td>\n",
       "      <td>115.0</td>\n",
       "      <td>0.0</td>\n",
       "      <td>0.0</td>\n",
       "      <td>1.0</td>\n",
       "      <td>92.0</td>\n",
       "      <td>1.0</td>\n",
       "      <td>0.0</td>\n",
       "      <td>2.0</td>\n",
       "      <td>NaN</td>\n",
       "      <td>7.0</td>\n",
       "      <td>1</td>\n",
       "    </tr>\n",
       "    <tr>\n",
       "      <th>716</th>\n",
       "      <td>70.0</td>\n",
       "      <td>1.0</td>\n",
       "      <td>4.0</td>\n",
       "      <td>140.0</td>\n",
       "      <td>0.0</td>\n",
       "      <td>1.0</td>\n",
       "      <td>0.0</td>\n",
       "      <td>157.0</td>\n",
       "      <td>1.0</td>\n",
       "      <td>2.0</td>\n",
       "      <td>2.0</td>\n",
       "      <td>NaN</td>\n",
       "      <td>7.0</td>\n",
       "      <td>3</td>\n",
       "    </tr>\n",
       "    <tr>\n",
       "      <th>717</th>\n",
       "      <td>72.0</td>\n",
       "      <td>1.0</td>\n",
       "      <td>3.0</td>\n",
       "      <td>160.0</td>\n",
       "      <td>0.0</td>\n",
       "      <td>NaN</td>\n",
       "      <td>2.0</td>\n",
       "      <td>114.0</td>\n",
       "      <td>0.0</td>\n",
       "      <td>1.6</td>\n",
       "      <td>2.0</td>\n",
       "      <td>2.0</td>\n",
       "      <td>NaN</td>\n",
       "      <td>0</td>\n",
       "    </tr>\n",
       "    <tr>\n",
       "      <th>718</th>\n",
       "      <td>73.0</td>\n",
       "      <td>0.0</td>\n",
       "      <td>3.0</td>\n",
       "      <td>160.0</td>\n",
       "      <td>0.0</td>\n",
       "      <td>0.0</td>\n",
       "      <td>1.0</td>\n",
       "      <td>121.0</td>\n",
       "      <td>0.0</td>\n",
       "      <td>0.0</td>\n",
       "      <td>1.0</td>\n",
       "      <td>NaN</td>\n",
       "      <td>3.0</td>\n",
       "      <td>1</td>\n",
       "    </tr>\n",
       "    <tr>\n",
       "      <th>719</th>\n",
       "      <td>74.0</td>\n",
       "      <td>1.0</td>\n",
       "      <td>2.0</td>\n",
       "      <td>145.0</td>\n",
       "      <td>0.0</td>\n",
       "      <td>NaN</td>\n",
       "      <td>1.0</td>\n",
       "      <td>123.0</td>\n",
       "      <td>0.0</td>\n",
       "      <td>1.3</td>\n",
       "      <td>1.0</td>\n",
       "      <td>NaN</td>\n",
       "      <td>NaN</td>\n",
       "      <td>1</td>\n",
       "    </tr>\n",
       "  </tbody>\n",
       "</table>\n",
       "<p>720 rows × 14 columns</p>\n",
       "</div>"
      ],
      "text/plain": [
       "      age  sex   cp  trestbps   chol  fbs  restecg  thalach  exang  oldpeak  \\\n",
       "0    63.0  1.0  1.0     145.0  233.0  1.0      2.0    150.0    0.0      2.3   \n",
       "1    67.0  1.0  4.0     160.0  286.0  0.0      2.0    108.0    1.0      1.5   \n",
       "2    67.0  1.0  4.0     120.0  229.0  0.0      2.0    129.0    1.0      2.6   \n",
       "3    37.0  1.0  3.0     130.0  250.0  0.0      0.0    187.0    0.0      3.5   \n",
       "4    41.0  0.0  2.0     130.0  204.0  0.0      2.0    172.0    0.0      1.4   \n",
       "..    ...  ...  ...       ...    ...  ...      ...      ...    ...      ...   \n",
       "715  70.0  1.0  4.0     115.0    0.0  0.0      1.0     92.0    1.0      0.0   \n",
       "716  70.0  1.0  4.0     140.0    0.0  1.0      0.0    157.0    1.0      2.0   \n",
       "717  72.0  1.0  3.0     160.0    0.0  NaN      2.0    114.0    0.0      1.6   \n",
       "718  73.0  0.0  3.0     160.0    0.0  0.0      1.0    121.0    0.0      0.0   \n",
       "719  74.0  1.0  2.0     145.0    0.0  NaN      1.0    123.0    0.0      1.3   \n",
       "\n",
       "     slope   ca  thal  heart_disease  \n",
       "0      3.0  0.0   6.0              0  \n",
       "1      2.0  3.0   3.0              2  \n",
       "2      2.0  2.0   7.0              1  \n",
       "3      3.0  0.0   3.0              0  \n",
       "4      1.0  0.0   3.0              0  \n",
       "..     ...  ...   ...            ...  \n",
       "715    2.0  NaN   7.0              1  \n",
       "716    2.0  NaN   7.0              3  \n",
       "717    2.0  2.0   NaN              0  \n",
       "718    1.0  NaN   3.0              1  \n",
       "719    1.0  NaN   NaN              1  \n",
       "\n",
       "[720 rows x 14 columns]"
      ]
     },
     "execution_count": 62,
     "metadata": {},
     "output_type": "execute_result"
    }
   ],
   "source": [
    "cardiovascular"
   ]
  },
  {
   "cell_type": "code",
   "execution_count": 63,
   "id": "c74c3d5a",
   "metadata": {},
   "outputs": [
    {
     "name": "stdout",
     "output_type": "stream",
     "text": [
      "<class 'pandas.core.frame.DataFrame'>\n",
      "RangeIndex: 720 entries, 0 to 719\n",
      "Data columns (total 14 columns):\n",
      " #   Column         Non-Null Count  Dtype  \n",
      "---  ------         --------------  -----  \n",
      " 0   age            720 non-null    float64\n",
      " 1   sex            720 non-null    float64\n",
      " 2   cp             720 non-null    float64\n",
      " 3   trestbps       717 non-null    float64\n",
      " 4   chol           697 non-null    float64\n",
      " 5   fbs            637 non-null    float64\n",
      " 6   restecg        718 non-null    float64\n",
      " 7   thalach        718 non-null    float64\n",
      " 8   exang          718 non-null    float64\n",
      " 9   oldpeak        714 non-null    float64\n",
      " 10  slope          513 non-null    float64\n",
      " 11  ca             307 non-null    float64\n",
      " 12  thal           400 non-null    float64\n",
      " 13  heart_disease  720 non-null    int64  \n",
      "dtypes: float64(13), int64(1)\n",
      "memory usage: 78.9 KB\n"
     ]
    }
   ],
   "source": [
    "cardiovascular.info()"
   ]
  },
  {
   "cell_type": "code",
   "execution_count": 64,
   "id": "6efe60c8",
   "metadata": {},
   "outputs": [
    {
     "data": {
      "text/plain": [
       "age                0\n",
       "sex                0\n",
       "cp                 0\n",
       "trestbps           3\n",
       "chol              23\n",
       "fbs               83\n",
       "restecg            2\n",
       "thalach            2\n",
       "exang              2\n",
       "oldpeak            6\n",
       "slope            207\n",
       "ca               413\n",
       "thal             320\n",
       "heart_disease      0\n",
       "dtype: int64"
      ]
     },
     "execution_count": 64,
     "metadata": {},
     "output_type": "execute_result"
    }
   ],
   "source": [
    "cardiovascular.isnull().sum()"
   ]
  },
  {
   "cell_type": "markdown",
   "id": "c5a497b5",
   "metadata": {},
   "source": [
    "## Exploratory Data Analysis"
   ]
  },
  {
   "cell_type": "markdown",
   "id": "89cfb5ec",
   "metadata": {},
   "source": [
    "### Association between sex and occurrence of disease"
   ]
  },
  {
   "cell_type": "code",
   "execution_count": 65,
   "id": "3e2e89b1",
   "metadata": {},
   "outputs": [
    {
     "name": "stdout",
     "output_type": "stream",
     "text": [
      "heart_disease    0    1   2   3   4\n",
      "sex                                \n",
      "0.0            141   27  10   8   2\n",
      "1.0            219  182  58  57  16\n"
     ]
    }
   ],
   "source": [
    "#Frequency table: Frequency\n",
    "sex_disease_freq = pd.crosstab(cardiovascular.sex, cardiovascular.heart_disease)\n",
    "print(sex_disease_freq)"
   ]
  },
  {
   "cell_type": "code",
   "execution_count": 66,
   "id": "0ae481e6",
   "metadata": {},
   "outputs": [
    {
     "name": "stdout",
     "output_type": "stream",
     "text": [
      "heart_disease         0         1         2         3         4\n",
      "sex                                                            \n",
      "0.0            0.195833  0.037500  0.013889  0.011111  0.002778\n",
      "1.0            0.304167  0.252778  0.080556  0.079167  0.022222\n"
     ]
    }
   ],
   "source": [
    "#Frequency table: Proportion\n",
    "sex_disease_prop = pd.crosstab(cardiovascular.sex, cardiovascular.heart_disease, normalize=True)\n",
    "print(sex_disease_prop)"
   ]
  },
  {
   "cell_type": "code",
   "execution_count": 67,
   "id": "09705fb4",
   "metadata": {},
   "outputs": [
    {
     "name": "stdout",
     "output_type": "stream",
     "text": [
      "[[ 94.  55.  18.  17.   5.]\n",
      " [266. 154.  50.  48.  13.]]\n",
      "-----------------\n",
      "chi2 63.76116420995928\n"
     ]
    }
   ],
   "source": [
    "# Calculation of expected frequency and chi2\n",
    "from scipy.stats import chi2_contingency\n",
    "chi2, pval, dof, expected = chi2_contingency(sex_disease_freq)\n",
    "print(np.round(expected))\n",
    "print('-----------------')\n",
    "print('chi2',chi2)"
   ]
  },
  {
   "cell_type": "markdown",
   "id": "50116bfe",
   "metadata": {},
   "source": [
    "When we compare the expected contingency table with observed contingency table. Both differs significantly and chi square is 63.76 which is huge. Therefore, we can conclude that there is a strong association between sex and occurence of disease. However, we need to remember that asscociation does not mean causation."
   ]
  },
  {
   "cell_type": "markdown",
   "id": "05c80c6a",
   "metadata": {},
   "source": [
    "### Association between age and occurrence of  disease"
   ]
  },
  {
   "cell_type": "code",
   "execution_count": 68,
   "id": "72203c66",
   "metadata": {},
   "outputs": [],
   "source": [
    "age_disease = cardiovascular.age[cardiovascular.heart_disease == 0]"
   ]
  },
  {
   "cell_type": "code",
   "execution_count": 69,
   "id": "9c4c8136",
   "metadata": {},
   "outputs": [],
   "source": [
    "age_no_disease = cardiovascular.age[cardiovascular.heart_disease != 0]"
   ]
  },
  {
   "cell_type": "code",
   "execution_count": 70,
   "id": "5b45e9ce",
   "metadata": {},
   "outputs": [
    {
     "data": {
      "text/plain": [
       "<Axes: xlabel='heart_disease', ylabel='age'>"
      ]
     },
     "execution_count": 70,
     "metadata": {},
     "output_type": "execute_result"
    },
    {
     "data": {
      "image/png": "[encoded data removed]",
      "text/plain": [
       "<Figure size 640x480 with 1 Axes>"
      ]
     },
     "metadata": {},
     "output_type": "display_data"
    }
   ],
   "source": [
    "#Boxplot\n",
    "sns.boxplot(data=cardiovascular, x='heart_disease', y='age')"
   ]
  },
  {
   "cell_type": "markdown",
   "id": "13bd3b65",
   "metadata": {},
   "source": [
    "Here, we can see that all the boxlpot overlaps. Therefore, we can conclude that there is no strong association between the age and occurence of disease."
   ]
  },
  {
   "cell_type": "code",
   "execution_count": 72,
   "id": "d6596e12",
   "metadata": {},
   "outputs": [
    {
     "data": {
      "text/plain": [
       "<matplotlib.legend.Legend at 0x2a70001b690>"
      ]
     },
     "execution_count": 72,
     "metadata": {},
     "output_type": "execute_result"
    },
    {
     "data": {
      "image/png": "[encoded data removed]",
      "text/plain": [
       "<Figure size 640x480 with 1 Axes>"
      ]
     },
     "metadata": {},
     "output_type": "display_data"
    }
   ],
   "source": [
    "plt.hist(age_disease, color='blue', label='No', alpha=0.5 )\n",
    "plt.hist(age_no_disease, color='red', label='Yes', alpha=0.5 )\n",
    "plt.xlabel('Age')\n",
    "plt.ylabel('Count of women having disease or no disease')\n",
    "plt.legend()"
   ]
  },
  {
   "cell_type": "markdown",
   "id": "014b427f",
   "metadata": {},
   "source": [
    "Here, we can see that the large portion of the histogram overlaps. Therefore, we can conclude that there is no strong association between the age and occurrence of disease."
   ]
  },
  {
   "cell_type": "markdown",
   "id": "9214f810",
   "metadata": {},
   "source": [
    "## Split the dataset based on gender"
   ]
  },
  {
   "cell_type": "code",
   "execution_count": 73,
   "id": "5136c1e3",
   "metadata": {},
   "outputs": [],
   "source": [
    "cardiovascular_gender = cardiovascular.groupby('sex')"
   ]
  },
  {
   "cell_type": "code",
   "execution_count": 74,
   "id": "41121f36",
   "metadata": {},
   "outputs": [
    {
     "data": {
      "text/html": [
       "<div>\n",
       "<style scoped>\n",
       "    .dataframe tbody tr th:only-of-type {\n",
       "        vertical-align: middle;\n",
       "    }\n",
       "\n",
       "    .dataframe tbody tr th {\n",
       "        vertical-align: top;\n",
       "    }\n",
       "\n",
       "    .dataframe thead th {\n",
       "        text-align: right;\n",
       "    }\n",
       "</style>\n",
       "<table border=\"1\" class=\"dataframe\">\n",
       "  <thead>\n",
       "    <tr style=\"text-align: right;\">\n",
       "      <th></th>\n",
       "      <th>age</th>\n",
       "      <th>sex</th>\n",
       "      <th>cp</th>\n",
       "      <th>trestbps</th>\n",
       "      <th>chol</th>\n",
       "      <th>fbs</th>\n",
       "      <th>restecg</th>\n",
       "      <th>thalach</th>\n",
       "      <th>exang</th>\n",
       "      <th>oldpeak</th>\n",
       "      <th>slope</th>\n",
       "      <th>ca</th>\n",
       "      <th>thal</th>\n",
       "      <th>heart_disease</th>\n",
       "    </tr>\n",
       "  </thead>\n",
       "  <tbody>\n",
       "    <tr>\n",
       "      <th>4</th>\n",
       "      <td>41.0</td>\n",
       "      <td>0.0</td>\n",
       "      <td>2.0</td>\n",
       "      <td>130.0</td>\n",
       "      <td>204.0</td>\n",
       "      <td>0.0</td>\n",
       "      <td>2.0</td>\n",
       "      <td>172.0</td>\n",
       "      <td>0.0</td>\n",
       "      <td>1.4</td>\n",
       "      <td>1.0</td>\n",
       "      <td>0.0</td>\n",
       "      <td>3.0</td>\n",
       "      <td>0</td>\n",
       "    </tr>\n",
       "    <tr>\n",
       "      <th>6</th>\n",
       "      <td>62.0</td>\n",
       "      <td>0.0</td>\n",
       "      <td>4.0</td>\n",
       "      <td>140.0</td>\n",
       "      <td>268.0</td>\n",
       "      <td>0.0</td>\n",
       "      <td>2.0</td>\n",
       "      <td>160.0</td>\n",
       "      <td>0.0</td>\n",
       "      <td>3.6</td>\n",
       "      <td>3.0</td>\n",
       "      <td>2.0</td>\n",
       "      <td>3.0</td>\n",
       "      <td>3</td>\n",
       "    </tr>\n",
       "    <tr>\n",
       "      <th>7</th>\n",
       "      <td>57.0</td>\n",
       "      <td>0.0</td>\n",
       "      <td>4.0</td>\n",
       "      <td>120.0</td>\n",
       "      <td>354.0</td>\n",
       "      <td>0.0</td>\n",
       "      <td>0.0</td>\n",
       "      <td>163.0</td>\n",
       "      <td>1.0</td>\n",
       "      <td>0.6</td>\n",
       "      <td>1.0</td>\n",
       "      <td>0.0</td>\n",
       "      <td>3.0</td>\n",
       "      <td>0</td>\n",
       "    </tr>\n",
       "    <tr>\n",
       "      <th>11</th>\n",
       "      <td>56.0</td>\n",
       "      <td>0.0</td>\n",
       "      <td>2.0</td>\n",
       "      <td>140.0</td>\n",
       "      <td>294.0</td>\n",
       "      <td>0.0</td>\n",
       "      <td>2.0</td>\n",
       "      <td>153.0</td>\n",
       "      <td>0.0</td>\n",
       "      <td>1.3</td>\n",
       "      <td>2.0</td>\n",
       "      <td>0.0</td>\n",
       "      <td>3.0</td>\n",
       "      <td>0</td>\n",
       "    </tr>\n",
       "    <tr>\n",
       "      <th>18</th>\n",
       "      <td>48.0</td>\n",
       "      <td>0.0</td>\n",
       "      <td>3.0</td>\n",
       "      <td>130.0</td>\n",
       "      <td>275.0</td>\n",
       "      <td>0.0</td>\n",
       "      <td>0.0</td>\n",
       "      <td>139.0</td>\n",
       "      <td>0.0</td>\n",
       "      <td>0.2</td>\n",
       "      <td>1.0</td>\n",
       "      <td>0.0</td>\n",
       "      <td>3.0</td>\n",
       "      <td>0</td>\n",
       "    </tr>\n",
       "    <tr>\n",
       "      <th>...</th>\n",
       "      <td>...</td>\n",
       "      <td>...</td>\n",
       "      <td>...</td>\n",
       "      <td>...</td>\n",
       "      <td>...</td>\n",
       "      <td>...</td>\n",
       "      <td>...</td>\n",
       "      <td>...</td>\n",
       "      <td>...</td>\n",
       "      <td>...</td>\n",
       "      <td>...</td>\n",
       "      <td>...</td>\n",
       "      <td>...</td>\n",
       "      <td>...</td>\n",
       "    </tr>\n",
       "    <tr>\n",
       "      <th>690</th>\n",
       "      <td>62.0</td>\n",
       "      <td>0.0</td>\n",
       "      <td>4.0</td>\n",
       "      <td>120.0</td>\n",
       "      <td>0.0</td>\n",
       "      <td>NaN</td>\n",
       "      <td>1.0</td>\n",
       "      <td>123.0</td>\n",
       "      <td>1.0</td>\n",
       "      <td>1.7</td>\n",
       "      <td>3.0</td>\n",
       "      <td>NaN</td>\n",
       "      <td>NaN</td>\n",
       "      <td>1</td>\n",
       "    </tr>\n",
       "    <tr>\n",
       "      <th>701</th>\n",
       "      <td>64.0</td>\n",
       "      <td>0.0</td>\n",
       "      <td>4.0</td>\n",
       "      <td>200.0</td>\n",
       "      <td>0.0</td>\n",
       "      <td>0.0</td>\n",
       "      <td>0.0</td>\n",
       "      <td>140.0</td>\n",
       "      <td>1.0</td>\n",
       "      <td>1.0</td>\n",
       "      <td>2.0</td>\n",
       "      <td>NaN</td>\n",
       "      <td>3.0</td>\n",
       "      <td>3</td>\n",
       "    </tr>\n",
       "    <tr>\n",
       "      <th>702</th>\n",
       "      <td>64.0</td>\n",
       "      <td>0.0</td>\n",
       "      <td>4.0</td>\n",
       "      <td>95.0</td>\n",
       "      <td>0.0</td>\n",
       "      <td>NaN</td>\n",
       "      <td>0.0</td>\n",
       "      <td>145.0</td>\n",
       "      <td>0.0</td>\n",
       "      <td>1.1</td>\n",
       "      <td>3.0</td>\n",
       "      <td>NaN</td>\n",
       "      <td>NaN</td>\n",
       "      <td>1</td>\n",
       "    </tr>\n",
       "    <tr>\n",
       "      <th>708</th>\n",
       "      <td>66.0</td>\n",
       "      <td>0.0</td>\n",
       "      <td>4.0</td>\n",
       "      <td>155.0</td>\n",
       "      <td>0.0</td>\n",
       "      <td>NaN</td>\n",
       "      <td>0.0</td>\n",
       "      <td>90.0</td>\n",
       "      <td>0.0</td>\n",
       "      <td>0.0</td>\n",
       "      <td>NaN</td>\n",
       "      <td>NaN</td>\n",
       "      <td>7.0</td>\n",
       "      <td>1</td>\n",
       "    </tr>\n",
       "    <tr>\n",
       "      <th>718</th>\n",
       "      <td>73.0</td>\n",
       "      <td>0.0</td>\n",
       "      <td>3.0</td>\n",
       "      <td>160.0</td>\n",
       "      <td>0.0</td>\n",
       "      <td>0.0</td>\n",
       "      <td>1.0</td>\n",
       "      <td>121.0</td>\n",
       "      <td>0.0</td>\n",
       "      <td>0.0</td>\n",
       "      <td>1.0</td>\n",
       "      <td>NaN</td>\n",
       "      <td>3.0</td>\n",
       "      <td>1</td>\n",
       "    </tr>\n",
       "  </tbody>\n",
       "</table>\n",
       "<p>188 rows × 14 columns</p>\n",
       "</div>"
      ],
      "text/plain": [
       "      age  sex   cp  trestbps   chol  fbs  restecg  thalach  exang  oldpeak  \\\n",
       "4    41.0  0.0  2.0     130.0  204.0  0.0      2.0    172.0    0.0      1.4   \n",
       "6    62.0  0.0  4.0     140.0  268.0  0.0      2.0    160.0    0.0      3.6   \n",
       "7    57.0  0.0  4.0     120.0  354.0  0.0      0.0    163.0    1.0      0.6   \n",
       "11   56.0  0.0  2.0     140.0  294.0  0.0      2.0    153.0    0.0      1.3   \n",
       "18   48.0  0.0  3.0     130.0  275.0  0.0      0.0    139.0    0.0      0.2   \n",
       "..    ...  ...  ...       ...    ...  ...      ...      ...    ...      ...   \n",
       "690  62.0  0.0  4.0     120.0    0.0  NaN      1.0    123.0    1.0      1.7   \n",
       "701  64.0  0.0  4.0     200.0    0.0  0.0      0.0    140.0    1.0      1.0   \n",
       "702  64.0  0.0  4.0      95.0    0.0  NaN      0.0    145.0    0.0      1.1   \n",
       "708  66.0  0.0  4.0     155.0    0.0  NaN      0.0     90.0    0.0      0.0   \n",
       "718  73.0  0.0  3.0     160.0    0.0  0.0      1.0    121.0    0.0      0.0   \n",
       "\n",
       "     slope   ca  thal  heart_disease  \n",
       "4      1.0  0.0   3.0              0  \n",
       "6      3.0  2.0   3.0              3  \n",
       "7      1.0  0.0   3.0              0  \n",
       "11     2.0  0.0   3.0              0  \n",
       "18     1.0  0.0   3.0              0  \n",
       "..     ...  ...   ...            ...  \n",
       "690    3.0  NaN   NaN              1  \n",
       "701    2.0  NaN   3.0              3  \n",
       "702    3.0  NaN   NaN              1  \n",
       "708    NaN  NaN   7.0              1  \n",
       "718    1.0  NaN   3.0              1  \n",
       "\n",
       "[188 rows x 14 columns]"
      ]
     },
     "execution_count": 74,
     "metadata": {},
     "output_type": "execute_result"
    }
   ],
   "source": [
    "cardiovascular_split_female = cardiovascular_gender.get_group(0)\n",
    "cardiovascular_split_female"
   ]
  },
  {
   "cell_type": "code",
   "execution_count": 75,
   "id": "a584a2c9",
   "metadata": {},
   "outputs": [
    {
     "data": {
      "text/html": [
       "<div>\n",
       "<style scoped>\n",
       "    .dataframe tbody tr th:only-of-type {\n",
       "        vertical-align: middle;\n",
       "    }\n",
       "\n",
       "    .dataframe tbody tr th {\n",
       "        vertical-align: top;\n",
       "    }\n",
       "\n",
       "    .dataframe thead th {\n",
       "        text-align: right;\n",
       "    }\n",
       "</style>\n",
       "<table border=\"1\" class=\"dataframe\">\n",
       "  <thead>\n",
       "    <tr style=\"text-align: right;\">\n",
       "      <th></th>\n",
       "      <th>age</th>\n",
       "      <th>sex</th>\n",
       "      <th>cp</th>\n",
       "      <th>trestbps</th>\n",
       "      <th>chol</th>\n",
       "      <th>fbs</th>\n",
       "      <th>restecg</th>\n",
       "      <th>thalach</th>\n",
       "      <th>exang</th>\n",
       "      <th>oldpeak</th>\n",
       "      <th>slope</th>\n",
       "      <th>ca</th>\n",
       "      <th>thal</th>\n",
       "      <th>heart_disease</th>\n",
       "    </tr>\n",
       "  </thead>\n",
       "  <tbody>\n",
       "    <tr>\n",
       "      <th>0</th>\n",
       "      <td>41.0</td>\n",
       "      <td>0.0</td>\n",
       "      <td>2.0</td>\n",
       "      <td>130.0</td>\n",
       "      <td>204.0</td>\n",
       "      <td>0.0</td>\n",
       "      <td>2.0</td>\n",
       "      <td>172.0</td>\n",
       "      <td>0.0</td>\n",
       "      <td>1.4</td>\n",
       "      <td>1.0</td>\n",
       "      <td>0.0</td>\n",
       "      <td>3.0</td>\n",
       "      <td>0</td>\n",
       "    </tr>\n",
       "    <tr>\n",
       "      <th>1</th>\n",
       "      <td>62.0</td>\n",
       "      <td>0.0</td>\n",
       "      <td>4.0</td>\n",
       "      <td>140.0</td>\n",
       "      <td>268.0</td>\n",
       "      <td>0.0</td>\n",
       "      <td>2.0</td>\n",
       "      <td>160.0</td>\n",
       "      <td>0.0</td>\n",
       "      <td>3.6</td>\n",
       "      <td>3.0</td>\n",
       "      <td>2.0</td>\n",
       "      <td>3.0</td>\n",
       "      <td>3</td>\n",
       "    </tr>\n",
       "    <tr>\n",
       "      <th>2</th>\n",
       "      <td>57.0</td>\n",
       "      <td>0.0</td>\n",
       "      <td>4.0</td>\n",
       "      <td>120.0</td>\n",
       "      <td>354.0</td>\n",
       "      <td>0.0</td>\n",
       "      <td>0.0</td>\n",
       "      <td>163.0</td>\n",
       "      <td>1.0</td>\n",
       "      <td>0.6</td>\n",
       "      <td>1.0</td>\n",
       "      <td>0.0</td>\n",
       "      <td>3.0</td>\n",
       "      <td>0</td>\n",
       "    </tr>\n",
       "    <tr>\n",
       "      <th>3</th>\n",
       "      <td>56.0</td>\n",
       "      <td>0.0</td>\n",
       "      <td>2.0</td>\n",
       "      <td>140.0</td>\n",
       "      <td>294.0</td>\n",
       "      <td>0.0</td>\n",
       "      <td>2.0</td>\n",
       "      <td>153.0</td>\n",
       "      <td>0.0</td>\n",
       "      <td>1.3</td>\n",
       "      <td>2.0</td>\n",
       "      <td>0.0</td>\n",
       "      <td>3.0</td>\n",
       "      <td>0</td>\n",
       "    </tr>\n",
       "    <tr>\n",
       "      <th>4</th>\n",
       "      <td>48.0</td>\n",
       "      <td>0.0</td>\n",
       "      <td>3.0</td>\n",
       "      <td>130.0</td>\n",
       "      <td>275.0</td>\n",
       "      <td>0.0</td>\n",
       "      <td>0.0</td>\n",
       "      <td>139.0</td>\n",
       "      <td>0.0</td>\n",
       "      <td>0.2</td>\n",
       "      <td>1.0</td>\n",
       "      <td>0.0</td>\n",
       "      <td>3.0</td>\n",
       "      <td>0</td>\n",
       "    </tr>\n",
       "    <tr>\n",
       "      <th>...</th>\n",
       "      <td>...</td>\n",
       "      <td>...</td>\n",
       "      <td>...</td>\n",
       "      <td>...</td>\n",
       "      <td>...</td>\n",
       "      <td>...</td>\n",
       "      <td>...</td>\n",
       "      <td>...</td>\n",
       "      <td>...</td>\n",
       "      <td>...</td>\n",
       "      <td>...</td>\n",
       "      <td>...</td>\n",
       "      <td>...</td>\n",
       "      <td>...</td>\n",
       "    </tr>\n",
       "    <tr>\n",
       "      <th>183</th>\n",
       "      <td>62.0</td>\n",
       "      <td>0.0</td>\n",
       "      <td>4.0</td>\n",
       "      <td>120.0</td>\n",
       "      <td>0.0</td>\n",
       "      <td>NaN</td>\n",
       "      <td>1.0</td>\n",
       "      <td>123.0</td>\n",
       "      <td>1.0</td>\n",
       "      <td>1.7</td>\n",
       "      <td>3.0</td>\n",
       "      <td>NaN</td>\n",
       "      <td>NaN</td>\n",
       "      <td>1</td>\n",
       "    </tr>\n",
       "    <tr>\n",
       "      <th>184</th>\n",
       "      <td>64.0</td>\n",
       "      <td>0.0</td>\n",
       "      <td>4.0</td>\n",
       "      <td>200.0</td>\n",
       "      <td>0.0</td>\n",
       "      <td>0.0</td>\n",
       "      <td>0.0</td>\n",
       "      <td>140.0</td>\n",
       "      <td>1.0</td>\n",
       "      <td>1.0</td>\n",
       "      <td>2.0</td>\n",
       "      <td>NaN</td>\n",
       "      <td>3.0</td>\n",
       "      <td>3</td>\n",
       "    </tr>\n",
       "    <tr>\n",
       "      <th>185</th>\n",
       "      <td>64.0</td>\n",
       "      <td>0.0</td>\n",
       "      <td>4.0</td>\n",
       "      <td>95.0</td>\n",
       "      <td>0.0</td>\n",
       "      <td>NaN</td>\n",
       "      <td>0.0</td>\n",
       "      <td>145.0</td>\n",
       "      <td>0.0</td>\n",
       "      <td>1.1</td>\n",
       "      <td>3.0</td>\n",
       "      <td>NaN</td>\n",
       "      <td>NaN</td>\n",
       "      <td>1</td>\n",
       "    </tr>\n",
       "    <tr>\n",
       "      <th>186</th>\n",
       "      <td>66.0</td>\n",
       "      <td>0.0</td>\n",
       "      <td>4.0</td>\n",
       "      <td>155.0</td>\n",
       "      <td>0.0</td>\n",
       "      <td>NaN</td>\n",
       "      <td>0.0</td>\n",
       "      <td>90.0</td>\n",
       "      <td>0.0</td>\n",
       "      <td>0.0</td>\n",
       "      <td>NaN</td>\n",
       "      <td>NaN</td>\n",
       "      <td>7.0</td>\n",
       "      <td>1</td>\n",
       "    </tr>\n",
       "    <tr>\n",
       "      <th>187</th>\n",
       "      <td>73.0</td>\n",
       "      <td>0.0</td>\n",
       "      <td>3.0</td>\n",
       "      <td>160.0</td>\n",
       "      <td>0.0</td>\n",
       "      <td>0.0</td>\n",
       "      <td>1.0</td>\n",
       "      <td>121.0</td>\n",
       "      <td>0.0</td>\n",
       "      <td>0.0</td>\n",
       "      <td>1.0</td>\n",
       "      <td>NaN</td>\n",
       "      <td>3.0</td>\n",
       "      <td>1</td>\n",
       "    </tr>\n",
       "  </tbody>\n",
       "</table>\n",
       "<p>188 rows × 14 columns</p>\n",
       "</div>"
      ],
      "text/plain": [
       "      age  sex   cp  trestbps   chol  fbs  restecg  thalach  exang  oldpeak  \\\n",
       "0    41.0  0.0  2.0     130.0  204.0  0.0      2.0    172.0    0.0      1.4   \n",
       "1    62.0  0.0  4.0     140.0  268.0  0.0      2.0    160.0    0.0      3.6   \n",
       "2    57.0  0.0  4.0     120.0  354.0  0.0      0.0    163.0    1.0      0.6   \n",
       "3    56.0  0.0  2.0     140.0  294.0  0.0      2.0    153.0    0.0      1.3   \n",
       "4    48.0  0.0  3.0     130.0  275.0  0.0      0.0    139.0    0.0      0.2   \n",
       "..    ...  ...  ...       ...    ...  ...      ...      ...    ...      ...   \n",
       "183  62.0  0.0  4.0     120.0    0.0  NaN      1.0    123.0    1.0      1.7   \n",
       "184  64.0  0.0  4.0     200.0    0.0  0.0      0.0    140.0    1.0      1.0   \n",
       "185  64.0  0.0  4.0      95.0    0.0  NaN      0.0    145.0    0.0      1.1   \n",
       "186  66.0  0.0  4.0     155.0    0.0  NaN      0.0     90.0    0.0      0.0   \n",
       "187  73.0  0.0  3.0     160.0    0.0  0.0      1.0    121.0    0.0      0.0   \n",
       "\n",
       "     slope   ca  thal  heart_disease  \n",
       "0      1.0  0.0   3.0              0  \n",
       "1      3.0  2.0   3.0              3  \n",
       "2      1.0  0.0   3.0              0  \n",
       "3      2.0  0.0   3.0              0  \n",
       "4      1.0  0.0   3.0              0  \n",
       "..     ...  ...   ...            ...  \n",
       "183    3.0  NaN   NaN              1  \n",
       "184    2.0  NaN   3.0              3  \n",
       "185    3.0  NaN   NaN              1  \n",
       "186    NaN  NaN   7.0              1  \n",
       "187    1.0  NaN   3.0              1  \n",
       "\n",
       "[188 rows x 14 columns]"
      ]
     },
     "execution_count": 75,
     "metadata": {},
     "output_type": "execute_result"
    }
   ],
   "source": [
    "cardiovascular_female = cardiovascular_split_female.reset_index(drop = True)\n",
    "cardiovascular_female"
   ]
  },
  {
   "cell_type": "code",
   "execution_count": 76,
   "id": "aa1ab98d",
   "metadata": {},
   "outputs": [
    {
     "data": {
      "text/html": [
       "<div>\n",
       "<style scoped>\n",
       "    .dataframe tbody tr th:only-of-type {\n",
       "        vertical-align: middle;\n",
       "    }\n",
       "\n",
       "    .dataframe tbody tr th {\n",
       "        vertical-align: top;\n",
       "    }\n",
       "\n",
       "    .dataframe thead th {\n",
       "        text-align: right;\n",
       "    }\n",
       "</style>\n",
       "<table border=\"1\" class=\"dataframe\">\n",
       "  <thead>\n",
       "    <tr style=\"text-align: right;\">\n",
       "      <th></th>\n",
       "      <th>age</th>\n",
       "      <th>sex</th>\n",
       "      <th>cp</th>\n",
       "      <th>trestbps</th>\n",
       "      <th>chol</th>\n",
       "      <th>fbs</th>\n",
       "      <th>restecg</th>\n",
       "      <th>thalach</th>\n",
       "      <th>exang</th>\n",
       "      <th>oldpeak</th>\n",
       "      <th>slope</th>\n",
       "      <th>ca</th>\n",
       "      <th>thal</th>\n",
       "      <th>heart_disease</th>\n",
       "    </tr>\n",
       "  </thead>\n",
       "  <tbody>\n",
       "    <tr>\n",
       "      <th>0</th>\n",
       "      <td>63.0</td>\n",
       "      <td>1.0</td>\n",
       "      <td>1.0</td>\n",
       "      <td>145.0</td>\n",
       "      <td>233.0</td>\n",
       "      <td>1.0</td>\n",
       "      <td>2.0</td>\n",
       "      <td>150.0</td>\n",
       "      <td>0.0</td>\n",
       "      <td>2.3</td>\n",
       "      <td>3.0</td>\n",
       "      <td>0.0</td>\n",
       "      <td>6.0</td>\n",
       "      <td>0</td>\n",
       "    </tr>\n",
       "    <tr>\n",
       "      <th>1</th>\n",
       "      <td>67.0</td>\n",
       "      <td>1.0</td>\n",
       "      <td>4.0</td>\n",
       "      <td>160.0</td>\n",
       "      <td>286.0</td>\n",
       "      <td>0.0</td>\n",
       "      <td>2.0</td>\n",
       "      <td>108.0</td>\n",
       "      <td>1.0</td>\n",
       "      <td>1.5</td>\n",
       "      <td>2.0</td>\n",
       "      <td>3.0</td>\n",
       "      <td>3.0</td>\n",
       "      <td>2</td>\n",
       "    </tr>\n",
       "    <tr>\n",
       "      <th>2</th>\n",
       "      <td>67.0</td>\n",
       "      <td>1.0</td>\n",
       "      <td>4.0</td>\n",
       "      <td>120.0</td>\n",
       "      <td>229.0</td>\n",
       "      <td>0.0</td>\n",
       "      <td>2.0</td>\n",
       "      <td>129.0</td>\n",
       "      <td>1.0</td>\n",
       "      <td>2.6</td>\n",
       "      <td>2.0</td>\n",
       "      <td>2.0</td>\n",
       "      <td>7.0</td>\n",
       "      <td>1</td>\n",
       "    </tr>\n",
       "    <tr>\n",
       "      <th>3</th>\n",
       "      <td>37.0</td>\n",
       "      <td>1.0</td>\n",
       "      <td>3.0</td>\n",
       "      <td>130.0</td>\n",
       "      <td>250.0</td>\n",
       "      <td>0.0</td>\n",
       "      <td>0.0</td>\n",
       "      <td>187.0</td>\n",
       "      <td>0.0</td>\n",
       "      <td>3.5</td>\n",
       "      <td>3.0</td>\n",
       "      <td>0.0</td>\n",
       "      <td>3.0</td>\n",
       "      <td>0</td>\n",
       "    </tr>\n",
       "    <tr>\n",
       "      <th>5</th>\n",
       "      <td>56.0</td>\n",
       "      <td>1.0</td>\n",
       "      <td>2.0</td>\n",
       "      <td>120.0</td>\n",
       "      <td>236.0</td>\n",
       "      <td>0.0</td>\n",
       "      <td>0.0</td>\n",
       "      <td>178.0</td>\n",
       "      <td>0.0</td>\n",
       "      <td>0.8</td>\n",
       "      <td>1.0</td>\n",
       "      <td>0.0</td>\n",
       "      <td>3.0</td>\n",
       "      <td>0</td>\n",
       "    </tr>\n",
       "    <tr>\n",
       "      <th>...</th>\n",
       "      <td>...</td>\n",
       "      <td>...</td>\n",
       "      <td>...</td>\n",
       "      <td>...</td>\n",
       "      <td>...</td>\n",
       "      <td>...</td>\n",
       "      <td>...</td>\n",
       "      <td>...</td>\n",
       "      <td>...</td>\n",
       "      <td>...</td>\n",
       "      <td>...</td>\n",
       "      <td>...</td>\n",
       "      <td>...</td>\n",
       "      <td>...</td>\n",
       "    </tr>\n",
       "    <tr>\n",
       "      <th>714</th>\n",
       "      <td>69.0</td>\n",
       "      <td>1.0</td>\n",
       "      <td>4.0</td>\n",
       "      <td>NaN</td>\n",
       "      <td>0.0</td>\n",
       "      <td>0.0</td>\n",
       "      <td>1.0</td>\n",
       "      <td>NaN</td>\n",
       "      <td>NaN</td>\n",
       "      <td>NaN</td>\n",
       "      <td>NaN</td>\n",
       "      <td>NaN</td>\n",
       "      <td>7.0</td>\n",
       "      <td>3</td>\n",
       "    </tr>\n",
       "    <tr>\n",
       "      <th>715</th>\n",
       "      <td>70.0</td>\n",
       "      <td>1.0</td>\n",
       "      <td>4.0</td>\n",
       "      <td>115.0</td>\n",
       "      <td>0.0</td>\n",
       "      <td>0.0</td>\n",
       "      <td>1.0</td>\n",
       "      <td>92.0</td>\n",
       "      <td>1.0</td>\n",
       "      <td>0.0</td>\n",
       "      <td>2.0</td>\n",
       "      <td>NaN</td>\n",
       "      <td>7.0</td>\n",
       "      <td>1</td>\n",
       "    </tr>\n",
       "    <tr>\n",
       "      <th>716</th>\n",
       "      <td>70.0</td>\n",
       "      <td>1.0</td>\n",
       "      <td>4.0</td>\n",
       "      <td>140.0</td>\n",
       "      <td>0.0</td>\n",
       "      <td>1.0</td>\n",
       "      <td>0.0</td>\n",
       "      <td>157.0</td>\n",
       "      <td>1.0</td>\n",
       "      <td>2.0</td>\n",
       "      <td>2.0</td>\n",
       "      <td>NaN</td>\n",
       "      <td>7.0</td>\n",
       "      <td>3</td>\n",
       "    </tr>\n",
       "    <tr>\n",
       "      <th>717</th>\n",
       "      <td>72.0</td>\n",
       "      <td>1.0</td>\n",
       "      <td>3.0</td>\n",
       "      <td>160.0</td>\n",
       "      <td>0.0</td>\n",
       "      <td>NaN</td>\n",
       "      <td>2.0</td>\n",
       "      <td>114.0</td>\n",
       "      <td>0.0</td>\n",
       "      <td>1.6</td>\n",
       "      <td>2.0</td>\n",
       "      <td>2.0</td>\n",
       "      <td>NaN</td>\n",
       "      <td>0</td>\n",
       "    </tr>\n",
       "    <tr>\n",
       "      <th>719</th>\n",
       "      <td>74.0</td>\n",
       "      <td>1.0</td>\n",
       "      <td>2.0</td>\n",
       "      <td>145.0</td>\n",
       "      <td>0.0</td>\n",
       "      <td>NaN</td>\n",
       "      <td>1.0</td>\n",
       "      <td>123.0</td>\n",
       "      <td>0.0</td>\n",
       "      <td>1.3</td>\n",
       "      <td>1.0</td>\n",
       "      <td>NaN</td>\n",
       "      <td>NaN</td>\n",
       "      <td>1</td>\n",
       "    </tr>\n",
       "  </tbody>\n",
       "</table>\n",
       "<p>532 rows × 14 columns</p>\n",
       "</div>"
      ],
      "text/plain": [
       "      age  sex   cp  trestbps   chol  fbs  restecg  thalach  exang  oldpeak  \\\n",
       "0    63.0  1.0  1.0     145.0  233.0  1.0      2.0    150.0    0.0      2.3   \n",
       "1    67.0  1.0  4.0     160.0  286.0  0.0      2.0    108.0    1.0      1.5   \n",
       "2    67.0  1.0  4.0     120.0  229.0  0.0      2.0    129.0    1.0      2.6   \n",
       "3    37.0  1.0  3.0     130.0  250.0  0.0      0.0    187.0    0.0      3.5   \n",
       "5    56.0  1.0  2.0     120.0  236.0  0.0      0.0    178.0    0.0      0.8   \n",
       "..    ...  ...  ...       ...    ...  ...      ...      ...    ...      ...   \n",
       "714  69.0  1.0  4.0       NaN    0.0  0.0      1.0      NaN    NaN      NaN   \n",
       "715  70.0  1.0  4.0     115.0    0.0  0.0      1.0     92.0    1.0      0.0   \n",
       "716  70.0  1.0  4.0     140.0    0.0  1.0      0.0    157.0    1.0      2.0   \n",
       "717  72.0  1.0  3.0     160.0    0.0  NaN      2.0    114.0    0.0      1.6   \n",
       "719  74.0  1.0  2.0     145.0    0.0  NaN      1.0    123.0    0.0      1.3   \n",
       "\n",
       "     slope   ca  thal  heart_disease  \n",
       "0      3.0  0.0   6.0              0  \n",
       "1      2.0  3.0   3.0              2  \n",
       "2      2.0  2.0   7.0              1  \n",
       "3      3.0  0.0   3.0              0  \n",
       "5      1.0  0.0   3.0              0  \n",
       "..     ...  ...   ...            ...  \n",
       "714    NaN  NaN   7.0              3  \n",
       "715    2.0  NaN   7.0              1  \n",
       "716    2.0  NaN   7.0              3  \n",
       "717    2.0  2.0   NaN              0  \n",
       "719    1.0  NaN   NaN              1  \n",
       "\n",
       "[532 rows x 14 columns]"
      ]
     },
     "execution_count": 76,
     "metadata": {},
     "output_type": "execute_result"
    }
   ],
   "source": [
    "cardiovascular_split_male = cardiovascular_gender.get_group(1)\n",
    "cardiovascular_split_male"
   ]
  },
  {
   "cell_type": "code",
   "execution_count": 77,
   "id": "dd91e9f6",
   "metadata": {},
   "outputs": [
    {
     "data": {
      "text/html": [
       "<div>\n",
       "<style scoped>\n",
       "    .dataframe tbody tr th:only-of-type {\n",
       "        vertical-align: middle;\n",
       "    }\n",
       "\n",
       "    .dataframe tbody tr th {\n",
       "        vertical-align: top;\n",
       "    }\n",
       "\n",
       "    .dataframe thead th {\n",
       "        text-align: right;\n",
       "    }\n",
       "</style>\n",
       "<table border=\"1\" class=\"dataframe\">\n",
       "  <thead>\n",
       "    <tr style=\"text-align: right;\">\n",
       "      <th></th>\n",
       "      <th>age</th>\n",
       "      <th>sex</th>\n",
       "      <th>cp</th>\n",
       "      <th>trestbps</th>\n",
       "      <th>chol</th>\n",
       "      <th>fbs</th>\n",
       "      <th>restecg</th>\n",
       "      <th>thalach</th>\n",
       "      <th>exang</th>\n",
       "      <th>oldpeak</th>\n",
       "      <th>slope</th>\n",
       "      <th>ca</th>\n",
       "      <th>thal</th>\n",
       "      <th>heart_disease</th>\n",
       "    </tr>\n",
       "  </thead>\n",
       "  <tbody>\n",
       "    <tr>\n",
       "      <th>0</th>\n",
       "      <td>63.0</td>\n",
       "      <td>1.0</td>\n",
       "      <td>1.0</td>\n",
       "      <td>145.0</td>\n",
       "      <td>233.0</td>\n",
       "      <td>1.0</td>\n",
       "      <td>2.0</td>\n",
       "      <td>150.0</td>\n",
       "      <td>0.0</td>\n",
       "      <td>2.3</td>\n",
       "      <td>3.0</td>\n",
       "      <td>0.0</td>\n",
       "      <td>6.0</td>\n",
       "      <td>0</td>\n",
       "    </tr>\n",
       "    <tr>\n",
       "      <th>1</th>\n",
       "      <td>67.0</td>\n",
       "      <td>1.0</td>\n",
       "      <td>4.0</td>\n",
       "      <td>160.0</td>\n",
       "      <td>286.0</td>\n",
       "      <td>0.0</td>\n",
       "      <td>2.0</td>\n",
       "      <td>108.0</td>\n",
       "      <td>1.0</td>\n",
       "      <td>1.5</td>\n",
       "      <td>2.0</td>\n",
       "      <td>3.0</td>\n",
       "      <td>3.0</td>\n",
       "      <td>2</td>\n",
       "    </tr>\n",
       "    <tr>\n",
       "      <th>2</th>\n",
       "      <td>67.0</td>\n",
       "      <td>1.0</td>\n",
       "      <td>4.0</td>\n",
       "      <td>120.0</td>\n",
       "      <td>229.0</td>\n",
       "      <td>0.0</td>\n",
       "      <td>2.0</td>\n",
       "      <td>129.0</td>\n",
       "      <td>1.0</td>\n",
       "      <td>2.6</td>\n",
       "      <td>2.0</td>\n",
       "      <td>2.0</td>\n",
       "      <td>7.0</td>\n",
       "      <td>1</td>\n",
       "    </tr>\n",
       "    <tr>\n",
       "      <th>3</th>\n",
       "      <td>37.0</td>\n",
       "      <td>1.0</td>\n",
       "      <td>3.0</td>\n",
       "      <td>130.0</td>\n",
       "      <td>250.0</td>\n",
       "      <td>0.0</td>\n",
       "      <td>0.0</td>\n",
       "      <td>187.0</td>\n",
       "      <td>0.0</td>\n",
       "      <td>3.5</td>\n",
       "      <td>3.0</td>\n",
       "      <td>0.0</td>\n",
       "      <td>3.0</td>\n",
       "      <td>0</td>\n",
       "    </tr>\n",
       "    <tr>\n",
       "      <th>4</th>\n",
       "      <td>56.0</td>\n",
       "      <td>1.0</td>\n",
       "      <td>2.0</td>\n",
       "      <td>120.0</td>\n",
       "      <td>236.0</td>\n",
       "      <td>0.0</td>\n",
       "      <td>0.0</td>\n",
       "      <td>178.0</td>\n",
       "      <td>0.0</td>\n",
       "      <td>0.8</td>\n",
       "      <td>1.0</td>\n",
       "      <td>0.0</td>\n",
       "      <td>3.0</td>\n",
       "      <td>0</td>\n",
       "    </tr>\n",
       "    <tr>\n",
       "      <th>...</th>\n",
       "      <td>...</td>\n",
       "      <td>...</td>\n",
       "      <td>...</td>\n",
       "      <td>...</td>\n",
       "      <td>...</td>\n",
       "      <td>...</td>\n",
       "      <td>...</td>\n",
       "      <td>...</td>\n",
       "      <td>...</td>\n",
       "      <td>...</td>\n",
       "      <td>...</td>\n",
       "      <td>...</td>\n",
       "      <td>...</td>\n",
       "      <td>...</td>\n",
       "    </tr>\n",
       "    <tr>\n",
       "      <th>527</th>\n",
       "      <td>69.0</td>\n",
       "      <td>1.0</td>\n",
       "      <td>4.0</td>\n",
       "      <td>NaN</td>\n",
       "      <td>0.0</td>\n",
       "      <td>0.0</td>\n",
       "      <td>1.0</td>\n",
       "      <td>NaN</td>\n",
       "      <td>NaN</td>\n",
       "      <td>NaN</td>\n",
       "      <td>NaN</td>\n",
       "      <td>NaN</td>\n",
       "      <td>7.0</td>\n",
       "      <td>3</td>\n",
       "    </tr>\n",
       "    <tr>\n",
       "      <th>528</th>\n",
       "      <td>70.0</td>\n",
       "      <td>1.0</td>\n",
       "      <td>4.0</td>\n",
       "      <td>115.0</td>\n",
       "      <td>0.0</td>\n",
       "      <td>0.0</td>\n",
       "      <td>1.0</td>\n",
       "      <td>92.0</td>\n",
       "      <td>1.0</td>\n",
       "      <td>0.0</td>\n",
       "      <td>2.0</td>\n",
       "      <td>NaN</td>\n",
       "      <td>7.0</td>\n",
       "      <td>1</td>\n",
       "    </tr>\n",
       "    <tr>\n",
       "      <th>529</th>\n",
       "      <td>70.0</td>\n",
       "      <td>1.0</td>\n",
       "      <td>4.0</td>\n",
       "      <td>140.0</td>\n",
       "      <td>0.0</td>\n",
       "      <td>1.0</td>\n",
       "      <td>0.0</td>\n",
       "      <td>157.0</td>\n",
       "      <td>1.0</td>\n",
       "      <td>2.0</td>\n",
       "      <td>2.0</td>\n",
       "      <td>NaN</td>\n",
       "      <td>7.0</td>\n",
       "      <td>3</td>\n",
       "    </tr>\n",
       "    <tr>\n",
       "      <th>530</th>\n",
       "      <td>72.0</td>\n",
       "      <td>1.0</td>\n",
       "      <td>3.0</td>\n",
       "      <td>160.0</td>\n",
       "      <td>0.0</td>\n",
       "      <td>NaN</td>\n",
       "      <td>2.0</td>\n",
       "      <td>114.0</td>\n",
       "      <td>0.0</td>\n",
       "      <td>1.6</td>\n",
       "      <td>2.0</td>\n",
       "      <td>2.0</td>\n",
       "      <td>NaN</td>\n",
       "      <td>0</td>\n",
       "    </tr>\n",
       "    <tr>\n",
       "      <th>531</th>\n",
       "      <td>74.0</td>\n",
       "      <td>1.0</td>\n",
       "      <td>2.0</td>\n",
       "      <td>145.0</td>\n",
       "      <td>0.0</td>\n",
       "      <td>NaN</td>\n",
       "      <td>1.0</td>\n",
       "      <td>123.0</td>\n",
       "      <td>0.0</td>\n",
       "      <td>1.3</td>\n",
       "      <td>1.0</td>\n",
       "      <td>NaN</td>\n",
       "      <td>NaN</td>\n",
       "      <td>1</td>\n",
       "    </tr>\n",
       "  </tbody>\n",
       "</table>\n",
       "<p>532 rows × 14 columns</p>\n",
       "</div>"
      ],
      "text/plain": [
       "      age  sex   cp  trestbps   chol  fbs  restecg  thalach  exang  oldpeak  \\\n",
       "0    63.0  1.0  1.0     145.0  233.0  1.0      2.0    150.0    0.0      2.3   \n",
       "1    67.0  1.0  4.0     160.0  286.0  0.0      2.0    108.0    1.0      1.5   \n",
       "2    67.0  1.0  4.0     120.0  229.0  0.0      2.0    129.0    1.0      2.6   \n",
       "3    37.0  1.0  3.0     130.0  250.0  0.0      0.0    187.0    0.0      3.5   \n",
       "4    56.0  1.0  2.0     120.0  236.0  0.0      0.0    178.0    0.0      0.8   \n",
       "..    ...  ...  ...       ...    ...  ...      ...      ...    ...      ...   \n",
       "527  69.0  1.0  4.0       NaN    0.0  0.0      1.0      NaN    NaN      NaN   \n",
       "528  70.0  1.0  4.0     115.0    0.0  0.0      1.0     92.0    1.0      0.0   \n",
       "529  70.0  1.0  4.0     140.0    0.0  1.0      0.0    157.0    1.0      2.0   \n",
       "530  72.0  1.0  3.0     160.0    0.0  NaN      2.0    114.0    0.0      1.6   \n",
       "531  74.0  1.0  2.0     145.0    0.0  NaN      1.0    123.0    0.0      1.3   \n",
       "\n",
       "     slope   ca  thal  heart_disease  \n",
       "0      3.0  0.0   6.0              0  \n",
       "1      2.0  3.0   3.0              2  \n",
       "2      2.0  2.0   7.0              1  \n",
       "3      3.0  0.0   3.0              0  \n",
       "4      1.0  0.0   3.0              0  \n",
       "..     ...  ...   ...            ...  \n",
       "527    NaN  NaN   7.0              3  \n",
       "528    2.0  NaN   7.0              1  \n",
       "529    2.0  NaN   7.0              3  \n",
       "530    2.0  2.0   NaN              0  \n",
       "531    1.0  NaN   NaN              1  \n",
       "\n",
       "[532 rows x 14 columns]"
      ]
     },
     "execution_count": 77,
     "metadata": {},
     "output_type": "execute_result"
    }
   ],
   "source": [
    "cardiovascular_male = cardiovascular_split_male.reset_index(drop = True)\n",
    "cardiovascular_male"
   ]
  },
  {
   "cell_type": "markdown",
   "id": "461f7e0f",
   "metadata": {},
   "source": [
    "# FEMALE"
   ]
  },
  {
   "cell_type": "code",
   "execution_count": 78,
   "id": "5a73fc40",
   "metadata": {},
   "outputs": [
    {
     "data": {
      "text/plain": [
       "age               0\n",
       "sex               0\n",
       "cp                0\n",
       "trestbps          1\n",
       "chol              7\n",
       "fbs              11\n",
       "restecg           0\n",
       "thalach           1\n",
       "exang             1\n",
       "oldpeak           0\n",
       "slope            58\n",
       "ca               91\n",
       "thal             79\n",
       "heart_disease     0\n",
       "dtype: int64"
      ]
     },
     "execution_count": 78,
     "metadata": {},
     "output_type": "execute_result"
    }
   ],
   "source": [
    "cardiovascular_female.isnull().sum()"
   ]
  },
  {
   "cell_type": "markdown",
   "id": "ad809616",
   "metadata": {},
   "source": [
    "## Fill NaN values"
   ]
  },
  {
   "cell_type": "markdown",
   "id": "3e4347aa",
   "metadata": {},
   "source": [
    "### 4. Resting Blood Pressure(trestbps)"
   ]
  },
  {
   "cell_type": "code",
   "execution_count": 79,
   "id": "2bd85312",
   "metadata": {},
   "outputs": [
    {
     "data": {
      "text/plain": [
       "array([130., 140., 120., 150., 160., 105., 142., 135., 155., 128., 138.,\n",
       "       108., 110., 145., 132., 200., 124., 122., 102., 115., 100., 112.,\n",
       "       174., 134., 158., 180., 178.,  94., 118., 152., 136., 126., 106.,\n",
       "       146., 170., 125.,  nan, 113.,  95.])"
      ]
     },
     "execution_count": 79,
     "metadata": {},
     "output_type": "execute_result"
    }
   ],
   "source": [
    "cardiovascular_female.trestbps.unique()"
   ]
  },
  {
   "cell_type": "code",
   "execution_count": 80,
   "id": "61b10097",
   "metadata": {},
   "outputs": [
    {
     "data": {
      "text/plain": [
       "94.0"
      ]
     },
     "execution_count": 80,
     "metadata": {},
     "output_type": "execute_result"
    }
   ],
   "source": [
    "cardiovascular_female.trestbps.min()"
   ]
  },
  {
   "cell_type": "code",
   "execution_count": 81,
   "id": "48cf3696",
   "metadata": {},
   "outputs": [
    {
     "data": {
      "text/plain": [
       "200.0"
      ]
     },
     "execution_count": 81,
     "metadata": {},
     "output_type": "execute_result"
    }
   ],
   "source": [
    "cardiovascular_female.trestbps.max()"
   ]
  },
  {
   "cell_type": "code",
   "execution_count": 82,
   "id": "9832df5b",
   "metadata": {},
   "outputs": [
    {
     "name": "stdout",
     "output_type": "stream",
     "text": [
      "132\n"
     ]
    }
   ],
   "source": [
    "trestbps_female_mean = cardiovascular_female.trestbps.mean()\n",
    "trestbps_female_mean\n",
    "print(round(trestbps_female_mean))"
   ]
  },
  {
   "cell_type": "code",
   "execution_count": 83,
   "id": "84185a13",
   "metadata": {},
   "outputs": [
    {
     "data": {
      "text/plain": [
       "130.0"
      ]
     },
     "execution_count": 83,
     "metadata": {},
     "output_type": "execute_result"
    }
   ],
   "source": [
    "trestbps_female_median = cardiovascular_female.trestbps.median()\n",
    "trestbps_female_median"
   ]
  },
  {
   "cell_type": "code",
   "execution_count": 84,
   "id": "d2f9004c",
   "metadata": {},
   "outputs": [
    {
     "data": {
      "text/plain": [
       "0    120.0\n",
       "Name: trestbps, dtype: float64"
      ]
     },
     "execution_count": 84,
     "metadata": {},
     "output_type": "execute_result"
    }
   ],
   "source": [
    "trestbps_female_mode = cardiovascular_female.trestbps.mode()\n",
    "trestbps_female_mode"
   ]
  },
  {
   "cell_type": "code",
   "execution_count": 85,
   "id": "9bc4a173",
   "metadata": {},
   "outputs": [],
   "source": [
    "cardiovascular_female.trestbps = cardiovascular_female.trestbps.fillna(trestbps_female_median)"
   ]
  },
  {
   "cell_type": "code",
   "execution_count": 86,
   "id": "2e84058c",
   "metadata": {},
   "outputs": [
    {
     "data": {
      "text/plain": [
       "dtype('float64')"
      ]
     },
     "execution_count": 86,
     "metadata": {},
     "output_type": "execute_result"
    }
   ],
   "source": [
    "cardiovascular_female.trestbps.dtypes"
   ]
  },
  {
   "cell_type": "code",
   "execution_count": 87,
   "id": "22fd7e48",
   "metadata": {},
   "outputs": [
    {
     "data": {
      "text/plain": [
       "array([130., 140., 120., 150., 160., 105., 142., 135., 155., 128., 138.,\n",
       "       108., 110., 145., 132., 200., 124., 122., 102., 115., 100., 112.,\n",
       "       174., 134., 158., 180., 178.,  94., 118., 152., 136., 126., 106.,\n",
       "       146., 170., 125., 113.,  95.])"
      ]
     },
     "execution_count": 87,
     "metadata": {},
     "output_type": "execute_result"
    }
   ],
   "source": [
    "cardiovascular_female.trestbps.unique()"
   ]
  },
  {
   "cell_type": "code",
   "execution_count": 88,
   "id": "7e42b54c",
   "metadata": {},
   "outputs": [
    {
     "data": {
      "text/plain": [
       "0"
      ]
     },
     "execution_count": 88,
     "metadata": {},
     "output_type": "execute_result"
    }
   ],
   "source": [
    "cardiovascular_female.trestbps.isnull().sum()"
   ]
  },
  {
   "cell_type": "markdown",
   "id": "d19aefaf",
   "metadata": {},
   "source": [
    "### 5 . Serum Cholesterol"
   ]
  },
  {
   "cell_type": "code",
   "execution_count": 89,
   "id": "273e2be0",
   "metadata": {},
   "outputs": [
    {
     "data": {
      "text/plain": [
       "array([204., 268., 354., 294., 275., 283., 219., 340., 226., 239., 225.,\n",
       "       302., 330., 417., 198., 305., 177., 304., 269., 360., 308., 264.,\n",
       "       216., 234., 256., 164., 141., 252., 258., 303., 265., 307., 341.,\n",
       "       263., 183., 407., 288., 209., 213., 250., 318., 564., 214., 248.,\n",
       "       160., 249., 394., 409., 195., 211., 236., 244., 254., 325., 313.,\n",
       "       215., 228., 243., 267., 199., 210., 277., 196., 327., 201., 271.,\n",
       "       306., 178., 295., 223., 197., 242., 319., 240., 149., 278., 220.,\n",
       "       205., 342., 241., 237., 161., 167., 260., 173., 182., 184., 245.,\n",
       "       266., 186.,  nan, 218., 297., 238., 257., 284., 163., 227., 207.,\n",
       "       202., 328., 194., 190., 200., 272., 180., 468., 274., 221., 230.,\n",
       "       273., 253., 309., 312., 344., 320., 347., 188., 193., 246., 338.,\n",
       "       392., 279., 393.,   0.])"
      ]
     },
     "execution_count": 89,
     "metadata": {},
     "output_type": "execute_result"
    }
   ],
   "source": [
    "cardiovascular_female.chol.unique()"
   ]
  },
  {
   "cell_type": "code",
   "execution_count": 90,
   "id": "c3c70e2b",
   "metadata": {},
   "outputs": [
    {
     "data": {
      "text/plain": [
       "0.0"
      ]
     },
     "execution_count": 90,
     "metadata": {},
     "output_type": "execute_result"
    }
   ],
   "source": [
    "cardiovascular_female.chol.min()"
   ]
  },
  {
   "cell_type": "code",
   "execution_count": 91,
   "id": "36130a98",
   "metadata": {},
   "outputs": [
    {
     "data": {
      "text/plain": [
       "564.0"
      ]
     },
     "execution_count": 91,
     "metadata": {},
     "output_type": "execute_result"
    }
   ],
   "source": [
    "cardiovascular_female.chol.max()"
   ]
  },
  {
   "cell_type": "code",
   "execution_count": 92,
   "id": "f0ac5110",
   "metadata": {},
   "outputs": [
    {
     "name": "stdout",
     "output_type": "stream",
     "text": [
      "242\n"
     ]
    }
   ],
   "source": [
    "chol_female_mean = cardiovascular_female.chol.mean()\n",
    "chol_female_mean\n",
    "print(round(chol_female_mean))"
   ]
  },
  {
   "cell_type": "code",
   "execution_count": 93,
   "id": "75ab4015",
   "metadata": {},
   "outputs": [
    {
     "data": {
      "text/plain": [
       "242.0"
      ]
     },
     "execution_count": 93,
     "metadata": {},
     "output_type": "execute_result"
    }
   ],
   "source": [
    "chol_female_median = cardiovascular_female.chol.median()\n",
    "chol_female_median"
   ]
  },
  {
   "cell_type": "code",
   "execution_count": 94,
   "id": "d810e561",
   "metadata": {},
   "outputs": [
    {
     "data": {
      "text/plain": [
       "0    0.0\n",
       "Name: chol, dtype: float64"
      ]
     },
     "execution_count": 94,
     "metadata": {},
     "output_type": "execute_result"
    }
   ],
   "source": [
    "chol_female_mode = cardiovascular_female.chol.mode()\n",
    "chol_female_mode"
   ]
  },
  {
   "cell_type": "code",
   "execution_count": 95,
   "id": "20129e38",
   "metadata": {},
   "outputs": [],
   "source": [
    "cardiovascular_female.chol = cardiovascular_female.chol.fillna(chol_female_median)"
   ]
  },
  {
   "cell_type": "code",
   "execution_count": 96,
   "id": "0182b2a8",
   "metadata": {},
   "outputs": [
    {
     "data": {
      "text/plain": [
       "dtype('float64')"
      ]
     },
     "execution_count": 96,
     "metadata": {},
     "output_type": "execute_result"
    }
   ],
   "source": [
    "cardiovascular_female.chol.dtypes"
   ]
  },
  {
   "cell_type": "code",
   "execution_count": 97,
   "id": "70122310",
   "metadata": {},
   "outputs": [
    {
     "data": {
      "text/plain": [
       "array([204., 268., 354., 294., 275., 283., 219., 340., 226., 239., 225.,\n",
       "       302., 330., 417., 198., 305., 177., 304., 269., 360., 308., 264.,\n",
       "       216., 234., 256., 164., 141., 252., 258., 303., 265., 307., 341.,\n",
       "       263., 183., 407., 288., 209., 213., 250., 318., 564., 214., 248.,\n",
       "       160., 249., 394., 409., 195., 211., 236., 244., 254., 325., 313.,\n",
       "       215., 228., 243., 267., 199., 210., 277., 196., 327., 201., 271.,\n",
       "       306., 178., 295., 223., 197., 242., 319., 240., 149., 278., 220.,\n",
       "       205., 342., 241., 237., 161., 167., 260., 173., 182., 184., 245.,\n",
       "       266., 186., 218., 297., 238., 257., 284., 163., 227., 207., 202.,\n",
       "       328., 194., 190., 200., 272., 180., 468., 274., 221., 230., 273.,\n",
       "       253., 309., 312., 344., 320., 347., 188., 193., 246., 338., 392.,\n",
       "       279., 393.,   0.])"
      ]
     },
     "execution_count": 97,
     "metadata": {},
     "output_type": "execute_result"
    }
   ],
   "source": [
    "cardiovascular_female.chol.unique()"
   ]
  },
  {
   "cell_type": "code",
   "execution_count": 98,
   "id": "b2692f2f",
   "metadata": {},
   "outputs": [
    {
     "data": {
      "text/plain": [
       "0"
      ]
     },
     "execution_count": 98,
     "metadata": {},
     "output_type": "execute_result"
    }
   ],
   "source": [
    "cardiovascular_female.chol.isnull().sum()"
   ]
  },
  {
   "cell_type": "markdown",
   "id": "5991a9d1",
   "metadata": {},
   "source": [
    "### 8. Maximum heart rate achieved in an exercise test"
   ]
  },
  {
   "cell_type": "code",
   "execution_count": 99,
   "id": "bfe87685",
   "metadata": {},
   "outputs": [
    {
     "data": {
      "text/plain": [
       "array([172., 160., 163., 153., 139., 162., 158., 114., 151., 169., 157.,\n",
       "       168., 142., 170., 148., 143., 115., 149., 145., 175., 159., 130.,\n",
       "       146., 136.,  97., 182., 154., 133., 165., 161., 122., 138., 150.,\n",
       "       179., 106., 152., 167., 192., 117., 121.,  96., 173., 116., 171.,\n",
       "       125., 131., 166., 123., 174., 190., 185., 184., 129., 180., 137.,\n",
       "       176., 118., 144.,  90., 135.,  nan, 120., 110., 164., 140., 127.,\n",
       "       155.,  98., 126., 124., 156., 108., 100.])"
      ]
     },
     "execution_count": 99,
     "metadata": {},
     "output_type": "execute_result"
    }
   ],
   "source": [
    "cardiovascular_female.thalach.unique()"
   ]
  },
  {
   "cell_type": "code",
   "execution_count": 100,
   "id": "cdd0adee",
   "metadata": {},
   "outputs": [
    {
     "data": {
      "text/plain": [
       "90.0"
      ]
     },
     "execution_count": 100,
     "metadata": {},
     "output_type": "execute_result"
    }
   ],
   "source": [
    "cardiovascular_female.thalach.min()"
   ]
  },
  {
   "cell_type": "code",
   "execution_count": 101,
   "id": "e8a23d81",
   "metadata": {},
   "outputs": [
    {
     "data": {
      "text/plain": [
       "192.0"
      ]
     },
     "execution_count": 101,
     "metadata": {},
     "output_type": "execute_result"
    }
   ],
   "source": [
    "cardiovascular_female.thalach.max()"
   ]
  },
  {
   "cell_type": "code",
   "execution_count": 102,
   "id": "e8e74e77",
   "metadata": {},
   "outputs": [
    {
     "name": "stdout",
     "output_type": "stream",
     "text": [
      "147\n"
     ]
    }
   ],
   "source": [
    "thalach_female_mean = cardiovascular_female.thalach.mean()\n",
    "thalach_female_mean\n",
    "print(round(thalach_female_mean))"
   ]
  },
  {
   "cell_type": "code",
   "execution_count": 103,
   "id": "5f43b503",
   "metadata": {},
   "outputs": [
    {
     "data": {
      "text/plain": [
       "150.0"
      ]
     },
     "execution_count": 103,
     "metadata": {},
     "output_type": "execute_result"
    }
   ],
   "source": [
    "thalach_female_median = cardiovascular_female.thalach.median()\n",
    "thalach_female_median"
   ]
  },
  {
   "cell_type": "code",
   "execution_count": 104,
   "id": "200fc73a",
   "metadata": {},
   "outputs": [
    {
     "data": {
      "text/plain": [
       "0    130.0\n",
       "1    150.0\n",
       "2    160.0\n",
       "Name: thalach, dtype: float64"
      ]
     },
     "execution_count": 104,
     "metadata": {},
     "output_type": "execute_result"
    }
   ],
   "source": [
    "thalach_female_mode = cardiovascular_female.thalach.mode()\n",
    "thalach_female_mode"
   ]
  },
  {
   "cell_type": "code",
   "execution_count": 105,
   "id": "a3d44e76",
   "metadata": {},
   "outputs": [],
   "source": [
    "cardiovascular_female.thalach = cardiovascular_female.thalach.fillna(thalach_female_median)"
   ]
  },
  {
   "cell_type": "code",
   "execution_count": 106,
   "id": "e5e92365",
   "metadata": {},
   "outputs": [
    {
     "data": {
      "text/plain": [
       "dtype('float64')"
      ]
     },
     "execution_count": 106,
     "metadata": {},
     "output_type": "execute_result"
    }
   ],
   "source": [
    "cardiovascular_female.thalach.dtypes"
   ]
  },
  {
   "cell_type": "code",
   "execution_count": 107,
   "id": "66edd22e",
   "metadata": {},
   "outputs": [
    {
     "data": {
      "text/plain": [
       "array([172., 160., 163., 153., 139., 162., 158., 114., 151., 169., 157.,\n",
       "       168., 142., 170., 148., 143., 115., 149., 145., 175., 159., 130.,\n",
       "       146., 136.,  97., 182., 154., 133., 165., 161., 122., 138., 150.,\n",
       "       179., 106., 152., 167., 192., 117., 121.,  96., 173., 116., 171.,\n",
       "       125., 131., 166., 123., 174., 190., 185., 184., 129., 180., 137.,\n",
       "       176., 118., 144.,  90., 135., 120., 110., 164., 140., 127., 155.,\n",
       "        98., 126., 124., 156., 108., 100.])"
      ]
     },
     "execution_count": 107,
     "metadata": {},
     "output_type": "execute_result"
    }
   ],
   "source": [
    "cardiovascular_female.thalach.unique()"
   ]
  },
  {
   "cell_type": "code",
   "execution_count": 108,
   "id": "d2f6d15a",
   "metadata": {},
   "outputs": [
    {
     "data": {
      "text/plain": [
       "0"
      ]
     },
     "execution_count": 108,
     "metadata": {},
     "output_type": "execute_result"
    }
   ],
   "source": [
    "cardiovascular_female.thalach.isnull().sum()"
   ]
  },
  {
   "cell_type": "code",
   "execution_count": 111,
   "id": "54d1cbd9",
   "metadata": {},
   "outputs": [
    {
     "data": {
      "text/plain": [
       "age               0\n",
       "cp                0\n",
       "trestbps          0\n",
       "chol              0\n",
       "fbs              11\n",
       "restecg           0\n",
       "thalach           0\n",
       "exang             1\n",
       "oldpeak           0\n",
       "slope            58\n",
       "heart_disease     0\n",
       "dtype: int64"
      ]
     },
     "execution_count": 111,
     "metadata": {},
     "output_type": "execute_result"
    }
   ],
   "source": [
    "cardiovascular_female.isnull().sum()"
   ]
  },
  {
   "cell_type": "markdown",
   "id": "6cc48d28",
   "metadata": {},
   "source": [
    "## Drop number of major vessels (ca),  thal, sex "
   ]
  },
  {
   "cell_type": "code",
   "execution_count": 112,
   "id": "1539faf0",
   "metadata": {},
   "outputs": [
    {
     "data": {
      "text/html": [
       "<div>\n",
       "<style scoped>\n",
       "    .dataframe tbody tr th:only-of-type {\n",
       "        vertical-align: middle;\n",
       "    }\n",
       "\n",
       "    .dataframe tbody tr th {\n",
       "        vertical-align: top;\n",
       "    }\n",
       "\n",
       "    .dataframe thead th {\n",
       "        text-align: right;\n",
       "    }\n",
       "</style>\n",
       "<table border=\"1\" class=\"dataframe\">\n",
       "  <thead>\n",
       "    <tr style=\"text-align: right;\">\n",
       "      <th></th>\n",
       "      <th>age</th>\n",
       "      <th>cp</th>\n",
       "      <th>trestbps</th>\n",
       "      <th>chol</th>\n",
       "      <th>fbs</th>\n",
       "      <th>restecg</th>\n",
       "      <th>thalach</th>\n",
       "      <th>exang</th>\n",
       "      <th>oldpeak</th>\n",
       "      <th>slope</th>\n",
       "      <th>heart_disease</th>\n",
       "    </tr>\n",
       "  </thead>\n",
       "  <tbody>\n",
       "    <tr>\n",
       "      <th>0</th>\n",
       "      <td>41.0</td>\n",
       "      <td>2.0</td>\n",
       "      <td>130.0</td>\n",
       "      <td>204.0</td>\n",
       "      <td>0.0</td>\n",
       "      <td>2.0</td>\n",
       "      <td>172.0</td>\n",
       "      <td>0.0</td>\n",
       "      <td>1.4</td>\n",
       "      <td>1.0</td>\n",
       "      <td>0</td>\n",
       "    </tr>\n",
       "    <tr>\n",
       "      <th>1</th>\n",
       "      <td>62.0</td>\n",
       "      <td>4.0</td>\n",
       "      <td>140.0</td>\n",
       "      <td>268.0</td>\n",
       "      <td>0.0</td>\n",
       "      <td>2.0</td>\n",
       "      <td>160.0</td>\n",
       "      <td>0.0</td>\n",
       "      <td>3.6</td>\n",
       "      <td>3.0</td>\n",
       "      <td>3</td>\n",
       "    </tr>\n",
       "    <tr>\n",
       "      <th>2</th>\n",
       "      <td>57.0</td>\n",
       "      <td>4.0</td>\n",
       "      <td>120.0</td>\n",
       "      <td>354.0</td>\n",
       "      <td>0.0</td>\n",
       "      <td>0.0</td>\n",
       "      <td>163.0</td>\n",
       "      <td>1.0</td>\n",
       "      <td>0.6</td>\n",
       "      <td>1.0</td>\n",
       "      <td>0</td>\n",
       "    </tr>\n",
       "    <tr>\n",
       "      <th>3</th>\n",
       "      <td>56.0</td>\n",
       "      <td>2.0</td>\n",
       "      <td>140.0</td>\n",
       "      <td>294.0</td>\n",
       "      <td>0.0</td>\n",
       "      <td>2.0</td>\n",
       "      <td>153.0</td>\n",
       "      <td>0.0</td>\n",
       "      <td>1.3</td>\n",
       "      <td>2.0</td>\n",
       "      <td>0</td>\n",
       "    </tr>\n",
       "    <tr>\n",
       "      <th>4</th>\n",
       "      <td>48.0</td>\n",
       "      <td>3.0</td>\n",
       "      <td>130.0</td>\n",
       "      <td>275.0</td>\n",
       "      <td>0.0</td>\n",
       "      <td>0.0</td>\n",
       "      <td>139.0</td>\n",
       "      <td>0.0</td>\n",
       "      <td>0.2</td>\n",
       "      <td>1.0</td>\n",
       "      <td>0</td>\n",
       "    </tr>\n",
       "    <tr>\n",
       "      <th>...</th>\n",
       "      <td>...</td>\n",
       "      <td>...</td>\n",
       "      <td>...</td>\n",
       "      <td>...</td>\n",
       "      <td>...</td>\n",
       "      <td>...</td>\n",
       "      <td>...</td>\n",
       "      <td>...</td>\n",
       "      <td>...</td>\n",
       "      <td>...</td>\n",
       "      <td>...</td>\n",
       "    </tr>\n",
       "    <tr>\n",
       "      <th>183</th>\n",
       "      <td>62.0</td>\n",
       "      <td>4.0</td>\n",
       "      <td>120.0</td>\n",
       "      <td>0.0</td>\n",
       "      <td>NaN</td>\n",
       "      <td>1.0</td>\n",
       "      <td>123.0</td>\n",
       "      <td>1.0</td>\n",
       "      <td>1.7</td>\n",
       "      <td>3.0</td>\n",
       "      <td>1</td>\n",
       "    </tr>\n",
       "    <tr>\n",
       "      <th>184</th>\n",
       "      <td>64.0</td>\n",
       "      <td>4.0</td>\n",
       "      <td>200.0</td>\n",
       "      <td>0.0</td>\n",
       "      <td>0.0</td>\n",
       "      <td>0.0</td>\n",
       "      <td>140.0</td>\n",
       "      <td>1.0</td>\n",
       "      <td>1.0</td>\n",
       "      <td>2.0</td>\n",
       "      <td>3</td>\n",
       "    </tr>\n",
       "    <tr>\n",
       "      <th>185</th>\n",
       "      <td>64.0</td>\n",
       "      <td>4.0</td>\n",
       "      <td>95.0</td>\n",
       "      <td>0.0</td>\n",
       "      <td>NaN</td>\n",
       "      <td>0.0</td>\n",
       "      <td>145.0</td>\n",
       "      <td>0.0</td>\n",
       "      <td>1.1</td>\n",
       "      <td>3.0</td>\n",
       "      <td>1</td>\n",
       "    </tr>\n",
       "    <tr>\n",
       "      <th>186</th>\n",
       "      <td>66.0</td>\n",
       "      <td>4.0</td>\n",
       "      <td>155.0</td>\n",
       "      <td>0.0</td>\n",
       "      <td>NaN</td>\n",
       "      <td>0.0</td>\n",
       "      <td>90.0</td>\n",
       "      <td>0.0</td>\n",
       "      <td>0.0</td>\n",
       "      <td>NaN</td>\n",
       "      <td>1</td>\n",
       "    </tr>\n",
       "    <tr>\n",
       "      <th>187</th>\n",
       "      <td>73.0</td>\n",
       "      <td>3.0</td>\n",
       "      <td>160.0</td>\n",
       "      <td>0.0</td>\n",
       "      <td>0.0</td>\n",
       "      <td>1.0</td>\n",
       "      <td>121.0</td>\n",
       "      <td>0.0</td>\n",
       "      <td>0.0</td>\n",
       "      <td>1.0</td>\n",
       "      <td>1</td>\n",
       "    </tr>\n",
       "  </tbody>\n",
       "</table>\n",
       "<p>188 rows × 11 columns</p>\n",
       "</div>"
      ],
      "text/plain": [
       "      age   cp  trestbps   chol  fbs  restecg  thalach  exang  oldpeak  slope  \\\n",
       "0    41.0  2.0     130.0  204.0  0.0      2.0    172.0    0.0      1.4    1.0   \n",
       "1    62.0  4.0     140.0  268.0  0.0      2.0    160.0    0.0      3.6    3.0   \n",
       "2    57.0  4.0     120.0  354.0  0.0      0.0    163.0    1.0      0.6    1.0   \n",
       "3    56.0  2.0     140.0  294.0  0.0      2.0    153.0    0.0      1.3    2.0   \n",
       "4    48.0  3.0     130.0  275.0  0.0      0.0    139.0    0.0      0.2    1.0   \n",
       "..    ...  ...       ...    ...  ...      ...      ...    ...      ...    ...   \n",
       "183  62.0  4.0     120.0    0.0  NaN      1.0    123.0    1.0      1.7    3.0   \n",
       "184  64.0  4.0     200.0    0.0  0.0      0.0    140.0    1.0      1.0    2.0   \n",
       "185  64.0  4.0      95.0    0.0  NaN      0.0    145.0    0.0      1.1    3.0   \n",
       "186  66.0  4.0     155.0    0.0  NaN      0.0     90.0    0.0      0.0    NaN   \n",
       "187  73.0  3.0     160.0    0.0  0.0      1.0    121.0    0.0      0.0    1.0   \n",
       "\n",
       "     heart_disease  \n",
       "0                0  \n",
       "1                3  \n",
       "2                0  \n",
       "3                0  \n",
       "4                0  \n",
       "..             ...  \n",
       "183              1  \n",
       "184              3  \n",
       "185              1  \n",
       "186              1  \n",
       "187              1  \n",
       "\n",
       "[188 rows x 11 columns]"
      ]
     },
     "execution_count": 112,
     "metadata": {},
     "output_type": "execute_result"
    }
   ],
   "source": [
    "cardiovascular_female = cardiovascular_female[[\"age\",\"cp\",\"trestbps\",\"chol\",\"fbs\",\"restecg\",\"thalach\",\"exang\",\"oldpeak\",\"slope\",\"heart_disease\"]]\n",
    "cardiovascular_female"
   ]
  },
  {
   "cell_type": "code",
   "execution_count": 113,
   "id": "25083e07",
   "metadata": {},
   "outputs": [
    {
     "data": {
      "text/plain": [
       "age               0\n",
       "cp                0\n",
       "trestbps          0\n",
       "chol              0\n",
       "fbs              11\n",
       "restecg           0\n",
       "thalach           0\n",
       "exang             1\n",
       "oldpeak           0\n",
       "slope            58\n",
       "heart_disease     0\n",
       "dtype: int64"
      ]
     },
     "execution_count": 113,
     "metadata": {},
     "output_type": "execute_result"
    }
   ],
   "source": [
    "cardiovascular_female.isnull().sum()"
   ]
  },
  {
   "cell_type": "markdown",
   "id": "7af1d4c1",
   "metadata": {},
   "source": [
    "## Apply Iterative Imputer on categorical variable"
   ]
  },
  {
   "cell_type": "code",
   "execution_count": 114,
   "id": "b22204f0",
   "metadata": {},
   "outputs": [],
   "source": [
    "from sklearn.experimental import enable_iterative_imputer\n",
    "from sklearn.impute import IterativeImputer"
   ]
  },
  {
   "cell_type": "code",
   "execution_count": 115,
   "id": "d7dd71a5",
   "metadata": {},
   "outputs": [
    {
     "data": {
      "text/html": [
       "<style>#sk-container-id-1 {color: black;background-color: white;}#sk-container-id-1 pre{padding: 0;}#sk-container-id-1 div.sk-toggleable {background-color: white;}#sk-container-id-1 label.sk-toggleable__label {cursor: pointer;display: block;width: 100%;margin-bottom: 0;padding: 0.3em;box-sizing: border-box;text-align: center;}#sk-container-id-1 label.sk-toggleable__label-arrow:before {content: \"▸\";float: left;margin-right: 0.25em;color: #696969;}#sk-container-id-1 label.sk-toggleable__label-arrow:hover:before {color: black;}#sk-container-id-1 div.sk-estimator:hover label.sk-toggleable__label-arrow:before {color: black;}#sk-container-id-1 div.sk-toggleable__content {max-height: 0;max-width: 0;overflow: hidden;text-align: left;background-color: #f0f8ff;}#sk-container-id-1 div.sk-toggleable__content pre {margin: 0.2em;color: black;border-radius: 0.25em;background-color: #f0f8ff;}#sk-container-id-1 input.sk-toggleable__control:checked~div.sk-toggleable__content {max-height: 200px;max-width: 100%;overflow: auto;}#sk-container-id-1 input.sk-toggleable__control:checked~label.sk-toggleable__label-arrow:before {content: \"▾\";}#sk-container-id-1 div.sk-estimator input.sk-toggleable__control:checked~label.sk-toggleable__label {background-color: #d4ebff;}#sk-container-id-1 div.sk-label input.sk-toggleable__control:checked~label.sk-toggleable__label {background-color: #d4ebff;}#sk-container-id-1 input.sk-hidden--visually {border: 0;clip: rect(1px 1px 1px 1px);clip: rect(1px, 1px, 1px, 1px);height: 1px;margin: -1px;overflow: hidden;padding: 0;position: absolute;width: 1px;}#sk-container-id-1 div.sk-estimator {font-family: monospace;background-color: #f0f8ff;border: 1px dotted black;border-radius: 0.25em;box-sizing: border-box;margin-bottom: 0.5em;}#sk-container-id-1 div.sk-estimator:hover {background-color: #d4ebff;}#sk-container-id-1 div.sk-parallel-item::after {content: \"\";width: 100%;border-bottom: 1px solid gray;flex-grow: 1;}#sk-container-id-1 div.sk-label:hover label.sk-toggleable__label {background-color: #d4ebff;}#sk-container-id-1 div.sk-serial::before {content: \"\";position: absolute;border-left: 1px solid gray;box-sizing: border-box;top: 0;bottom: 0;left: 50%;z-index: 0;}#sk-container-id-1 div.sk-serial {display: flex;flex-direction: column;align-items: center;background-color: white;padding-right: 0.2em;padding-left: 0.2em;position: relative;}#sk-container-id-1 div.sk-item {position: relative;z-index: 1;}#sk-container-id-1 div.sk-parallel {display: flex;align-items: stretch;justify-content: center;background-color: white;position: relative;}#sk-container-id-1 div.sk-item::before, #sk-container-id-1 div.sk-parallel-item::before {content: \"\";position: absolute;border-left: 1px solid gray;box-sizing: border-box;top: 0;bottom: 0;left: 50%;z-index: -1;}#sk-container-id-1 div.sk-parallel-item {display: flex;flex-direction: column;z-index: 1;position: relative;background-color: white;}#sk-container-id-1 div.sk-parallel-item:first-child::after {align-self: flex-end;width: 50%;}#sk-container-id-1 div.sk-parallel-item:last-child::after {align-self: flex-start;width: 50%;}#sk-container-id-1 div.sk-parallel-item:only-child::after {width: 0;}#sk-container-id-1 div.sk-dashed-wrapped {border: 1px dashed gray;margin: 0 0.4em 0.5em 0.4em;box-sizing: border-box;padding-bottom: 0.4em;background-color: white;}#sk-container-id-1 div.sk-label label {font-family: monospace;font-weight: bold;display: inline-block;line-height: 1.2em;}#sk-container-id-1 div.sk-label-container {text-align: center;}#sk-container-id-1 div.sk-container {/* jupyter's `normalize.less` sets `[hidden] { display: none; }` but bootstrap.min.css set `[hidden] { display: none !important; }` so we also need the `!important` here to be able to override the default hidden behavior on the sphinx rendered scikit-learn.org. See: https://github.com/scikit-learn/scikit-learn/issues/21755 */display: inline-block !important;position: relative;}#sk-container-id-1 div.sk-text-repr-fallback {display: none;}</style><div id=\"sk-container-id-1\" class=\"sk-top-container\"><div class=\"sk-text-repr-fallback\"><pre>IterativeImputer(random_state=10)</pre><b>In a Jupyter environment, please rerun this cell to show the HTML representation or trust the notebook. <br />On GitHub, the HTML representation is unable to render, please try loading this page with nbviewer.org.</b></div><div class=\"sk-container\" hidden><div class=\"sk-item\"><div class=\"sk-estimator sk-toggleable\"><input class=\"sk-toggleable__control sk-hidden--visually\" id=\"sk-estimator-id-1\" type=\"checkbox\" checked><label for=\"sk-estimator-id-1\" class=\"sk-toggleable__label sk-toggleable__label-arrow\">IterativeImputer</label><div class=\"sk-toggleable__content\"><pre>IterativeImputer(random_state=10)</pre></div></div></div></div></div>"
      ],
      "text/plain": [
       "IterativeImputer(random_state=10)"
      ]
     },
     "execution_count": 115,
     "metadata": {},
     "output_type": "execute_result"
    }
   ],
   "source": [
    "imp = IterativeImputer(max_iter = 10, random_state = 10)\n",
    "df = cardiovascular_female\n",
    "imp.fit(df)"
   ]
  },
  {
   "cell_type": "code",
   "execution_count": 116,
   "id": "cce4225e",
   "metadata": {},
   "outputs": [],
   "source": [
    "cardiovascular_female = pd.DataFrame(np.round(imp.transform(df),1),columns=[\"age\",\"cp\",\"trestbps\",\"chol\",\"fbs\",\"restecg\",\"thalach\",\"exang\",\"oldpeak\",\"slope\",\"heart_disease\"])"
   ]
  },
  {
   "cell_type": "code",
   "execution_count": 117,
   "id": "8ec69ab2",
   "metadata": {},
   "outputs": [
    {
     "data": {
      "text/html": [
       "<div>\n",
       "<style scoped>\n",
       "    .dataframe tbody tr th:only-of-type {\n",
       "        vertical-align: middle;\n",
       "    }\n",
       "\n",
       "    .dataframe tbody tr th {\n",
       "        vertical-align: top;\n",
       "    }\n",
       "\n",
       "    .dataframe thead th {\n",
       "        text-align: right;\n",
       "    }\n",
       "</style>\n",
       "<table border=\"1\" class=\"dataframe\">\n",
       "  <thead>\n",
       "    <tr style=\"text-align: right;\">\n",
       "      <th></th>\n",
       "      <th>age</th>\n",
       "      <th>cp</th>\n",
       "      <th>trestbps</th>\n",
       "      <th>chol</th>\n",
       "      <th>fbs</th>\n",
       "      <th>restecg</th>\n",
       "      <th>thalach</th>\n",
       "      <th>exang</th>\n",
       "      <th>oldpeak</th>\n",
       "      <th>slope</th>\n",
       "      <th>heart_disease</th>\n",
       "    </tr>\n",
       "  </thead>\n",
       "  <tbody>\n",
       "    <tr>\n",
       "      <th>0</th>\n",
       "      <td>41.0</td>\n",
       "      <td>2.0</td>\n",
       "      <td>130.0</td>\n",
       "      <td>204.0</td>\n",
       "      <td>0.0</td>\n",
       "      <td>2.0</td>\n",
       "      <td>172.0</td>\n",
       "      <td>0.0</td>\n",
       "      <td>1.4</td>\n",
       "      <td>1.0</td>\n",
       "      <td>0.0</td>\n",
       "    </tr>\n",
       "    <tr>\n",
       "      <th>1</th>\n",
       "      <td>62.0</td>\n",
       "      <td>4.0</td>\n",
       "      <td>140.0</td>\n",
       "      <td>268.0</td>\n",
       "      <td>0.0</td>\n",
       "      <td>2.0</td>\n",
       "      <td>160.0</td>\n",
       "      <td>0.0</td>\n",
       "      <td>3.6</td>\n",
       "      <td>3.0</td>\n",
       "      <td>3.0</td>\n",
       "    </tr>\n",
       "    <tr>\n",
       "      <th>2</th>\n",
       "      <td>57.0</td>\n",
       "      <td>4.0</td>\n",
       "      <td>120.0</td>\n",
       "      <td>354.0</td>\n",
       "      <td>0.0</td>\n",
       "      <td>0.0</td>\n",
       "      <td>163.0</td>\n",
       "      <td>1.0</td>\n",
       "      <td>0.6</td>\n",
       "      <td>1.0</td>\n",
       "      <td>0.0</td>\n",
       "    </tr>\n",
       "    <tr>\n",
       "      <th>3</th>\n",
       "      <td>56.0</td>\n",
       "      <td>2.0</td>\n",
       "      <td>140.0</td>\n",
       "      <td>294.0</td>\n",
       "      <td>0.0</td>\n",
       "      <td>2.0</td>\n",
       "      <td>153.0</td>\n",
       "      <td>0.0</td>\n",
       "      <td>1.3</td>\n",
       "      <td>2.0</td>\n",
       "      <td>0.0</td>\n",
       "    </tr>\n",
       "    <tr>\n",
       "      <th>4</th>\n",
       "      <td>48.0</td>\n",
       "      <td>3.0</td>\n",
       "      <td>130.0</td>\n",
       "      <td>275.0</td>\n",
       "      <td>0.0</td>\n",
       "      <td>0.0</td>\n",
       "      <td>139.0</td>\n",
       "      <td>0.0</td>\n",
       "      <td>0.2</td>\n",
       "      <td>1.0</td>\n",
       "      <td>0.0</td>\n",
       "    </tr>\n",
       "    <tr>\n",
       "      <th>...</th>\n",
       "      <td>...</td>\n",
       "      <td>...</td>\n",
       "      <td>...</td>\n",
       "      <td>...</td>\n",
       "      <td>...</td>\n",
       "      <td>...</td>\n",
       "      <td>...</td>\n",
       "      <td>...</td>\n",
       "      <td>...</td>\n",
       "      <td>...</td>\n",
       "      <td>...</td>\n",
       "    </tr>\n",
       "    <tr>\n",
       "      <th>183</th>\n",
       "      <td>62.0</td>\n",
       "      <td>4.0</td>\n",
       "      <td>120.0</td>\n",
       "      <td>0.0</td>\n",
       "      <td>-0.0</td>\n",
       "      <td>1.0</td>\n",
       "      <td>123.0</td>\n",
       "      <td>1.0</td>\n",
       "      <td>1.7</td>\n",
       "      <td>3.0</td>\n",
       "      <td>1.0</td>\n",
       "    </tr>\n",
       "    <tr>\n",
       "      <th>184</th>\n",
       "      <td>64.0</td>\n",
       "      <td>4.0</td>\n",
       "      <td>200.0</td>\n",
       "      <td>0.0</td>\n",
       "      <td>0.0</td>\n",
       "      <td>0.0</td>\n",
       "      <td>140.0</td>\n",
       "      <td>1.0</td>\n",
       "      <td>1.0</td>\n",
       "      <td>2.0</td>\n",
       "      <td>3.0</td>\n",
       "    </tr>\n",
       "    <tr>\n",
       "      <th>185</th>\n",
       "      <td>64.0</td>\n",
       "      <td>4.0</td>\n",
       "      <td>95.0</td>\n",
       "      <td>0.0</td>\n",
       "      <td>-0.1</td>\n",
       "      <td>0.0</td>\n",
       "      <td>145.0</td>\n",
       "      <td>0.0</td>\n",
       "      <td>1.1</td>\n",
       "      <td>3.0</td>\n",
       "      <td>1.0</td>\n",
       "    </tr>\n",
       "    <tr>\n",
       "      <th>186</th>\n",
       "      <td>66.0</td>\n",
       "      <td>4.0</td>\n",
       "      <td>155.0</td>\n",
       "      <td>0.0</td>\n",
       "      <td>0.0</td>\n",
       "      <td>0.0</td>\n",
       "      <td>90.0</td>\n",
       "      <td>0.0</td>\n",
       "      <td>0.0</td>\n",
       "      <td>2.1</td>\n",
       "      <td>1.0</td>\n",
       "    </tr>\n",
       "    <tr>\n",
       "      <th>187</th>\n",
       "      <td>73.0</td>\n",
       "      <td>3.0</td>\n",
       "      <td>160.0</td>\n",
       "      <td>0.0</td>\n",
       "      <td>0.0</td>\n",
       "      <td>1.0</td>\n",
       "      <td>121.0</td>\n",
       "      <td>0.0</td>\n",
       "      <td>0.0</td>\n",
       "      <td>1.0</td>\n",
       "      <td>1.0</td>\n",
       "    </tr>\n",
       "  </tbody>\n",
       "</table>\n",
       "<p>188 rows × 11 columns</p>\n",
       "</div>"
      ],
      "text/plain": [
       "      age   cp  trestbps   chol  fbs  restecg  thalach  exang  oldpeak  slope  \\\n",
       "0    41.0  2.0     130.0  204.0  0.0      2.0    172.0    0.0      1.4    1.0   \n",
       "1    62.0  4.0     140.0  268.0  0.0      2.0    160.0    0.0      3.6    3.0   \n",
       "2    57.0  4.0     120.0  354.0  0.0      0.0    163.0    1.0      0.6    1.0   \n",
       "3    56.0  2.0     140.0  294.0  0.0      2.0    153.0    0.0      1.3    2.0   \n",
       "4    48.0  3.0     130.0  275.0  0.0      0.0    139.0    0.0      0.2    1.0   \n",
       "..    ...  ...       ...    ...  ...      ...      ...    ...      ...    ...   \n",
       "183  62.0  4.0     120.0    0.0 -0.0      1.0    123.0    1.0      1.7    3.0   \n",
       "184  64.0  4.0     200.0    0.0  0.0      0.0    140.0    1.0      1.0    2.0   \n",
       "185  64.0  4.0      95.0    0.0 -0.1      0.0    145.0    0.0      1.1    3.0   \n",
       "186  66.0  4.0     155.0    0.0  0.0      0.0     90.0    0.0      0.0    2.1   \n",
       "187  73.0  3.0     160.0    0.0  0.0      1.0    121.0    0.0      0.0    1.0   \n",
       "\n",
       "     heart_disease  \n",
       "0              0.0  \n",
       "1              3.0  \n",
       "2              0.0  \n",
       "3              0.0  \n",
       "4              0.0  \n",
       "..             ...  \n",
       "183            1.0  \n",
       "184            3.0  \n",
       "185            1.0  \n",
       "186            1.0  \n",
       "187            1.0  \n",
       "\n",
       "[188 rows x 11 columns]"
      ]
     },
     "execution_count": 117,
     "metadata": {},
     "output_type": "execute_result"
    }
   ],
   "source": [
    "cardiovascular_female"
   ]
  },
  {
   "cell_type": "code",
   "execution_count": 118,
   "id": "6c30a91c",
   "metadata": {},
   "outputs": [
    {
     "data": {
      "text/plain": [
       "age              0\n",
       "cp               0\n",
       "trestbps         0\n",
       "chol             0\n",
       "fbs              0\n",
       "restecg          0\n",
       "thalach          0\n",
       "exang            0\n",
       "oldpeak          0\n",
       "slope            0\n",
       "heart_disease    0\n",
       "dtype: int64"
      ]
     },
     "execution_count": 118,
     "metadata": {},
     "output_type": "execute_result"
    }
   ],
   "source": [
    "cardiovascular_female.isnull().sum()"
   ]
  },
  {
   "cell_type": "markdown",
   "id": "8a9838c7",
   "metadata": {},
   "source": [
    "## Removing outliers"
   ]
  },
  {
   "cell_type": "markdown",
   "id": "09fad222",
   "metadata": {},
   "source": [
    "### Age"
   ]
  },
  {
   "cell_type": "code",
   "execution_count": 119,
   "id": "01314e75",
   "metadata": {},
   "outputs": [
    {
     "data": {
      "text/plain": [
       "<Axes: >"
      ]
     },
     "execution_count": 119,
     "metadata": {},
     "output_type": "execute_result"
    },
    {
     "data": {
      "image/png": "[encoded data removed]",
      "text/plain": [
       "<Figure size 640x480 with 1 Axes>"
      ]
     },
     "metadata": {},
     "output_type": "display_data"
    }
   ],
   "source": [
    "sns.boxplot(cardiovascular_female['age'])"
   ]
  },
  {
   "cell_type": "markdown",
   "id": "c13e5fef",
   "metadata": {},
   "source": [
    "There are no outliers in age column."
   ]
  },
  {
   "cell_type": "markdown",
   "id": "27fa67d7",
   "metadata": {},
   "source": [
    "### Chest pain type"
   ]
  },
  {
   "cell_type": "code",
   "execution_count": 120,
   "id": "2f8e6288",
   "metadata": {},
   "outputs": [
    {
     "data": {
      "text/plain": [
       "<Axes: >"
      ]
     },
     "execution_count": 120,
     "metadata": {},
     "output_type": "execute_result"
    },
    {
     "data": {
      "image/png": "[encoded data removed]",
      "text/plain": [
       "<Figure size 640x480 with 1 Axes>"
      ]
     },
     "metadata": {},
     "output_type": "display_data"
    }
   ],
   "source": [
    "sns.boxplot(cardiovascular_female['cp'])"
   ]
  },
  {
   "cell_type": "markdown",
   "id": "f5b7ed94",
   "metadata": {},
   "source": [
    "There are no outliers in chest pain type."
   ]
  },
  {
   "cell_type": "markdown",
   "id": "dbeef838",
   "metadata": {},
   "source": [
    "### Resting Blood Pressure"
   ]
  },
  {
   "cell_type": "code",
   "execution_count": 121,
   "id": "45532fd0",
   "metadata": {},
   "outputs": [
    {
     "data": {
      "text/plain": [
       "<Axes: >"
      ]
     },
     "execution_count": 121,
     "metadata": {},
     "output_type": "execute_result"
    },
    {
     "data": {
      "image/png": "[encoded data removed]",
      "text/plain": [
       "<Figure size 640x480 with 1 Axes>"
      ]
     },
     "metadata": {},
     "output_type": "display_data"
    }
   ],
   "source": [
    "sns.boxplot(cardiovascular_female['trestbps'])"
   ]
  },
  {
   "cell_type": "code",
   "execution_count": 122,
   "id": "7925c010",
   "metadata": {},
   "outputs": [],
   "source": [
    "# Finding the IQR\n",
    "percentile25 = cardiovascular_female['trestbps'].quantile(0.25)\n",
    "percentile75 = cardiovascular_female['trestbps'].quantile(0.75)"
   ]
  },
  {
   "cell_type": "code",
   "execution_count": 123,
   "id": "4bfccdf1",
   "metadata": {},
   "outputs": [
    {
     "data": {
      "text/plain": [
       "120.0"
      ]
     },
     "execution_count": 123,
     "metadata": {},
     "output_type": "execute_result"
    }
   ],
   "source": [
    "percentile25"
   ]
  },
  {
   "cell_type": "code",
   "execution_count": 124,
   "id": "4b3bbba0",
   "metadata": {},
   "outputs": [
    {
     "data": {
      "text/plain": [
       "140.0"
      ]
     },
     "execution_count": 124,
     "metadata": {},
     "output_type": "execute_result"
    }
   ],
   "source": [
    "percentile75"
   ]
  },
  {
   "cell_type": "code",
   "execution_count": 125,
   "id": "be388bc1",
   "metadata": {},
   "outputs": [
    {
     "data": {
      "text/plain": [
       "20.0"
      ]
     },
     "execution_count": 125,
     "metadata": {},
     "output_type": "execute_result"
    }
   ],
   "source": [
    "iqr = percentile75 - percentile25\n",
    "iqr"
   ]
  },
  {
   "cell_type": "code",
   "execution_count": 126,
   "id": "3b26fcf8",
   "metadata": {},
   "outputs": [],
   "source": [
    "upper_limit = percentile75 + 1.5 * iqr\n",
    "lower_limit = percentile25 - 1.5 * iqr"
   ]
  },
  {
   "cell_type": "code",
   "execution_count": 127,
   "id": "6df013bf",
   "metadata": {},
   "outputs": [
    {
     "name": "stdout",
     "output_type": "stream",
     "text": [
      "Upper Limit 170.0\n",
      "Lower Limit 90.0\n"
     ]
    }
   ],
   "source": [
    "print('Upper Limit', upper_limit)\n",
    "print('Lower Limit',lower_limit)"
   ]
  },
  {
   "cell_type": "code",
   "execution_count": 128,
   "id": "b0093594",
   "metadata": {},
   "outputs": [
    {
     "data": {
      "text/html": [
       "<div>\n",
       "<style scoped>\n",
       "    .dataframe tbody tr th:only-of-type {\n",
       "        vertical-align: middle;\n",
       "    }\n",
       "\n",
       "    .dataframe tbody tr th {\n",
       "        vertical-align: top;\n",
       "    }\n",
       "\n",
       "    .dataframe thead th {\n",
       "        text-align: right;\n",
       "    }\n",
       "</style>\n",
       "<table border=\"1\" class=\"dataframe\">\n",
       "  <thead>\n",
       "    <tr style=\"text-align: right;\">\n",
       "      <th></th>\n",
       "      <th>age</th>\n",
       "      <th>cp</th>\n",
       "      <th>trestbps</th>\n",
       "      <th>chol</th>\n",
       "      <th>fbs</th>\n",
       "      <th>restecg</th>\n",
       "      <th>thalach</th>\n",
       "      <th>exang</th>\n",
       "      <th>oldpeak</th>\n",
       "      <th>slope</th>\n",
       "      <th>heart_disease</th>\n",
       "    </tr>\n",
       "  </thead>\n",
       "  <tbody>\n",
       "    <tr>\n",
       "      <th>37</th>\n",
       "      <td>56.0</td>\n",
       "      <td>4.0</td>\n",
       "      <td>200.0</td>\n",
       "      <td>288.0</td>\n",
       "      <td>1.0</td>\n",
       "      <td>2.0</td>\n",
       "      <td>133.0</td>\n",
       "      <td>1.0</td>\n",
       "      <td>4.0</td>\n",
       "      <td>3.0</td>\n",
       "      <td>3.0</td>\n",
       "    </tr>\n",
       "    <tr>\n",
       "      <th>48</th>\n",
       "      <td>59.0</td>\n",
       "      <td>4.0</td>\n",
       "      <td>174.0</td>\n",
       "      <td>249.0</td>\n",
       "      <td>0.0</td>\n",
       "      <td>0.0</td>\n",
       "      <td>143.0</td>\n",
       "      <td>1.0</td>\n",
       "      <td>0.0</td>\n",
       "      <td>2.0</td>\n",
       "      <td>1.0</td>\n",
       "    </tr>\n",
       "    <tr>\n",
       "      <th>58</th>\n",
       "      <td>64.0</td>\n",
       "      <td>4.0</td>\n",
       "      <td>180.0</td>\n",
       "      <td>325.0</td>\n",
       "      <td>0.0</td>\n",
       "      <td>0.0</td>\n",
       "      <td>154.0</td>\n",
       "      <td>1.0</td>\n",
       "      <td>0.0</td>\n",
       "      <td>1.0</td>\n",
       "      <td>0.0</td>\n",
       "    </tr>\n",
       "    <tr>\n",
       "      <th>62</th>\n",
       "      <td>66.0</td>\n",
       "      <td>4.0</td>\n",
       "      <td>178.0</td>\n",
       "      <td>228.0</td>\n",
       "      <td>1.0</td>\n",
       "      <td>0.0</td>\n",
       "      <td>165.0</td>\n",
       "      <td>1.0</td>\n",
       "      <td>1.0</td>\n",
       "      <td>2.0</td>\n",
       "      <td>3.0</td>\n",
       "    </tr>\n",
       "    <tr>\n",
       "      <th>73</th>\n",
       "      <td>55.0</td>\n",
       "      <td>4.0</td>\n",
       "      <td>180.0</td>\n",
       "      <td>327.0</td>\n",
       "      <td>0.0</td>\n",
       "      <td>1.0</td>\n",
       "      <td>117.0</td>\n",
       "      <td>1.0</td>\n",
       "      <td>3.4</td>\n",
       "      <td>2.0</td>\n",
       "      <td>2.0</td>\n",
       "    </tr>\n",
       "    <tr>\n",
       "      <th>121</th>\n",
       "      <td>45.0</td>\n",
       "      <td>2.0</td>\n",
       "      <td>180.0</td>\n",
       "      <td>242.0</td>\n",
       "      <td>0.0</td>\n",
       "      <td>0.0</td>\n",
       "      <td>180.0</td>\n",
       "      <td>0.0</td>\n",
       "      <td>0.0</td>\n",
       "      <td>1.2</td>\n",
       "      <td>0.0</td>\n",
       "    </tr>\n",
       "    <tr>\n",
       "      <th>162</th>\n",
       "      <td>57.0</td>\n",
       "      <td>4.0</td>\n",
       "      <td>180.0</td>\n",
       "      <td>347.0</td>\n",
       "      <td>0.0</td>\n",
       "      <td>1.0</td>\n",
       "      <td>126.0</td>\n",
       "      <td>1.0</td>\n",
       "      <td>0.8</td>\n",
       "      <td>2.0</td>\n",
       "      <td>0.0</td>\n",
       "    </tr>\n",
       "    <tr>\n",
       "      <th>177</th>\n",
       "      <td>58.0</td>\n",
       "      <td>2.0</td>\n",
       "      <td>180.0</td>\n",
       "      <td>393.0</td>\n",
       "      <td>0.0</td>\n",
       "      <td>0.0</td>\n",
       "      <td>110.0</td>\n",
       "      <td>1.0</td>\n",
       "      <td>1.0</td>\n",
       "      <td>2.0</td>\n",
       "      <td>1.0</td>\n",
       "    </tr>\n",
       "    <tr>\n",
       "      <th>184</th>\n",
       "      <td>64.0</td>\n",
       "      <td>4.0</td>\n",
       "      <td>200.0</td>\n",
       "      <td>0.0</td>\n",
       "      <td>0.0</td>\n",
       "      <td>0.0</td>\n",
       "      <td>140.0</td>\n",
       "      <td>1.0</td>\n",
       "      <td>1.0</td>\n",
       "      <td>2.0</td>\n",
       "      <td>3.0</td>\n",
       "    </tr>\n",
       "  </tbody>\n",
       "</table>\n",
       "</div>"
      ],
      "text/plain": [
       "      age   cp  trestbps   chol  fbs  restecg  thalach  exang  oldpeak  slope  \\\n",
       "37   56.0  4.0     200.0  288.0  1.0      2.0    133.0    1.0      4.0    3.0   \n",
       "48   59.0  4.0     174.0  249.0  0.0      0.0    143.0    1.0      0.0    2.0   \n",
       "58   64.0  4.0     180.0  325.0  0.0      0.0    154.0    1.0      0.0    1.0   \n",
       "62   66.0  4.0     178.0  228.0  1.0      0.0    165.0    1.0      1.0    2.0   \n",
       "73   55.0  4.0     180.0  327.0  0.0      1.0    117.0    1.0      3.4    2.0   \n",
       "121  45.0  2.0     180.0  242.0  0.0      0.0    180.0    0.0      0.0    1.2   \n",
       "162  57.0  4.0     180.0  347.0  0.0      1.0    126.0    1.0      0.8    2.0   \n",
       "177  58.0  2.0     180.0  393.0  0.0      0.0    110.0    1.0      1.0    2.0   \n",
       "184  64.0  4.0     200.0    0.0  0.0      0.0    140.0    1.0      1.0    2.0   \n",
       "\n",
       "     heart_disease  \n",
       "37             3.0  \n",
       "48             1.0  \n",
       "58             0.0  \n",
       "62             3.0  \n",
       "73             2.0  \n",
       "121            0.0  \n",
       "162            0.0  \n",
       "177            1.0  \n",
       "184            3.0  "
      ]
     },
     "execution_count": 128,
     "metadata": {},
     "output_type": "execute_result"
    }
   ],
   "source": [
    "cardiovascular_female[cardiovascular_female['trestbps'] > upper_limit]"
   ]
  },
  {
   "cell_type": "code",
   "execution_count": 129,
   "id": "dff3c836",
   "metadata": {},
   "outputs": [
    {
     "data": {
      "text/html": [
       "<div>\n",
       "<style scoped>\n",
       "    .dataframe tbody tr th:only-of-type {\n",
       "        vertical-align: middle;\n",
       "    }\n",
       "\n",
       "    .dataframe tbody tr th {\n",
       "        vertical-align: top;\n",
       "    }\n",
       "\n",
       "    .dataframe thead th {\n",
       "        text-align: right;\n",
       "    }\n",
       "</style>\n",
       "<table border=\"1\" class=\"dataframe\">\n",
       "  <thead>\n",
       "    <tr style=\"text-align: right;\">\n",
       "      <th></th>\n",
       "      <th>age</th>\n",
       "      <th>cp</th>\n",
       "      <th>trestbps</th>\n",
       "      <th>chol</th>\n",
       "      <th>fbs</th>\n",
       "      <th>restecg</th>\n",
       "      <th>thalach</th>\n",
       "      <th>exang</th>\n",
       "      <th>oldpeak</th>\n",
       "      <th>slope</th>\n",
       "      <th>heart_disease</th>\n",
       "    </tr>\n",
       "  </thead>\n",
       "  <tbody>\n",
       "  </tbody>\n",
       "</table>\n",
       "</div>"
      ],
      "text/plain": [
       "Empty DataFrame\n",
       "Columns: [age, cp, trestbps, chol, fbs, restecg, thalach, exang, oldpeak, slope, heart_disease]\n",
       "Index: []"
      ]
     },
     "execution_count": 129,
     "metadata": {},
     "output_type": "execute_result"
    }
   ],
   "source": [
    "cardiovascular_female[cardiovascular_female['trestbps'] < lower_limit]"
   ]
  },
  {
   "cell_type": "code",
   "execution_count": 130,
   "id": "7c572324",
   "metadata": {},
   "outputs": [],
   "source": [
    "cardiovascular_female['trestbps'] = np.where(\n",
    "    cardiovascular_female['trestbps'] > upper_limit,\n",
    "    upper_limit,\n",
    "    np.where(\n",
    "        cardiovascular_female['trestbps'] < lower_limit,\n",
    "        lower_limit,\n",
    "        cardiovascular_female['trestbps']\n",
    "    )\n",
    ")"
   ]
  },
  {
   "cell_type": "code",
   "execution_count": 131,
   "id": "d25f6de2",
   "metadata": {},
   "outputs": [
    {
     "data": {
      "text/plain": [
       "<Axes: >"
      ]
     },
     "execution_count": 131,
     "metadata": {},
     "output_type": "execute_result"
    },
    {
     "data": {
      "image/png": "[encoded data removed]",
      "text/plain": [
       "<Figure size 640x480 with 1 Axes>"
      ]
     },
     "metadata": {},
     "output_type": "display_data"
    }
   ],
   "source": [
    "sns.boxplot(cardiovascular_female['trestbps'])"
   ]
  },
  {
   "cell_type": "markdown",
   "id": "42ef26b3",
   "metadata": {},
   "source": [
    "### Serum Cholesterol"
   ]
  },
  {
   "cell_type": "code",
   "execution_count": 132,
   "id": "102c470b",
   "metadata": {},
   "outputs": [
    {
     "data": {
      "text/plain": [
       "<Axes: >"
      ]
     },
     "execution_count": 132,
     "metadata": {},
     "output_type": "execute_result"
    },
    {
     "data": {
      "image/png": "[encoded data removed]",
      "text/plain": [
       "<Figure size 640x480 with 1 Axes>"
      ]
     },
     "metadata": {},
     "output_type": "display_data"
    }
   ],
   "source": [
    "sns.boxplot(cardiovascular_female['chol'])"
   ]
  },
  {
   "cell_type": "code",
   "execution_count": 133,
   "id": "44ae18d8",
   "metadata": {},
   "outputs": [],
   "source": [
    "# Finding the IQR\n",
    "percentile25 = cardiovascular_female['chol'].quantile(0.25)\n",
    "percentile75 = cardiovascular_female['chol'].quantile(0.75)"
   ]
  },
  {
   "cell_type": "code",
   "execution_count": 134,
   "id": "966365d0",
   "metadata": {},
   "outputs": [
    {
     "data": {
      "text/plain": [
       "204.75"
      ]
     },
     "execution_count": 134,
     "metadata": {},
     "output_type": "execute_result"
    }
   ],
   "source": [
    "percentile25"
   ]
  },
  {
   "cell_type": "code",
   "execution_count": 135,
   "id": "ee8f7ece",
   "metadata": {},
   "outputs": [
    {
     "data": {
      "text/plain": [
       "288.0"
      ]
     },
     "execution_count": 135,
     "metadata": {},
     "output_type": "execute_result"
    }
   ],
   "source": [
    "percentile75"
   ]
  },
  {
   "cell_type": "code",
   "execution_count": 136,
   "id": "0e04e09c",
   "metadata": {},
   "outputs": [
    {
     "data": {
      "text/plain": [
       "83.25"
      ]
     },
     "execution_count": 136,
     "metadata": {},
     "output_type": "execute_result"
    }
   ],
   "source": [
    "iqr = percentile75 - percentile25\n",
    "iqr"
   ]
  },
  {
   "cell_type": "code",
   "execution_count": 137,
   "id": "b7cc10d9",
   "metadata": {},
   "outputs": [],
   "source": [
    "upper_limit = percentile75 + 1.5 * iqr\n",
    "lower_limit = percentile25 - 1.5 * iqr"
   ]
  },
  {
   "cell_type": "code",
   "execution_count": 138,
   "id": "36c2276f",
   "metadata": {},
   "outputs": [
    {
     "name": "stdout",
     "output_type": "stream",
     "text": [
      "Upper Limit 412.875\n",
      "Lower Limit 79.875\n"
     ]
    }
   ],
   "source": [
    "print('Upper Limit', upper_limit)\n",
    "print('Lower Limit',lower_limit)"
   ]
  },
  {
   "cell_type": "code",
   "execution_count": 139,
   "id": "89807e32",
   "metadata": {},
   "outputs": [
    {
     "data": {
      "text/html": [
       "<div>\n",
       "<style scoped>\n",
       "    .dataframe tbody tr th:only-of-type {\n",
       "        vertical-align: middle;\n",
       "    }\n",
       "\n",
       "    .dataframe tbody tr th {\n",
       "        vertical-align: top;\n",
       "    }\n",
       "\n",
       "    .dataframe thead th {\n",
       "        text-align: right;\n",
       "    }\n",
       "</style>\n",
       "<table border=\"1\" class=\"dataframe\">\n",
       "  <thead>\n",
       "    <tr style=\"text-align: right;\">\n",
       "      <th></th>\n",
       "      <th>age</th>\n",
       "      <th>cp</th>\n",
       "      <th>trestbps</th>\n",
       "      <th>chol</th>\n",
       "      <th>fbs</th>\n",
       "      <th>restecg</th>\n",
       "      <th>thalach</th>\n",
       "      <th>exang</th>\n",
       "      <th>oldpeak</th>\n",
       "      <th>slope</th>\n",
       "      <th>heart_disease</th>\n",
       "    </tr>\n",
       "  </thead>\n",
       "  <tbody>\n",
       "    <tr>\n",
       "      <th>13</th>\n",
       "      <td>65.0</td>\n",
       "      <td>3.0</td>\n",
       "      <td>140.0</td>\n",
       "      <td>417.0</td>\n",
       "      <td>1.0</td>\n",
       "      <td>2.0</td>\n",
       "      <td>157.0</td>\n",
       "      <td>0.0</td>\n",
       "      <td>0.8</td>\n",
       "      <td>1.0</td>\n",
       "      <td>0.0</td>\n",
       "    </tr>\n",
       "    <tr>\n",
       "      <th>43</th>\n",
       "      <td>67.0</td>\n",
       "      <td>3.0</td>\n",
       "      <td>115.0</td>\n",
       "      <td>564.0</td>\n",
       "      <td>0.0</td>\n",
       "      <td>2.0</td>\n",
       "      <td>160.0</td>\n",
       "      <td>0.0</td>\n",
       "      <td>1.6</td>\n",
       "      <td>2.0</td>\n",
       "      <td>0.0</td>\n",
       "    </tr>\n",
       "    <tr>\n",
       "      <th>147</th>\n",
       "      <td>53.0</td>\n",
       "      <td>2.0</td>\n",
       "      <td>113.0</td>\n",
       "      <td>468.0</td>\n",
       "      <td>0.2</td>\n",
       "      <td>0.0</td>\n",
       "      <td>127.0</td>\n",
       "      <td>0.0</td>\n",
       "      <td>0.0</td>\n",
       "      <td>1.3</td>\n",
       "      <td>0.0</td>\n",
       "    </tr>\n",
       "  </tbody>\n",
       "</table>\n",
       "</div>"
      ],
      "text/plain": [
       "      age   cp  trestbps   chol  fbs  restecg  thalach  exang  oldpeak  slope  \\\n",
       "13   65.0  3.0     140.0  417.0  1.0      2.0    157.0    0.0      0.8    1.0   \n",
       "43   67.0  3.0     115.0  564.0  0.0      2.0    160.0    0.0      1.6    2.0   \n",
       "147  53.0  2.0     113.0  468.0  0.2      0.0    127.0    0.0      0.0    1.3   \n",
       "\n",
       "     heart_disease  \n",
       "13             0.0  \n",
       "43             0.0  \n",
       "147            0.0  "
      ]
     },
     "execution_count": 139,
     "metadata": {},
     "output_type": "execute_result"
    }
   ],
   "source": [
    "cardiovascular_female[cardiovascular_female['chol'] > upper_limit]"
   ]
  },
  {
   "cell_type": "code",
   "execution_count": 140,
   "id": "d3ff6583",
   "metadata": {},
   "outputs": [
    {
     "data": {
      "text/html": [
       "<div>\n",
       "<style scoped>\n",
       "    .dataframe tbody tr th:only-of-type {\n",
       "        vertical-align: middle;\n",
       "    }\n",
       "\n",
       "    .dataframe tbody tr th {\n",
       "        vertical-align: top;\n",
       "    }\n",
       "\n",
       "    .dataframe thead th {\n",
       "        text-align: right;\n",
       "    }\n",
       "</style>\n",
       "<table border=\"1\" class=\"dataframe\">\n",
       "  <thead>\n",
       "    <tr style=\"text-align: right;\">\n",
       "      <th></th>\n",
       "      <th>age</th>\n",
       "      <th>cp</th>\n",
       "      <th>trestbps</th>\n",
       "      <th>chol</th>\n",
       "      <th>fbs</th>\n",
       "      <th>restecg</th>\n",
       "      <th>thalach</th>\n",
       "      <th>exang</th>\n",
       "      <th>oldpeak</th>\n",
       "      <th>slope</th>\n",
       "      <th>heart_disease</th>\n",
       "    </tr>\n",
       "  </thead>\n",
       "  <tbody>\n",
       "    <tr>\n",
       "      <th>178</th>\n",
       "      <td>38.0</td>\n",
       "      <td>4.0</td>\n",
       "      <td>105.0</td>\n",
       "      <td>0.0</td>\n",
       "      <td>-0.1</td>\n",
       "      <td>0.0</td>\n",
       "      <td>166.0</td>\n",
       "      <td>0.0</td>\n",
       "      <td>2.8</td>\n",
       "      <td>1.0</td>\n",
       "      <td>2.0</td>\n",
       "    </tr>\n",
       "    <tr>\n",
       "      <th>179</th>\n",
       "      <td>38.0</td>\n",
       "      <td>4.0</td>\n",
       "      <td>110.0</td>\n",
       "      <td>0.0</td>\n",
       "      <td>0.0</td>\n",
       "      <td>0.0</td>\n",
       "      <td>156.0</td>\n",
       "      <td>0.0</td>\n",
       "      <td>0.0</td>\n",
       "      <td>2.0</td>\n",
       "      <td>1.0</td>\n",
       "    </tr>\n",
       "    <tr>\n",
       "      <th>180</th>\n",
       "      <td>50.0</td>\n",
       "      <td>4.0</td>\n",
       "      <td>160.0</td>\n",
       "      <td>0.0</td>\n",
       "      <td>-0.0</td>\n",
       "      <td>0.0</td>\n",
       "      <td>110.0</td>\n",
       "      <td>0.0</td>\n",
       "      <td>0.0</td>\n",
       "      <td>2.0</td>\n",
       "      <td>1.0</td>\n",
       "    </tr>\n",
       "    <tr>\n",
       "      <th>181</th>\n",
       "      <td>51.0</td>\n",
       "      <td>4.0</td>\n",
       "      <td>120.0</td>\n",
       "      <td>0.0</td>\n",
       "      <td>-0.0</td>\n",
       "      <td>0.0</td>\n",
       "      <td>127.0</td>\n",
       "      <td>1.0</td>\n",
       "      <td>1.5</td>\n",
       "      <td>1.0</td>\n",
       "      <td>2.0</td>\n",
       "    </tr>\n",
       "    <tr>\n",
       "      <th>182</th>\n",
       "      <td>62.0</td>\n",
       "      <td>1.0</td>\n",
       "      <td>140.0</td>\n",
       "      <td>0.0</td>\n",
       "      <td>-0.0</td>\n",
       "      <td>0.0</td>\n",
       "      <td>143.0</td>\n",
       "      <td>0.0</td>\n",
       "      <td>0.0</td>\n",
       "      <td>1.6</td>\n",
       "      <td>2.0</td>\n",
       "    </tr>\n",
       "    <tr>\n",
       "      <th>183</th>\n",
       "      <td>62.0</td>\n",
       "      <td>4.0</td>\n",
       "      <td>120.0</td>\n",
       "      <td>0.0</td>\n",
       "      <td>-0.0</td>\n",
       "      <td>1.0</td>\n",
       "      <td>123.0</td>\n",
       "      <td>1.0</td>\n",
       "      <td>1.7</td>\n",
       "      <td>3.0</td>\n",
       "      <td>1.0</td>\n",
       "    </tr>\n",
       "    <tr>\n",
       "      <th>184</th>\n",
       "      <td>64.0</td>\n",
       "      <td>4.0</td>\n",
       "      <td>170.0</td>\n",
       "      <td>0.0</td>\n",
       "      <td>0.0</td>\n",
       "      <td>0.0</td>\n",
       "      <td>140.0</td>\n",
       "      <td>1.0</td>\n",
       "      <td>1.0</td>\n",
       "      <td>2.0</td>\n",
       "      <td>3.0</td>\n",
       "    </tr>\n",
       "    <tr>\n",
       "      <th>185</th>\n",
       "      <td>64.0</td>\n",
       "      <td>4.0</td>\n",
       "      <td>95.0</td>\n",
       "      <td>0.0</td>\n",
       "      <td>-0.1</td>\n",
       "      <td>0.0</td>\n",
       "      <td>145.0</td>\n",
       "      <td>0.0</td>\n",
       "      <td>1.1</td>\n",
       "      <td>3.0</td>\n",
       "      <td>1.0</td>\n",
       "    </tr>\n",
       "    <tr>\n",
       "      <th>186</th>\n",
       "      <td>66.0</td>\n",
       "      <td>4.0</td>\n",
       "      <td>155.0</td>\n",
       "      <td>0.0</td>\n",
       "      <td>0.0</td>\n",
       "      <td>0.0</td>\n",
       "      <td>90.0</td>\n",
       "      <td>0.0</td>\n",
       "      <td>0.0</td>\n",
       "      <td>2.1</td>\n",
       "      <td>1.0</td>\n",
       "    </tr>\n",
       "    <tr>\n",
       "      <th>187</th>\n",
       "      <td>73.0</td>\n",
       "      <td>3.0</td>\n",
       "      <td>160.0</td>\n",
       "      <td>0.0</td>\n",
       "      <td>0.0</td>\n",
       "      <td>1.0</td>\n",
       "      <td>121.0</td>\n",
       "      <td>0.0</td>\n",
       "      <td>0.0</td>\n",
       "      <td>1.0</td>\n",
       "      <td>1.0</td>\n",
       "    </tr>\n",
       "  </tbody>\n",
       "</table>\n",
       "</div>"
      ],
      "text/plain": [
       "      age   cp  trestbps  chol  fbs  restecg  thalach  exang  oldpeak  slope  \\\n",
       "178  38.0  4.0     105.0   0.0 -0.1      0.0    166.0    0.0      2.8    1.0   \n",
       "179  38.0  4.0     110.0   0.0  0.0      0.0    156.0    0.0      0.0    2.0   \n",
       "180  50.0  4.0     160.0   0.0 -0.0      0.0    110.0    0.0      0.0    2.0   \n",
       "181  51.0  4.0     120.0   0.0 -0.0      0.0    127.0    1.0      1.5    1.0   \n",
       "182  62.0  1.0     140.0   0.0 -0.0      0.0    143.0    0.0      0.0    1.6   \n",
       "183  62.0  4.0     120.0   0.0 -0.0      1.0    123.0    1.0      1.7    3.0   \n",
       "184  64.0  4.0     170.0   0.0  0.0      0.0    140.0    1.0      1.0    2.0   \n",
       "185  64.0  4.0      95.0   0.0 -0.1      0.0    145.0    0.0      1.1    3.0   \n",
       "186  66.0  4.0     155.0   0.0  0.0      0.0     90.0    0.0      0.0    2.1   \n",
       "187  73.0  3.0     160.0   0.0  0.0      1.0    121.0    0.0      0.0    1.0   \n",
       "\n",
       "     heart_disease  \n",
       "178            2.0  \n",
       "179            1.0  \n",
       "180            1.0  \n",
       "181            2.0  \n",
       "182            2.0  \n",
       "183            1.0  \n",
       "184            3.0  \n",
       "185            1.0  \n",
       "186            1.0  \n",
       "187            1.0  "
      ]
     },
     "execution_count": 140,
     "metadata": {},
     "output_type": "execute_result"
    }
   ],
   "source": [
    "cardiovascular_female[cardiovascular_female['chol'] < lower_limit]"
   ]
  },
  {
   "cell_type": "code",
   "execution_count": 141,
   "id": "5e21d3f0",
   "metadata": {},
   "outputs": [],
   "source": [
    "cardiovascular_female['chol'] = np.where(\n",
    "    cardiovascular_female['chol'] > upper_limit,\n",
    "    upper_limit,\n",
    "    np.where(\n",
    "        cardiovascular_female['chol'] < lower_limit,\n",
    "        lower_limit,\n",
    "        cardiovascular_female['chol']\n",
    "    )\n",
    ")"
   ]
  },
  {
   "cell_type": "code",
   "execution_count": 142,
   "id": "a5071b33",
   "metadata": {},
   "outputs": [
    {
     "data": {
      "text/plain": [
       "<Axes: >"
      ]
     },
     "execution_count": 142,
     "metadata": {},
     "output_type": "execute_result"
    },
    {
     "data": {
      "image/png": "[encoded data removed]",
      "text/plain": [
       "<Figure size 640x480 with 1 Axes>"
      ]
     },
     "metadata": {},
     "output_type": "display_data"
    }
   ],
   "source": [
    "sns.boxplot(cardiovascular_female['chol'])"
   ]
  },
  {
   "cell_type": "markdown",
   "id": "fdddb78f",
   "metadata": {},
   "source": [
    "## Fasting blood sugar"
   ]
  },
  {
   "cell_type": "code",
   "execution_count": 143,
   "id": "2a9882cc",
   "metadata": {},
   "outputs": [
    {
     "data": {
      "text/plain": [
       "<Axes: >"
      ]
     },
     "execution_count": 143,
     "metadata": {},
     "output_type": "execute_result"
    },
    {
     "data": {
      "image/png": "[encoded data removed]",
      "text/plain": [
       "<Figure size 640x480 with 1 Axes>"
      ]
     },
     "metadata": {},
     "output_type": "display_data"
    }
   ],
   "source": [
    "sns.boxplot(cardiovascular_female['fbs'])"
   ]
  },
  {
   "cell_type": "code",
   "execution_count": 144,
   "id": "728f9ec1",
   "metadata": {},
   "outputs": [],
   "source": [
    "# Finding the IQR\n",
    "percentile25 = cardiovascular_female['fbs'].quantile(0.25)\n",
    "percentile75 = cardiovascular_female['fbs'].quantile(0.75)"
   ]
  },
  {
   "cell_type": "code",
   "execution_count": 145,
   "id": "455aae80",
   "metadata": {},
   "outputs": [
    {
     "data": {
      "text/plain": [
       "0.0"
      ]
     },
     "execution_count": 145,
     "metadata": {},
     "output_type": "execute_result"
    }
   ],
   "source": [
    "percentile25"
   ]
  },
  {
   "cell_type": "code",
   "execution_count": 146,
   "id": "15776139",
   "metadata": {},
   "outputs": [
    {
     "data": {
      "text/plain": [
       "0.0"
      ]
     },
     "execution_count": 146,
     "metadata": {},
     "output_type": "execute_result"
    }
   ],
   "source": [
    "percentile75"
   ]
  },
  {
   "cell_type": "code",
   "execution_count": 147,
   "id": "7a666d7e",
   "metadata": {},
   "outputs": [
    {
     "data": {
      "text/plain": [
       "0.0"
      ]
     },
     "execution_count": 147,
     "metadata": {},
     "output_type": "execute_result"
    }
   ],
   "source": [
    "iqr = percentile75 - percentile25\n",
    "iqr"
   ]
  },
  {
   "cell_type": "markdown",
   "id": "4223528d",
   "metadata": {},
   "source": [
    "## Resting Electrocardiographic Results"
   ]
  },
  {
   "cell_type": "code",
   "execution_count": 148,
   "id": "7a8f2cb3",
   "metadata": {},
   "outputs": [
    {
     "data": {
      "text/plain": [
       "<Axes: >"
      ]
     },
     "execution_count": 148,
     "metadata": {},
     "output_type": "execute_result"
    },
    {
     "data": {
      "image/png": "[encoded data removed]",
      "text/plain": [
       "<Figure size 640x480 with 1 Axes>"
      ]
     },
     "metadata": {},
     "output_type": "display_data"
    }
   ],
   "source": [
    "sns.boxplot(cardiovascular_female['restecg'])"
   ]
  },
  {
   "cell_type": "markdown",
   "id": "84b54986",
   "metadata": {},
   "source": [
    "There are no outliers in Resting Electrocardiographic Results"
   ]
  },
  {
   "cell_type": "markdown",
   "id": "adf0696a",
   "metadata": {},
   "source": [
    "### Maximum Heart Rate achieved in an exercise test"
   ]
  },
  {
   "cell_type": "code",
   "execution_count": 149,
   "id": "e601a5d6",
   "metadata": {},
   "outputs": [
    {
     "data": {
      "text/plain": [
       "<Axes: >"
      ]
     },
     "execution_count": 149,
     "metadata": {},
     "output_type": "execute_result"
    },
    {
     "data": {
      "image/png": "[encoded data removed]",
      "text/plain": [
       "<Figure size 640x480 with 1 Axes>"
      ]
     },
     "metadata": {},
     "output_type": "display_data"
    }
   ],
   "source": [
    "sns.boxplot(cardiovascular_female['thalach'])"
   ]
  },
  {
   "cell_type": "markdown",
   "id": "170bb3b6",
   "metadata": {},
   "source": [
    "There are no outliers in maximum heart rate achieved."
   ]
  },
  {
   "cell_type": "markdown",
   "id": "d1849ec5",
   "metadata": {},
   "source": [
    "### Exercise Induced Angina"
   ]
  },
  {
   "cell_type": "code",
   "execution_count": 150,
   "id": "42ada2a1",
   "metadata": {},
   "outputs": [
    {
     "data": {
      "text/plain": [
       "<Axes: >"
      ]
     },
     "execution_count": 150,
     "metadata": {},
     "output_type": "execute_result"
    },
    {
     "data": {
      "image/png": "[encoded data removed]",
      "text/plain": [
       "<Figure size 640x480 with 1 Axes>"
      ]
     },
     "metadata": {},
     "output_type": "display_data"
    }
   ],
   "source": [
    "sns.boxplot(cardiovascular_female['exang'])"
   ]
  },
  {
   "cell_type": "markdown",
   "id": "4228a5e4",
   "metadata": {},
   "source": [
    "### ST depression induced by exercise relative to rest"
   ]
  },
  {
   "cell_type": "code",
   "execution_count": 151,
   "id": "69e68589",
   "metadata": {},
   "outputs": [
    {
     "data": {
      "text/plain": [
       "<Axes: >"
      ]
     },
     "execution_count": 151,
     "metadata": {},
     "output_type": "execute_result"
    },
    {
     "data": {
      "image/png": "[encoded data removed]",
      "text/plain": [
       "<Figure size 640x480 with 1 Axes>"
      ]
     },
     "metadata": {},
     "output_type": "display_data"
    }
   ],
   "source": [
    "sns.boxplot(cardiovascular_female['oldpeak'])"
   ]
  },
  {
   "cell_type": "code",
   "execution_count": 152,
   "id": "275d934d",
   "metadata": {},
   "outputs": [
    {
     "data": {
      "text/plain": [
       "array([1.4, 3.6, 0.6, 1.3, 0.2, 1. , 1.6, 0. , 2.6, 1.8, 0.4, 0.8, 1.2,\n",
       "       1.5, 0.5, 6.2, 3. , 4. , 1.9, 1.1, 2. , 0.7, 0.1, 3.4, 0.3, 0.9,\n",
       "       2.8, 1.7])"
      ]
     },
     "execution_count": 152,
     "metadata": {},
     "output_type": "execute_result"
    }
   ],
   "source": [
    "cardiovascular_female.oldpeak.unique()"
   ]
  },
  {
   "cell_type": "code",
   "execution_count": 153,
   "id": "a45037f8",
   "metadata": {},
   "outputs": [],
   "source": [
    "# Finding the IQR\n",
    "percentile25 = cardiovascular_female['oldpeak'].quantile(0.25)\n",
    "percentile75 = cardiovascular_female['oldpeak'].quantile(0.75)"
   ]
  },
  {
   "cell_type": "code",
   "execution_count": 154,
   "id": "04f5d5c1",
   "metadata": {},
   "outputs": [
    {
     "data": {
      "text/plain": [
       "0.0"
      ]
     },
     "execution_count": 154,
     "metadata": {},
     "output_type": "execute_result"
    }
   ],
   "source": [
    "percentile25"
   ]
  },
  {
   "cell_type": "code",
   "execution_count": 155,
   "id": "7a54648f",
   "metadata": {},
   "outputs": [
    {
     "data": {
      "text/plain": [
       "1.1"
      ]
     },
     "execution_count": 155,
     "metadata": {},
     "output_type": "execute_result"
    }
   ],
   "source": [
    "percentile75"
   ]
  },
  {
   "cell_type": "code",
   "execution_count": 156,
   "id": "fe33fdb7",
   "metadata": {},
   "outputs": [
    {
     "data": {
      "text/plain": [
       "1.1"
      ]
     },
     "execution_count": 156,
     "metadata": {},
     "output_type": "execute_result"
    }
   ],
   "source": [
    "iqr = percentile75 - percentile25\n",
    "iqr"
   ]
  },
  {
   "cell_type": "code",
   "execution_count": 157,
   "id": "a2b01109",
   "metadata": {},
   "outputs": [],
   "source": [
    "upper_limit = percentile75 + 1.5 * iqr\n",
    "lower_limit = percentile25 - 1.5 * iqr"
   ]
  },
  {
   "cell_type": "code",
   "execution_count": 158,
   "id": "f1d5f9c5",
   "metadata": {},
   "outputs": [
    {
     "name": "stdout",
     "output_type": "stream",
     "text": [
      "Upper Limit 2.75\n",
      "Lower Limit -1.6500000000000001\n"
     ]
    }
   ],
   "source": [
    "print('Upper Limit', upper_limit)\n",
    "print('Lower Limit',lower_limit)"
   ]
  },
  {
   "cell_type": "code",
   "execution_count": 159,
   "id": "277f33c3",
   "metadata": {},
   "outputs": [
    {
     "data": {
      "text/html": [
       "<div>\n",
       "<style scoped>\n",
       "    .dataframe tbody tr th:only-of-type {\n",
       "        vertical-align: middle;\n",
       "    }\n",
       "\n",
       "    .dataframe tbody tr th {\n",
       "        vertical-align: top;\n",
       "    }\n",
       "\n",
       "    .dataframe thead th {\n",
       "        text-align: right;\n",
       "    }\n",
       "</style>\n",
       "<table border=\"1\" class=\"dataframe\">\n",
       "  <thead>\n",
       "    <tr style=\"text-align: right;\">\n",
       "      <th></th>\n",
       "      <th>age</th>\n",
       "      <th>cp</th>\n",
       "      <th>trestbps</th>\n",
       "      <th>chol</th>\n",
       "      <th>fbs</th>\n",
       "      <th>restecg</th>\n",
       "      <th>thalach</th>\n",
       "      <th>exang</th>\n",
       "      <th>oldpeak</th>\n",
       "      <th>slope</th>\n",
       "      <th>heart_disease</th>\n",
       "    </tr>\n",
       "  </thead>\n",
       "  <tbody>\n",
       "    <tr>\n",
       "      <th>1</th>\n",
       "      <td>62.0</td>\n",
       "      <td>4.0</td>\n",
       "      <td>140.0</td>\n",
       "      <td>268.000</td>\n",
       "      <td>0.0</td>\n",
       "      <td>2.0</td>\n",
       "      <td>160.0</td>\n",
       "      <td>0.0</td>\n",
       "      <td>3.6</td>\n",
       "      <td>3.0</td>\n",
       "      <td>3.0</td>\n",
       "    </tr>\n",
       "    <tr>\n",
       "      <th>25</th>\n",
       "      <td>62.0</td>\n",
       "      <td>4.0</td>\n",
       "      <td>160.0</td>\n",
       "      <td>164.000</td>\n",
       "      <td>0.0</td>\n",
       "      <td>2.0</td>\n",
       "      <td>145.0</td>\n",
       "      <td>0.0</td>\n",
       "      <td>6.2</td>\n",
       "      <td>3.0</td>\n",
       "      <td>3.0</td>\n",
       "    </tr>\n",
       "    <tr>\n",
       "      <th>32</th>\n",
       "      <td>43.0</td>\n",
       "      <td>4.0</td>\n",
       "      <td>132.0</td>\n",
       "      <td>341.000</td>\n",
       "      <td>1.0</td>\n",
       "      <td>2.0</td>\n",
       "      <td>136.0</td>\n",
       "      <td>1.0</td>\n",
       "      <td>3.0</td>\n",
       "      <td>2.0</td>\n",
       "      <td>2.0</td>\n",
       "    </tr>\n",
       "    <tr>\n",
       "      <th>35</th>\n",
       "      <td>63.0</td>\n",
       "      <td>4.0</td>\n",
       "      <td>150.0</td>\n",
       "      <td>407.000</td>\n",
       "      <td>0.0</td>\n",
       "      <td>2.0</td>\n",
       "      <td>154.0</td>\n",
       "      <td>0.0</td>\n",
       "      <td>4.0</td>\n",
       "      <td>2.0</td>\n",
       "      <td>4.0</td>\n",
       "    </tr>\n",
       "    <tr>\n",
       "      <th>37</th>\n",
       "      <td>56.0</td>\n",
       "      <td>4.0</td>\n",
       "      <td>170.0</td>\n",
       "      <td>288.000</td>\n",
       "      <td>1.0</td>\n",
       "      <td>2.0</td>\n",
       "      <td>133.0</td>\n",
       "      <td>1.0</td>\n",
       "      <td>4.0</td>\n",
       "      <td>3.0</td>\n",
       "      <td>3.0</td>\n",
       "    </tr>\n",
       "    <tr>\n",
       "      <th>73</th>\n",
       "      <td>55.0</td>\n",
       "      <td>4.0</td>\n",
       "      <td>170.0</td>\n",
       "      <td>327.000</td>\n",
       "      <td>0.0</td>\n",
       "      <td>1.0</td>\n",
       "      <td>117.0</td>\n",
       "      <td>1.0</td>\n",
       "      <td>3.4</td>\n",
       "      <td>2.0</td>\n",
       "      <td>2.0</td>\n",
       "    </tr>\n",
       "    <tr>\n",
       "      <th>92</th>\n",
       "      <td>58.0</td>\n",
       "      <td>4.0</td>\n",
       "      <td>170.0</td>\n",
       "      <td>225.000</td>\n",
       "      <td>1.0</td>\n",
       "      <td>2.0</td>\n",
       "      <td>146.0</td>\n",
       "      <td>1.0</td>\n",
       "      <td>2.8</td>\n",
       "      <td>2.0</td>\n",
       "      <td>2.0</td>\n",
       "    </tr>\n",
       "    <tr>\n",
       "      <th>178</th>\n",
       "      <td>38.0</td>\n",
       "      <td>4.0</td>\n",
       "      <td>105.0</td>\n",
       "      <td>79.875</td>\n",
       "      <td>-0.1</td>\n",
       "      <td>0.0</td>\n",
       "      <td>166.0</td>\n",
       "      <td>0.0</td>\n",
       "      <td>2.8</td>\n",
       "      <td>1.0</td>\n",
       "      <td>2.0</td>\n",
       "    </tr>\n",
       "  </tbody>\n",
       "</table>\n",
       "</div>"
      ],
      "text/plain": [
       "      age   cp  trestbps     chol  fbs  restecg  thalach  exang  oldpeak  \\\n",
       "1    62.0  4.0     140.0  268.000  0.0      2.0    160.0    0.0      3.6   \n",
       "25   62.0  4.0     160.0  164.000  0.0      2.0    145.0    0.0      6.2   \n",
       "32   43.0  4.0     132.0  341.000  1.0      2.0    136.0    1.0      3.0   \n",
       "35   63.0  4.0     150.0  407.000  0.0      2.0    154.0    0.0      4.0   \n",
       "37   56.0  4.0     170.0  288.000  1.0      2.0    133.0    1.0      4.0   \n",
       "73   55.0  4.0     170.0  327.000  0.0      1.0    117.0    1.0      3.4   \n",
       "92   58.0  4.0     170.0  225.000  1.0      2.0    146.0    1.0      2.8   \n",
       "178  38.0  4.0     105.0   79.875 -0.1      0.0    166.0    0.0      2.8   \n",
       "\n",
       "     slope  heart_disease  \n",
       "1      3.0            3.0  \n",
       "25     3.0            3.0  \n",
       "32     2.0            2.0  \n",
       "35     2.0            4.0  \n",
       "37     3.0            3.0  \n",
       "73     2.0            2.0  \n",
       "92     2.0            2.0  \n",
       "178    1.0            2.0  "
      ]
     },
     "execution_count": 159,
     "metadata": {},
     "output_type": "execute_result"
    }
   ],
   "source": [
    "cardiovascular_female[cardiovascular_female['oldpeak'] > upper_limit]"
   ]
  },
  {
   "cell_type": "code",
   "execution_count": 160,
   "id": "f80a19e3",
   "metadata": {},
   "outputs": [
    {
     "data": {
      "text/html": [
       "<div>\n",
       "<style scoped>\n",
       "    .dataframe tbody tr th:only-of-type {\n",
       "        vertical-align: middle;\n",
       "    }\n",
       "\n",
       "    .dataframe tbody tr th {\n",
       "        vertical-align: top;\n",
       "    }\n",
       "\n",
       "    .dataframe thead th {\n",
       "        text-align: right;\n",
       "    }\n",
       "</style>\n",
       "<table border=\"1\" class=\"dataframe\">\n",
       "  <thead>\n",
       "    <tr style=\"text-align: right;\">\n",
       "      <th></th>\n",
       "      <th>age</th>\n",
       "      <th>cp</th>\n",
       "      <th>trestbps</th>\n",
       "      <th>chol</th>\n",
       "      <th>fbs</th>\n",
       "      <th>restecg</th>\n",
       "      <th>thalach</th>\n",
       "      <th>exang</th>\n",
       "      <th>oldpeak</th>\n",
       "      <th>slope</th>\n",
       "      <th>heart_disease</th>\n",
       "    </tr>\n",
       "  </thead>\n",
       "  <tbody>\n",
       "  </tbody>\n",
       "</table>\n",
       "</div>"
      ],
      "text/plain": [
       "Empty DataFrame\n",
       "Columns: [age, cp, trestbps, chol, fbs, restecg, thalach, exang, oldpeak, slope, heart_disease]\n",
       "Index: []"
      ]
     },
     "execution_count": 160,
     "metadata": {},
     "output_type": "execute_result"
    }
   ],
   "source": [
    "cardiovascular_female[cardiovascular_female['oldpeak'] < lower_limit]"
   ]
  },
  {
   "cell_type": "code",
   "execution_count": 161,
   "id": "9ed8c441",
   "metadata": {},
   "outputs": [],
   "source": [
    "cardiovascular_female['oldpeak'] = np.where(\n",
    "    cardiovascular_female['oldpeak'] > upper_limit,\n",
    "    upper_limit,\n",
    "    np.where(\n",
    "        cardiovascular_female['oldpeak'] < lower_limit,\n",
    "        lower_limit,\n",
    "        cardiovascular_female['oldpeak']\n",
    "    )\n",
    ")"
   ]
  },
  {
   "cell_type": "code",
   "execution_count": 162,
   "id": "98d4c5d2",
   "metadata": {},
   "outputs": [
    {
     "data": {
      "text/plain": [
       "<Axes: >"
      ]
     },
     "execution_count": 162,
     "metadata": {},
     "output_type": "execute_result"
    },
    {
     "data": {
      "image/png": "[encoded data removed]",
      "text/plain": [
       "<Figure size 640x480 with 1 Axes>"
      ]
     },
     "metadata": {},
     "output_type": "display_data"
    }
   ],
   "source": [
    "sns.boxplot(cardiovascular_female['oldpeak'])"
   ]
  },
  {
   "cell_type": "code",
   "execution_count": 163,
   "id": "f1521aa6",
   "metadata": {},
   "outputs": [
    {
     "data": {
      "text/plain": [
       "0.7896358543417367"
      ]
     },
     "execution_count": 163,
     "metadata": {},
     "output_type": "execute_result"
    }
   ],
   "source": [
    "cardiovascular.oldpeak.mean()"
   ]
  },
  {
   "cell_type": "markdown",
   "id": "e91180d9",
   "metadata": {},
   "source": [
    "### The slope of the peak exercise ST segment"
   ]
  },
  {
   "cell_type": "code",
   "execution_count": 164,
   "id": "91fb1a47",
   "metadata": {},
   "outputs": [
    {
     "data": {
      "text/plain": [
       "<Axes: >"
      ]
     },
     "execution_count": 164,
     "metadata": {},
     "output_type": "execute_result"
    },
    {
     "data": {
      "image/png": "[encoded data removed]",
      "text/plain": [
       "<Figure size 640x480 with 1 Axes>"
      ]
     },
     "metadata": {},
     "output_type": "display_data"
    }
   ],
   "source": [
    "sns.boxplot(cardiovascular_female['slope'])"
   ]
  },
  {
   "cell_type": "markdown",
   "id": "b8f8fc38",
   "metadata": {},
   "source": [
    "There are no outliers in slope."
   ]
  },
  {
   "cell_type": "code",
   "execution_count": 165,
   "id": "fff8bcd6",
   "metadata": {},
   "outputs": [],
   "source": [
    "### The occurrence of disease"
   ]
  },
  {
   "cell_type": "code",
   "execution_count": 166,
   "id": "26f549ed",
   "metadata": {},
   "outputs": [
    {
     "data": {
      "text/plain": [
       "<Axes: >"
      ]
     },
     "execution_count": 166,
     "metadata": {},
     "output_type": "execute_result"
    },
    {
     "data": {
      "image/png": "[encoded data removed]",
      "text/plain": [
       "<Figure size 640x480 with 1 Axes>"
      ]
     },
     "metadata": {},
     "output_type": "display_data"
    }
   ],
   "source": [
    "sns.boxplot(cardiovascular_female['heart_disease'])"
   ]
  },
  {
   "cell_type": "markdown",
   "id": "70330d61",
   "metadata": {},
   "source": [
    "## Splitting the female dataset"
   ]
  },
  {
   "cell_type": "code",
   "execution_count": 167,
   "id": "eac23d11",
   "metadata": {},
   "outputs": [],
   "source": [
    "X = cardiovascular_female.drop(\"heart_disease\",axis=1)\n",
    "Y = cardiovascular_female[\"heart_disease\"]"
   ]
  },
  {
   "cell_type": "code",
   "execution_count": 168,
   "id": "265a66b9",
   "metadata": {},
   "outputs": [
    {
     "data": {
      "text/plain": [
       "((131, 10), (57, 10))"
      ]
     },
     "execution_count": 168,
     "metadata": {},
     "output_type": "execute_result"
    }
   ],
   "source": [
    "# Seperate dataset into train and test\n",
    "\n",
    "from sklearn.model_selection import train_test_split\n",
    "\n",
    "X_train,X_test,Y_train,Y_test = train_test_split(\n",
    "    X,\n",
    "    Y,\n",
    "    test_size = 0.3,\n",
    "    random_state = 0)\n",
    "X_train.shape, X_test.shape"
   ]
  },
  {
   "cell_type": "code",
   "execution_count": 169,
   "id": "13d3c08e",
   "metadata": {},
   "outputs": [
    {
     "data": {
      "image/png": "[encoded data removed]",
      "text/plain": [
       "<Figure size 1000x1000 with 2 Axes>"
      ]
     },
     "metadata": {},
     "output_type": "display_data"
    }
   ],
   "source": [
    "from pylab import *\n",
    "import seaborn as sns\n",
    "import matplotlib.pyplot as plt\n",
    "# Using Pearson Correlation\n",
    "\n",
    "plt.figure(figsize=(10,10))\n",
    "cor = X_train.corr()\n",
    "sns.heatmap(cor, annot=True, cmap=plt.cm.CMRmap_r)\n",
    "plt.show()"
   ]
  },
  {
   "cell_type": "code",
   "execution_count": 170,
   "id": "6076df05",
   "metadata": {},
   "outputs": [
    {
     "name": "stdout",
     "output_type": "stream",
     "text": [
      "X_train (131, 10)\n",
      "X_test (57, 10)\n",
      "Y_train (131,)\n",
      "Y_test (57,)\n"
     ]
    }
   ],
   "source": [
    "print('X_train',X_train.shape)\n",
    "print('X_test',X_test.shape)\n",
    "print('Y_train',Y_train.shape)\n",
    "print('Y_test',Y_test.shape)"
   ]
  },
  {
   "cell_type": "code",
   "execution_count": 171,
   "id": "92c6e8ba",
   "metadata": {},
   "outputs": [],
   "source": [
    "import pandas as pd\n",
    "import numpy as np\n",
    "import matplotlib.pyplot as plt\n",
    "import seaborn as sns\n",
    "from sklearn.model_selection import train_test_split\n",
    "from sklearn.tree import DecisionTreeClassifier\n",
    "from sklearn.ensemble import RandomForestClassifier, BaggingClassifier, RandomForestRegressor\n",
    "from sklearn import tree\n",
    "from sklearn.linear_model import LogisticRegression\n",
    "from sklearn.metrics import accuracy_score, precision_score, recall_score, f1_score, roc_auc_score"
   ]
  },
  {
   "cell_type": "code",
   "execution_count": 172,
   "id": "756c4442",
   "metadata": {},
   "outputs": [
    {
     "name": "stdout",
     "output_type": "stream",
     "text": [
      "Accuracy score for default random forest: 82.456%\n"
     ]
    }
   ],
   "source": [
    "# SAMPLE RANDOM FOREST\n",
    "rf = RandomForestClassifier()\n",
    "rf.fit(X_train, Y_train)\n",
    "rf.score(X_test, Y_test)\n",
    "print(f'Accuracy score for default random forest: {round(rf.score(X_test, Y_test)*100,3)}%')"
   ]
  },
  {
   "cell_type": "code",
   "execution_count": 173,
   "id": "ad6ec5e7",
   "metadata": {},
   "outputs": [],
   "source": [
    "#Tune the hyperparameter max_depth over a range from 1-25, save scores for test and train set\n",
    "np.random.seed(0)\n",
    "accuracy_train=[]\n",
    "accuracy_test = []\n",
    "depths = range(1,26)\n",
    "for i in depths:\n",
    "    rf = RandomForestClassifier(max_depth=i)\n",
    "    rf.fit(X_train, Y_train)\n",
    "    y_pred = rf.predict(X_test)\n",
    "    accuracy_test.append(accuracy_score(Y_test, rf.predict(X_test)))\n",
    "    accuracy_train.append(accuracy_score(Y_train, rf.predict(X_train)))"
   ]
  },
  {
   "cell_type": "code",
   "execution_count": 174,
   "id": "b337db90",
   "metadata": {},
   "outputs": [
    {
     "name": "stdout",
     "output_type": "stream",
     "text": [
      "The highest accuracy on the test is achieved when depth: 9\n",
      "The highest accuracy on the test set is: 87.719%\n"
     ]
    }
   ],
   "source": [
    "#Find the best accuracy and at what depth that occurs\n",
    "best_acc= np.max(accuracy_test)\n",
    "best_depth = depths[np.argmax(accuracy_test)]\n",
    "print(f'The highest accuracy on the test is achieved when depth: {best_depth}')\n",
    "print(f'The highest accuracy on the test set is: {round(best_acc*100,3)}%')"
   ]
  },
  {
   "cell_type": "code",
   "execution_count": 177,
   "id": "4a698474",
   "metadata": {},
   "outputs": [
    {
     "data": {
      "image/png": "[encoded data removed]",
      "text/plain": [
       "<Figure size 640x480 with 1 Axes>"
      ]
     },
     "metadata": {},
     "output_type": "display_data"
    }
   ],
   "source": [
    "#Plot the accuracy scores for the test and train set over the range of depth values\n",
    "plt.plot(depths, accuracy_test,'bo--',depths, accuracy_train,'r*:')\n",
    "plt.legend(['test accuracy', 'train accuracy'])\n",
    "plt.xlabel('max depth')\n",
    "plt.ylabel('accuracy')\n",
    "plt.show()"
   ]
  },
  {
   "cell_type": "code",
   "execution_count": 176,
   "id": "9a44daaf",
   "metadata": {},
   "outputs": [
    {
     "name": "stdout",
     "output_type": "stream",
     "text": [
      "Top 5 random forest features:\n",
      "   feature  importance\n",
      "3     chol    0.181149\n",
      "8  oldpeak    0.133287\n",
      "0      age    0.129462\n",
      "6  thalach    0.111885\n",
      "7    exang    0.098301\n"
     ]
    }
   ],
   "source": [
    "#Save the best random forest model and save the feature importances in a dataframe\n",
    "best_rf = RandomForestClassifier(max_depth=best_depth)\n",
    "best_rf.fit(X_train, Y_train)\n",
    "feature_imp_df = pd.DataFrame(zip(X_train.columns, best_rf.feature_importances_),  columns=['feature', 'importance'])\n",
    "print('Top 5 random forest features:')\n",
    "print(feature_imp_df.sort_values('importance', ascending=False).iloc[0:5])"
   ]
  },
  {
   "cell_type": "markdown",
   "id": "8328819a",
   "metadata": {},
   "source": [
    "## Relationship between age and chest pain type"
   ]
  },
  {
   "cell_type": "code",
   "execution_count": 58,
   "id": "697e980c",
   "metadata": {},
   "outputs": [
    {
     "data": {
      "text/plain": [
       "Text(0.5, 1.0, 'Relationship between age and chest pain type')"
      ]
     },
     "execution_count": 58,
     "metadata": {},
     "output_type": "execute_result"
    },
    {
     "data": {
      "image/png": "[encoded data removed]",
      "text/plain": [
       "<Figure size 640x480 with 1 Axes>"
      ]
     },
     "metadata": {},
     "output_type": "display_data"
    }
   ],
   "source": [
    "# Boxplot between age and chest pain type\n",
    "sns.boxplot(data=cardiovascular, x=\"cp\", y=\"age\")\n",
    "plt.title(\"Relationship between age and chest pain type\")"
   ]
  },
  {
   "cell_type": "markdown",
   "id": "ffb8860e",
   "metadata": {},
   "source": [
    "Since the all the boxplots are overlapping, we can conclude that there is no association between age and chest pain type."
   ]
  },
  {
   "cell_type": "markdown",
   "id": "2440d96b",
   "metadata": {},
   "source": [
    "## Relationship between age and trestbps"
   ]
  },
  {
   "cell_type": "code",
   "execution_count": 65,
   "id": "fdc89f74",
   "metadata": {},
   "outputs": [
    {
     "data": {
      "text/plain": [
       "array([145.        , 160.        , 120.        , 130.        ,\n",
       "       140.        , 172.        , 150.        , 110.        ,\n",
       "       132.        , 117.        , 135.        , 112.        ,\n",
       "       105.        , 124.        , 125.        , 142.        ,\n",
       "       128.        , 170.        , 155.        , 104.        ,\n",
       "       180.        , 138.        , 108.        , 134.        ,\n",
       "       122.        , 115.        , 118.        , 100.        ,\n",
       "       200.        ,  94.        , 165.        , 102.        ,\n",
       "       152.        , 101.        , 126.        , 174.        ,\n",
       "       148.        , 178.        , 158.        , 192.        ,\n",
       "       129.        , 144.        , 123.        , 136.        ,\n",
       "       146.        , 106.        , 156.        , 154.        ,\n",
       "       114.        , 164.        ,  98.        , 190.        ,\n",
       "       131.80474198, 113.        ,  92.        ,  95.        ,\n",
       "        80.        , 185.        ])"
      ]
     },
     "execution_count": 65,
     "metadata": {},
     "output_type": "execute_result"
    }
   ],
   "source": [
    "# Fill the nan with mean value\n",
    "cardiovascular.trestbps.unique()"
   ]
  },
  {
   "cell_type": "code",
   "execution_count": 66,
   "id": "c2c75cff",
   "metadata": {},
   "outputs": [
    {
     "data": {
      "text/plain": [
       "131.8047419804742"
      ]
     },
     "execution_count": 66,
     "metadata": {},
     "output_type": "execute_result"
    }
   ],
   "source": [
    "# Check the mean of trestbps\n",
    "mean_trestbps = cardiovascular.trestbps.mean()\n",
    "mean_trestbps"
   ]
  },
  {
   "cell_type": "code",
   "execution_count": 67,
   "id": "8b9b8bad",
   "metadata": {},
   "outputs": [],
   "source": [
    "cardiovascular.trestbps = cardiovascular.trestbps.fillna(mean_trestbps)"
   ]
  },
  {
   "cell_type": "code",
   "execution_count": 68,
   "id": "ac371713",
   "metadata": {},
   "outputs": [
    {
     "data": {
      "text/plain": [
       "131.8047419804742"
      ]
     },
     "execution_count": 68,
     "metadata": {},
     "output_type": "execute_result"
    }
   ],
   "source": [
    "cardiovascular.trestbps.mean()"
   ]
  },
  {
   "cell_type": "code",
   "execution_count": 69,
   "id": "e00aa04a",
   "metadata": {},
   "outputs": [
    {
     "data": {
      "text/plain": [
       "array([145.        , 160.        , 120.        , 130.        ,\n",
       "       140.        , 172.        , 150.        , 110.        ,\n",
       "       132.        , 117.        , 135.        , 112.        ,\n",
       "       105.        , 124.        , 125.        , 142.        ,\n",
       "       128.        , 170.        , 155.        , 104.        ,\n",
       "       180.        , 138.        , 108.        , 134.        ,\n",
       "       122.        , 115.        , 118.        , 100.        ,\n",
       "       200.        ,  94.        , 165.        , 102.        ,\n",
       "       152.        , 101.        , 126.        , 174.        ,\n",
       "       148.        , 178.        , 158.        , 192.        ,\n",
       "       129.        , 144.        , 123.        , 136.        ,\n",
       "       146.        , 106.        , 156.        , 154.        ,\n",
       "       114.        , 164.        ,  98.        , 190.        ,\n",
       "       131.80474198, 113.        ,  92.        ,  95.        ,\n",
       "        80.        , 185.        ])"
      ]
     },
     "execution_count": 69,
     "metadata": {},
     "output_type": "execute_result"
    }
   ],
   "source": [
    "cardiovascular.trestbps.unique()"
   ]
  },
  {
   "cell_type": "code",
   "execution_count": 70,
   "id": "3361d6e6",
   "metadata": {},
   "outputs": [
    {
     "data": {
      "image/png": "[encoded data removed]",
      "text/plain": [
       "<Figure size 640x480 with 1 Axes>"
      ]
     },
     "metadata": {},
     "output_type": "display_data"
    }
   ],
   "source": [
    "# Scatter Plot\n",
    "plt.scatter(x=cardiovascular.age, y=cardiovascular.trestbps)\n",
    "plt.title(\"Association between age and resting blood pressure\")\n",
    "plt.xlabel(\"Age\")\n",
    "plt.ylabel(\"Resting Blood Pressure\")\n",
    "plt.show()"
   ]
  },
  {
   "cell_type": "code",
   "execution_count": 71,
   "id": "2a31368c",
   "metadata": {},
   "outputs": [
    {
     "name": "stdout",
     "output_type": "stream",
     "text": [
      "[[ 84.5244939   42.68589762]\n",
      " [ 42.68589762 341.90356589]]\n"
     ]
    }
   ],
   "source": [
    "# Covariance\n",
    "cov_age_trestbps = np.cov(cardiovascular.age, cardiovascular.trestbps)\n",
    "print(cov_age_trestbps)"
   ]
  },
  {
   "cell_type": "markdown",
   "id": "48f38103",
   "metadata": {},
   "source": [
    "Here, covariance is 42.68. Therefore, we can conclude that there is positive covariance between the age and resting blood pressure i.e. large value of one variable is associated with a large value of another variable."
   ]
  },
  {
   "cell_type": "code",
   "execution_count": 72,
   "id": "54b67f34",
   "metadata": {},
   "outputs": [
    {
     "name": "stdout",
     "output_type": "stream",
     "text": [
      "0.251096878459736\n",
      "8.158201571673368e-12\n"
     ]
    }
   ],
   "source": [
    "# Correlation\n",
    "from scipy.stats import pearsonr\n",
    "corr_age_trestbps, p  = pearsonr(cardiovascular.age, cardiovascular.trestbps)\n",
    "print(corr_age_trestbps)\n",
    "print(p)"
   ]
  },
  {
   "cell_type": "markdown",
   "id": "a711103f",
   "metadata": {},
   "source": [
    "Since, corr < 0.3, we can conclude that there is no linear relation between the age and resting blood pressure.\n",
    "Simce, p value is very low therefore, this correlation is more likely genuine and due to chance."
   ]
  },
  {
   "cell_type": "markdown",
   "id": "f36160e3",
   "metadata": {},
   "source": [
    "## Relation between age and serum cholestoral"
   ]
  },
  {
   "cell_type": "code",
   "execution_count": 73,
   "id": "4e0a28e9",
   "metadata": {},
   "outputs": [
    {
     "data": {
      "text/plain": [
       "array([233., 286., 229., 250., 204., 236., 268., 354., 254., 203., 192.,\n",
       "       294., 256., 263., 199., 168., 239., 275., 266., 211., 283., 284.,\n",
       "       224., 206., 219., 340., 226., 247., 167., 230., 335., 234., 177.,\n",
       "       276., 353., 243., 225., 302., 212., 330., 175., 417., 197., 198.,\n",
       "       290., 253., 172., 273., 213., 305., 216., 304., 188., 282., 185.,\n",
       "       232., 326., 231., 269., 267., 248., 360., 258., 308., 245., 270.,\n",
       "       208., 264., 321., 274., 325., 235., 257., 164., 141., 252., 255.,\n",
       "       201., 222., 260., 182., 303., 265., 309., 307., 249., 186., 341.,\n",
       "       183., 407., 217., 288., 220., 209., 227., 261., 174., 281., 221.,\n",
       "       205., 240., 289., 318., 298., 564., 246., 322., 299., 300., 293.,\n",
       "       277., 214., 207., 223., 160., 394., 184., 315., 409., 244., 195.,\n",
       "       196., 126., 313., 259., 200., 262., 215., 228., 193., 271., 210.,\n",
       "       327., 149., 295., 306., 178., 237., 218., 242., 319., 166., 180.,\n",
       "       311., 278., 342., 169., 187., 157., 176., 241., 131., 132.,  nan,\n",
       "       161., 173., 194., 297., 292., 339., 147., 291., 358., 412., 238.,\n",
       "       163., 280., 202., 328., 129., 190., 179., 272., 100., 468., 320.,\n",
       "       312., 171., 365., 344.,  85., 347., 251., 287., 156., 117., 466.,\n",
       "       338., 529., 392., 329., 355., 603., 404., 518., 285., 279., 388.,\n",
       "       336., 491., 331., 393.,   0.])"
      ]
     },
     "execution_count": 73,
     "metadata": {},
     "output_type": "execute_result"
    }
   ],
   "source": [
    "cardiovascular.chol.unique()"
   ]
  },
  {
   "cell_type": "code",
   "execution_count": 74,
   "id": "ac648d9e",
   "metadata": {},
   "outputs": [
    {
     "data": {
      "text/plain": [
       "0.0"
      ]
     },
     "execution_count": 74,
     "metadata": {},
     "output_type": "execute_result"
    }
   ],
   "source": [
    "cardiovascular.chol.min()"
   ]
  },
  {
   "cell_type": "code",
   "execution_count": 75,
   "id": "624175cb",
   "metadata": {},
   "outputs": [
    {
     "data": {
      "text/plain": [
       "603.0"
      ]
     },
     "execution_count": 75,
     "metadata": {},
     "output_type": "execute_result"
    }
   ],
   "source": [
    "cardiovascular.chol.max()"
   ]
  },
  {
   "cell_type": "code",
   "execution_count": 76,
   "id": "cf7e5d39",
   "metadata": {},
   "outputs": [
    {
     "data": {
      "image/png": "[encoded data removed]",
      "text/plain": [
       "<Figure size 640x480 with 1 Axes>"
      ]
     },
     "metadata": {},
     "output_type": "display_data"
    }
   ],
   "source": [
    "# Scatter Plot\n",
    "plt.scatter(x=cardiovascular.age, y=cardiovascular.chol)\n",
    "plt.title(\"Association between age and serum cholestoral\")\n",
    "plt.xlabel(\"Age\")\n",
    "plt.ylabel(\"Serum Cholestoral\")\n",
    "plt.show()"
   ]
  },
  {
   "cell_type": "code",
   "execution_count": 221,
   "id": "92b93c7e",
   "metadata": {},
   "outputs": [
    {
     "name": "stdout",
     "output_type": "stream",
     "text": [
      "[[84.5244939        nan]\n",
      " [       nan        nan]]\n"
     ]
    }
   ],
   "source": [
    "# Covariance\n",
    "cov_age_chol = np.cov(cardiovascular.age, cardiovascular.chol)\n",
    "print(cov_age_chol)"
   ]
  },
  {
   "cell_type": "code",
   "execution_count": 222,
   "id": "ec29c90b",
   "metadata": {},
   "outputs": [
    {
     "data": {
      "text/plain": [
       "204.77474892395983"
      ]
     },
     "execution_count": 222,
     "metadata": {},
     "output_type": "execute_result"
    }
   ],
   "source": [
    "cardiovascular.chol.mean()"
   ]
  },
  {
   "cell_type": "code",
   "execution_count": null,
   "id": "e14280dc",
   "metadata": {},
   "outputs": [],
   "source": []
  },
  {
   "cell_type": "code",
   "execution_count": 223,
   "id": "a629b289",
   "metadata": {},
   "outputs": [
    {
     "name": "stdout",
     "output_type": "stream",
     "text": [
      "<class 'pandas.core.series.Series'>\n",
      "RangeIndex: 720 entries, 0 to 719\n",
      "Series name: chol\n",
      "Non-Null Count  Dtype  \n",
      "--------------  -----  \n",
      "697 non-null    float64\n",
      "dtypes: float64(1)\n",
      "memory usage: 5.8 KB\n"
     ]
    }
   ],
   "source": [
    "cardiovascular.chol.info()"
   ]
  },
  {
   "cell_type": "code",
   "execution_count": 78,
   "id": "2416c08c",
   "metadata": {},
   "outputs": [
    {
     "data": {
      "text/plain": [
       "204.77474892395983"
      ]
     },
     "execution_count": 78,
     "metadata": {},
     "output_type": "execute_result"
    }
   ],
   "source": [
    "chol_mean = cardiovascular.chol.mean()\n",
    "chol_mean"
   ]
  },
  {
   "cell_type": "code",
   "execution_count": 79,
   "id": "2ec39444",
   "metadata": {},
   "outputs": [
    {
     "data": {
      "text/plain": [
       "227.0"
      ]
     },
     "execution_count": 79,
     "metadata": {},
     "output_type": "execute_result"
    }
   ],
   "source": [
    "chol_median = cardiovascular.chol.median()\n",
    "chol_median"
   ]
  },
  {
   "cell_type": "code",
   "execution_count": 80,
   "id": "a11c4b1e",
   "metadata": {},
   "outputs": [],
   "source": [
    "cardiovascular.chol = cardiovascular.chol.fillna(chol_median)"
   ]
  },
  {
   "cell_type": "code",
   "execution_count": 81,
   "id": "e89adb6a",
   "metadata": {},
   "outputs": [
    {
     "data": {
      "image/png": "[encoded data removed]",
      "text/plain": [
       "<Figure size 640x480 with 1 Axes>"
      ]
     },
     "metadata": {},
     "output_type": "display_data"
    }
   ],
   "source": [
    "# Scatter Plot\n",
    "plt.scatter(x=cardiovascular.age, y=cardiovascular.chol)\n",
    "plt.title(\"Association between age and serum cholestoral\")\n",
    "plt.xlabel(\"Age\")\n",
    "plt.ylabel(\"Serum Cholestoral\")\n",
    "plt.show()"
   ]
  },
  {
   "cell_type": "code",
   "execution_count": 82,
   "id": "f3ec001b",
   "metadata": {},
   "outputs": [
    {
     "data": {
      "text/plain": [
       "array([233., 286., 229., 250., 204., 236., 268., 354., 254., 203., 192.,\n",
       "       294., 256., 263., 199., 168., 239., 275., 266., 211., 283., 284.,\n",
       "       224., 206., 219., 340., 226., 247., 167., 230., 335., 234., 177.,\n",
       "       276., 353., 243., 225., 302., 212., 330., 175., 417., 197., 198.,\n",
       "       290., 253., 172., 273., 213., 305., 216., 304., 188., 282., 185.,\n",
       "       232., 326., 231., 269., 267., 248., 360., 258., 308., 245., 270.,\n",
       "       208., 264., 321., 274., 325., 235., 257., 164., 141., 252., 255.,\n",
       "       201., 222., 260., 182., 303., 265., 309., 307., 249., 186., 341.,\n",
       "       183., 407., 217., 288., 220., 209., 227., 261., 174., 281., 221.,\n",
       "       205., 240., 289., 318., 298., 564., 246., 322., 299., 300., 293.,\n",
       "       277., 214., 207., 223., 160., 394., 184., 315., 409., 244., 195.,\n",
       "       196., 126., 313., 259., 200., 262., 215., 228., 193., 271., 210.,\n",
       "       327., 149., 295., 306., 178., 237., 218., 242., 319., 166., 180.,\n",
       "       311., 278., 342., 169., 187., 157., 176., 241., 131., 132., 161.,\n",
       "       173., 194., 297., 292., 339., 147., 291., 358., 412., 238., 163.,\n",
       "       280., 202., 328., 129., 190., 179., 272., 100., 468., 320., 312.,\n",
       "       171., 365., 344.,  85., 347., 251., 287., 156., 117., 466., 338.,\n",
       "       529., 392., 329., 355., 603., 404., 518., 285., 279., 388., 336.,\n",
       "       491., 331., 393.,   0.])"
      ]
     },
     "execution_count": 82,
     "metadata": {},
     "output_type": "execute_result"
    }
   ],
   "source": [
    "cardiovascular.chol.unique()"
   ]
  },
  {
   "cell_type": "markdown",
   "id": "a295ac74",
   "metadata": {},
   "source": [
    "## Relation between age and Fasting Blood Pressure"
   ]
  },
  {
   "cell_type": "code",
   "execution_count": null,
   "id": "d6cd484b",
   "metadata": {},
   "outputs": [],
   "source": []
  }
 ],
 "metadata": {
  "kernelspec": {
   "display_name": "Python 3 (ipykernel)",
   "language": "python",
   "name": "python3"
  },
  "language_info": {
   "codemirror_mode": {
    "name": "ipython",
    "version": 3
   },
   "file_extension": ".py",
   "mimetype": "text/x-python",
   "name": "python",
   "nbconvert_exporter": "python",
   "pygments_lexer": "ipython3",
   "version": "3.11.3"
  }
 },
 "nbformat": 4,
 "nbformat_minor": 5
}
